{
  "nbformat": 4,
  "nbformat_minor": 0,
  "metadata": {
    "colab": {
      "name": "InDirect_From_Source_StarterNotebook.ipynb",
      "provenance": []
    },
    "kernelspec": {
      "name": "python3",
      "display_name": "Python 3"
    },
    "language_info": {
      "name": "python"
    }
  },
  "cells": [
    {
      "cell_type": "markdown",
      "metadata": {
        "id": "r14Ucu7PPPTy"
      },
      "source": [
        "# (In)Direct from the Source\n",
        "\n",
        "link: https://xeek.ai/challenges/in-direct-from-the-source/overview"
      ]
    },
    {
      "cell_type": "code",
      "metadata": {
        "id": "jID7Um7LvS1w"
      },
      "source": [
        "%matplotlib inline\n",
        "import numpy as np\n",
        "import pandas as pd\n",
        "import matplotlib.pyplot as plt\n",
        "\n",
        "import matplotlib.image as mpimg\n",
        "import seaborn as sns\n",
        "\n",
        "sns.set_style(\"whitegrid\")"
      ],
      "execution_count": 98,
      "outputs": []
    },
    {
      "cell_type": "markdown",
      "metadata": {
        "id": "noN4JWQrP1LE"
      },
      "source": [
        "# Предобработка данных"
      ]
    },
    {
      "cell_type": "markdown",
      "metadata": {
        "id": "0k2MnBE5P7tX"
      },
      "source": [
        "## Загрузка данных и визуализация"
      ]
    },
    {
      "cell_type": "code",
      "metadata": {
        "colab": {
          "base_uri": "https://localhost:8080/",
          "height": 248
        },
        "id": "oLROd2OeQD90",
        "outputId": "7bcdd6ed-b8bd-416f-d3e8-cfa40e1dac47"
      },
      "source": [
        "df = pd.read_csv('train.csv', index_col=0)\n",
        "df.head(5)"
      ],
      "execution_count": 99,
      "outputs": [
        {
          "output_type": "execute_result",
          "data": {
            "text/html": [
              "<div>\n",
              "<style scoped>\n",
              "    .dataframe tbody tr th:only-of-type {\n",
              "        vertical-align: middle;\n",
              "    }\n",
              "\n",
              "    .dataframe tbody tr th {\n",
              "        vertical-align: top;\n",
              "    }\n",
              "\n",
              "    .dataframe thead th {\n",
              "        text-align: right;\n",
              "    }\n",
              "</style>\n",
              "<table border=\"1\" class=\"dataframe\">\n",
              "  <thead>\n",
              "    <tr style=\"text-align: right;\">\n",
              "      <th></th>\n",
              "      <th>Lab</th>\n",
              "      <th>y</th>\n",
              "      <th>x</th>\n",
              "      <th>19</th>\n",
              "      <th>20</th>\n",
              "      <th>21</th>\n",
              "      <th>22</th>\n",
              "      <th>23</th>\n",
              "      <th>24</th>\n",
              "      <th>25</th>\n",
              "      <th>26</th>\n",
              "      <th>27</th>\n",
              "      <th>28</th>\n",
              "      <th>29</th>\n",
              "      <th>30</th>\n",
              "      <th>31</th>\n",
              "      <th>32</th>\n",
              "      <th>OL</th>\n",
              "      <th>GA</th>\n",
              "    </tr>\n",
              "    <tr>\n",
              "      <th>Sample</th>\n",
              "      <th></th>\n",
              "      <th></th>\n",
              "      <th></th>\n",
              "      <th></th>\n",
              "      <th></th>\n",
              "      <th></th>\n",
              "      <th></th>\n",
              "      <th></th>\n",
              "      <th></th>\n",
              "      <th></th>\n",
              "      <th></th>\n",
              "      <th></th>\n",
              "      <th></th>\n",
              "      <th></th>\n",
              "      <th></th>\n",
              "      <th></th>\n",
              "      <th></th>\n",
              "      <th></th>\n",
              "      <th></th>\n",
              "    </tr>\n",
              "  </thead>\n",
              "  <tbody>\n",
              "    <tr>\n",
              "      <th>0</th>\n",
              "      <td>Lab_2</td>\n",
              "      <td>380</td>\n",
              "      <td>590</td>\n",
              "      <td>20.763486</td>\n",
              "      <td>13.947363</td>\n",
              "      <td>1.952259</td>\n",
              "      <td>16.486101</td>\n",
              "      <td>0.000000</td>\n",
              "      <td>4.700927</td>\n",
              "      <td>0.000000</td>\n",
              "      <td>22.170079</td>\n",
              "      <td>9.838302</td>\n",
              "      <td>0.000000</td>\n",
              "      <td>9.655032</td>\n",
              "      <td>4.117457</td>\n",
              "      <td>1.156801</td>\n",
              "      <td>25.926844</td>\n",
              "      <td>6.734488</td>\n",
              "      <td>4.471749</td>\n",
              "    </tr>\n",
              "    <tr>\n",
              "      <th>1</th>\n",
              "      <td>Lab_1</td>\n",
              "      <td>140</td>\n",
              "      <td>470</td>\n",
              "      <td>118.643361</td>\n",
              "      <td>130.716833</td>\n",
              "      <td>1152.234830</td>\n",
              "      <td>0.000000</td>\n",
              "      <td>0.000000</td>\n",
              "      <td>97.190520</td>\n",
              "      <td>183.275260</td>\n",
              "      <td>172.616987</td>\n",
              "      <td>74.513555</td>\n",
              "      <td>227.625892</td>\n",
              "      <td>85.241758</td>\n",
              "      <td>23.851172</td>\n",
              "      <td>0.000000</td>\n",
              "      <td>200.715642</td>\n",
              "      <td>75.290342</td>\n",
              "      <td>0.000000</td>\n",
              "    </tr>\n",
              "    <tr>\n",
              "      <th>2</th>\n",
              "      <td>Lab_1</td>\n",
              "      <td>350</td>\n",
              "      <td>440</td>\n",
              "      <td>123.998274</td>\n",
              "      <td>119.186570</td>\n",
              "      <td>0.000000</td>\n",
              "      <td>157.329488</td>\n",
              "      <td>9.416534</td>\n",
              "      <td>66.115133</td>\n",
              "      <td>116.153357</td>\n",
              "      <td>141.570068</td>\n",
              "      <td>0.000000</td>\n",
              "      <td>195.406313</td>\n",
              "      <td>51.625043</td>\n",
              "      <td>19.935382</td>\n",
              "      <td>57.203727</td>\n",
              "      <td>0.000000</td>\n",
              "      <td>42.262010</td>\n",
              "      <td>33.352354</td>\n",
              "    </tr>\n",
              "    <tr>\n",
              "      <th>3</th>\n",
              "      <td>Lab_2</td>\n",
              "      <td>790</td>\n",
              "      <td>160</td>\n",
              "      <td>13.753847</td>\n",
              "      <td>18.599869</td>\n",
              "      <td>1555.472651</td>\n",
              "      <td>9.205427</td>\n",
              "      <td>7.676030</td>\n",
              "      <td>23.369460</td>\n",
              "      <td>18.861401</td>\n",
              "      <td>0.000000</td>\n",
              "      <td>6.889721</td>\n",
              "      <td>18.959263</td>\n",
              "      <td>6.308057</td>\n",
              "      <td>8.018402</td>\n",
              "      <td>0.000000</td>\n",
              "      <td>18.181328</td>\n",
              "      <td>5.072130</td>\n",
              "      <td>15.635603</td>\n",
              "    </tr>\n",
              "    <tr>\n",
              "      <th>4</th>\n",
              "      <td>Lab_3</td>\n",
              "      <td>240</td>\n",
              "      <td>600</td>\n",
              "      <td>22.143712</td>\n",
              "      <td>20.548714</td>\n",
              "      <td>5.660628</td>\n",
              "      <td>21.590330</td>\n",
              "      <td>7.199149</td>\n",
              "      <td>16.221228</td>\n",
              "      <td>28.281983</td>\n",
              "      <td>24.309612</td>\n",
              "      <td>7.921879</td>\n",
              "      <td>31.266928</td>\n",
              "      <td>15.366561</td>\n",
              "      <td>6.013449</td>\n",
              "      <td>5.000000</td>\n",
              "      <td>25.824537</td>\n",
              "      <td>17.897014</td>\n",
              "      <td>7.305632</td>\n",
              "    </tr>\n",
              "  </tbody>\n",
              "</table>\n",
              "</div>"
            ],
            "text/plain": [
              "          Lab    y    x  ...          32         OL         GA\n",
              "Sample                   ...                                  \n",
              "0       Lab_2  380  590  ...   25.926844   6.734488   4.471749\n",
              "1       Lab_1  140  470  ...  200.715642  75.290342   0.000000\n",
              "2       Lab_1  350  440  ...    0.000000  42.262010  33.352354\n",
              "3       Lab_2  790  160  ...   18.181328   5.072130  15.635603\n",
              "4       Lab_3  240  600  ...   25.824537  17.897014   7.305632\n",
              "\n",
              "[5 rows x 19 columns]"
            ]
          },
          "metadata": {
            "tags": []
          },
          "execution_count": 99
        }
      ]
    },
    {
      "cell_type": "code",
      "metadata": {
        "colab": {
          "base_uri": "https://localhost:8080/"
        },
        "id": "70Th95UeRK_F",
        "outputId": "04c81dd5-c506-4535-a026-f6e8747d5533"
      },
      "source": [
        "df.info()"
      ],
      "execution_count": 100,
      "outputs": [
        {
          "output_type": "stream",
          "text": [
            "<class 'pandas.core.frame.DataFrame'>\n",
            "Int64Index: 80 entries, 0 to 79\n",
            "Data columns (total 19 columns):\n",
            " #   Column  Non-Null Count  Dtype  \n",
            "---  ------  --------------  -----  \n",
            " 0   Lab     80 non-null     object \n",
            " 1   y       80 non-null     int64  \n",
            " 2   x       80 non-null     int64  \n",
            " 3   19      80 non-null     float64\n",
            " 4   20      80 non-null     float64\n",
            " 5   21      80 non-null     float64\n",
            " 6   22      80 non-null     float64\n",
            " 7   23      80 non-null     float64\n",
            " 8   24      80 non-null     float64\n",
            " 9   25      80 non-null     float64\n",
            " 10  26      80 non-null     float64\n",
            " 11  27      80 non-null     float64\n",
            " 12  28      80 non-null     float64\n",
            " 13  29      80 non-null     float64\n",
            " 14  30      80 non-null     float64\n",
            " 15  31      80 non-null     float64\n",
            " 16  32      80 non-null     float64\n",
            " 17  OL      80 non-null     float64\n",
            " 18  GA      80 non-null     float64\n",
            "dtypes: float64(16), int64(2), object(1)\n",
            "memory usage: 12.5+ KB\n"
          ],
          "name": "stdout"
        }
      ]
    },
    {
      "cell_type": "code",
      "metadata": {
        "colab": {
          "base_uri": "https://localhost:8080/",
          "height": 308
        },
        "id": "sDaj7pbGRdlC",
        "outputId": "0ac5e498-193b-4472-b63c-1d2d3d0b712a"
      },
      "source": [
        "df.iloc[:, 3:].describe()"
      ],
      "execution_count": 101,
      "outputs": [
        {
          "output_type": "execute_result",
          "data": {
            "text/html": [
              "<div>\n",
              "<style scoped>\n",
              "    .dataframe tbody tr th:only-of-type {\n",
              "        vertical-align: middle;\n",
              "    }\n",
              "\n",
              "    .dataframe tbody tr th {\n",
              "        vertical-align: top;\n",
              "    }\n",
              "\n",
              "    .dataframe thead th {\n",
              "        text-align: right;\n",
              "    }\n",
              "</style>\n",
              "<table border=\"1\" class=\"dataframe\">\n",
              "  <thead>\n",
              "    <tr style=\"text-align: right;\">\n",
              "      <th></th>\n",
              "      <th>19</th>\n",
              "      <th>20</th>\n",
              "      <th>21</th>\n",
              "      <th>22</th>\n",
              "      <th>23</th>\n",
              "      <th>24</th>\n",
              "      <th>25</th>\n",
              "      <th>26</th>\n",
              "      <th>27</th>\n",
              "      <th>28</th>\n",
              "      <th>29</th>\n",
              "      <th>30</th>\n",
              "      <th>31</th>\n",
              "      <th>32</th>\n",
              "      <th>OL</th>\n",
              "      <th>GA</th>\n",
              "    </tr>\n",
              "  </thead>\n",
              "  <tbody>\n",
              "    <tr>\n",
              "      <th>count</th>\n",
              "      <td>80.000000</td>\n",
              "      <td>80.000000</td>\n",
              "      <td>80.000000</td>\n",
              "      <td>80.000000</td>\n",
              "      <td>80.000000</td>\n",
              "      <td>80.000000</td>\n",
              "      <td>80.000000</td>\n",
              "      <td>80.000000</td>\n",
              "      <td>80.000000</td>\n",
              "      <td>80.000000</td>\n",
              "      <td>80.000000</td>\n",
              "      <td>80.000000</td>\n",
              "      <td>80.000000</td>\n",
              "      <td>80.000000</td>\n",
              "      <td>80.000000</td>\n",
              "      <td>80.000000</td>\n",
              "    </tr>\n",
              "    <tr>\n",
              "      <th>mean</th>\n",
              "      <td>53.995146</td>\n",
              "      <td>52.968057</td>\n",
              "      <td>287.763588</td>\n",
              "      <td>54.686017</td>\n",
              "      <td>13.374795</td>\n",
              "      <td>39.686747</td>\n",
              "      <td>70.218122</td>\n",
              "      <td>55.719074</td>\n",
              "      <td>30.570730</td>\n",
              "      <td>81.303271</td>\n",
              "      <td>31.744038</td>\n",
              "      <td>17.346608</td>\n",
              "      <td>33.190267</td>\n",
              "      <td>78.360287</td>\n",
              "      <td>28.098199</td>\n",
              "      <td>25.735842</td>\n",
              "    </tr>\n",
              "    <tr>\n",
              "      <th>std</th>\n",
              "      <td>64.575781</td>\n",
              "      <td>62.583759</td>\n",
              "      <td>575.647700</td>\n",
              "      <td>79.729861</td>\n",
              "      <td>27.541256</td>\n",
              "      <td>59.887212</td>\n",
              "      <td>86.898960</td>\n",
              "      <td>82.839628</td>\n",
              "      <td>41.420514</td>\n",
              "      <td>100.482545</td>\n",
              "      <td>39.134086</td>\n",
              "      <td>33.874675</td>\n",
              "      <td>57.960619</td>\n",
              "      <td>102.807647</td>\n",
              "      <td>44.964391</td>\n",
              "      <td>36.576167</td>\n",
              "    </tr>\n",
              "    <tr>\n",
              "      <th>min</th>\n",
              "      <td>0.000000</td>\n",
              "      <td>0.000000</td>\n",
              "      <td>0.000000</td>\n",
              "      <td>0.000000</td>\n",
              "      <td>0.000000</td>\n",
              "      <td>0.000000</td>\n",
              "      <td>0.000000</td>\n",
              "      <td>0.000000</td>\n",
              "      <td>0.000000</td>\n",
              "      <td>0.000000</td>\n",
              "      <td>0.000000</td>\n",
              "      <td>0.000000</td>\n",
              "      <td>0.000000</td>\n",
              "      <td>0.000000</td>\n",
              "      <td>0.000000</td>\n",
              "      <td>0.000000</td>\n",
              "    </tr>\n",
              "    <tr>\n",
              "      <th>25%</th>\n",
              "      <td>13.955240</td>\n",
              "      <td>13.947340</td>\n",
              "      <td>1.847332</td>\n",
              "      <td>12.323100</td>\n",
              "      <td>0.000000</td>\n",
              "      <td>7.514420</td>\n",
              "      <td>18.153328</td>\n",
              "      <td>5.369135</td>\n",
              "      <td>7.079891</td>\n",
              "      <td>19.858095</td>\n",
              "      <td>8.424155</td>\n",
              "      <td>0.000000</td>\n",
              "      <td>1.127810</td>\n",
              "      <td>18.661496</td>\n",
              "      <td>5.404262</td>\n",
              "      <td>5.885416</td>\n",
              "    </tr>\n",
              "    <tr>\n",
              "      <th>50%</th>\n",
              "      <td>19.717639</td>\n",
              "      <td>18.656664</td>\n",
              "      <td>19.773146</td>\n",
              "      <td>19.017512</td>\n",
              "      <td>4.496834</td>\n",
              "      <td>14.876283</td>\n",
              "      <td>24.385117</td>\n",
              "      <td>19.463490</td>\n",
              "      <td>11.279139</td>\n",
              "      <td>28.120272</td>\n",
              "      <td>12.274339</td>\n",
              "      <td>6.322978</td>\n",
              "      <td>9.323648</td>\n",
              "      <td>24.761190</td>\n",
              "      <td>11.412859</td>\n",
              "      <td>10.679740</td>\n",
              "    </tr>\n",
              "    <tr>\n",
              "      <th>75%</th>\n",
              "      <td>86.117004</td>\n",
              "      <td>84.275014</td>\n",
              "      <td>71.622264</td>\n",
              "      <td>58.213985</td>\n",
              "      <td>12.023862</td>\n",
              "      <td>32.364590</td>\n",
              "      <td>101.696603</td>\n",
              "      <td>61.247270</td>\n",
              "      <td>36.263517</td>\n",
              "      <td>135.197831</td>\n",
              "      <td>48.606449</td>\n",
              "      <td>16.581016</td>\n",
              "      <td>36.212735</td>\n",
              "      <td>95.262570</td>\n",
              "      <td>23.804677</td>\n",
              "      <td>32.555426</td>\n",
              "    </tr>\n",
              "    <tr>\n",
              "      <th>max</th>\n",
              "      <td>276.742729</td>\n",
              "      <td>204.535055</td>\n",
              "      <td>1963.937864</td>\n",
              "      <td>300.249803</td>\n",
              "      <td>142.603083</td>\n",
              "      <td>305.725491</td>\n",
              "      <td>294.231638</td>\n",
              "      <td>314.820700</td>\n",
              "      <td>210.388790</td>\n",
              "      <td>360.174141</td>\n",
              "      <td>163.308784</td>\n",
              "      <td>198.654188</td>\n",
              "      <td>280.562580</td>\n",
              "      <td>381.847757</td>\n",
              "      <td>223.921967</td>\n",
              "      <td>197.737442</td>\n",
              "    </tr>\n",
              "  </tbody>\n",
              "</table>\n",
              "</div>"
            ],
            "text/plain": [
              "               19          20           21  ...          32          OL          GA\n",
              "count   80.000000   80.000000    80.000000  ...   80.000000   80.000000   80.000000\n",
              "mean    53.995146   52.968057   287.763588  ...   78.360287   28.098199   25.735842\n",
              "std     64.575781   62.583759   575.647700  ...  102.807647   44.964391   36.576167\n",
              "min      0.000000    0.000000     0.000000  ...    0.000000    0.000000    0.000000\n",
              "25%     13.955240   13.947340     1.847332  ...   18.661496    5.404262    5.885416\n",
              "50%     19.717639   18.656664    19.773146  ...   24.761190   11.412859   10.679740\n",
              "75%     86.117004   84.275014    71.622264  ...   95.262570   23.804677   32.555426\n",
              "max    276.742729  204.535055  1963.937864  ...  381.847757  223.921967  197.737442\n",
              "\n",
              "[8 rows x 16 columns]"
            ]
          },
          "metadata": {
            "tags": []
          },
          "execution_count": 101
        }
      ]
    },
    {
      "cell_type": "markdown",
      "metadata": {
        "id": "2a2XZfHCRoQG"
      },
      "source": [
        "Заметим что каждая переменная имеет как минимум один ноль, и что переменная 21 имеет наибольшее стандартное отклонение"
      ]
    },
    {
      "cell_type": "markdown",
      "metadata": {
        "id": "XILT0iA_SMhn"
      },
      "source": [
        "Посмотрим на хромограф образца:"
      ]
    },
    {
      "cell_type": "code",
      "metadata": {
        "colab": {
          "base_uri": "https://localhost:8080/",
          "height": 295
        },
        "id": "oEqVs13HR1oQ",
        "outputId": "ecefdc96-8d0b-4ec7-f31f-8208e4d76081"
      },
      "source": [
        "fig = plt.figure()\n",
        "plt.plot(df.iloc[0, 3:])\n",
        "plt.title(f\"Oil Chromatograph for Sample 0\")\n",
        "plt.ylabel('Relative Abundance')\n",
        "plt.xlabel('Hydrocarbon Peaks')\n",
        "plt.show()"
      ],
      "execution_count": 102,
      "outputs": [
        {
          "output_type": "display_data",
          "data": {
            "image/png": "[encoded data removed]",
            "text/plain": [
              "<Figure size 432x288 with 1 Axes>"
            ]
          },
          "metadata": {
            "tags": []
          }
        }
      ]
    },
    {
      "cell_type": "markdown",
      "metadata": {
        "id": "SXEri1UYXK5N"
      },
      "source": [
        "Заметим, что данные потребуется нормализовать"
      ]
    },
    {
      "cell_type": "markdown",
      "metadata": {
        "id": "SLUHNlSdSvxp"
      },
      "source": [
        "Посмотрим на 3 разные лаборатории по образцам:"
      ]
    },
    {
      "cell_type": "code",
      "metadata": {
        "colab": {
          "base_uri": "https://localhost:8080/",
          "height": 295
        },
        "id": "wu1MlSlPSLad",
        "outputId": "3aeb30a1-d435-4a35-ceb6-b528928acaf0"
      },
      "source": [
        "lab = [1,2,3]\n",
        "fig = plt.figure()\n",
        "for i in [1,0,4]:\n",
        "    plt.plot(df.iloc[i, 3:])\n",
        "    \n",
        "plt.title(f\"Oil Chromatograph for Samples {lab}\")\n",
        "plt.ylabel('Relative Abundance')\n",
        "plt.xlabel('Hydrocarbon Peaks')\n",
        "plt.legend(lab, loc='upper right')\n",
        "plt.show()"
      ],
      "execution_count": 103,
      "outputs": [
        {
          "output_type": "display_data",
          "data": {
            "image/png": "[encoded data removed]",
            "text/plain": [
              "<Figure size 432x288 with 1 Axes>"
            ]
          },
          "metadata": {
            "tags": []
          }
        }
      ]
    },
    {
      "cell_type": "markdown",
      "metadata": {
        "id": "CBy85ArjXa56"
      },
      "source": [
        "Заметим, что потребуется избавиться от выбросов в столбце 21"
      ]
    },
    {
      "cell_type": "markdown",
      "metadata": {
        "id": "PKGzeljeT4YW"
      },
      "source": [
        "## Очистка данных"
      ]
    },
    {
      "cell_type": "markdown",
      "metadata": {
        "id": "LprLO6tsUDb4"
      },
      "source": [
        "Нулям присвоим среднее значение по столбцам выборки"
      ]
    },
    {
      "cell_type": "code",
      "metadata": {
        "colab": {
          "base_uri": "https://localhost:8080/",
          "height": 248
        },
        "id": "DCz23A4_T095",
        "outputId": "4d3f54d0-4360-4f98-e447-dc3d97ba79a2"
      },
      "source": [
        "df=df.mask(df == 0, np.nan).fillna(df.mean())\n",
        "df.head(5)"
      ],
      "execution_count": 104,
      "outputs": [
        {
          "output_type": "execute_result",
          "data": {
            "text/html": [
              "<div>\n",
              "<style scoped>\n",
              "    .dataframe tbody tr th:only-of-type {\n",
              "        vertical-align: middle;\n",
              "    }\n",
              "\n",
              "    .dataframe tbody tr th {\n",
              "        vertical-align: top;\n",
              "    }\n",
              "\n",
              "    .dataframe thead th {\n",
              "        text-align: right;\n",
              "    }\n",
              "</style>\n",
              "<table border=\"1\" class=\"dataframe\">\n",
              "  <thead>\n",
              "    <tr style=\"text-align: right;\">\n",
              "      <th></th>\n",
              "      <th>Lab</th>\n",
              "      <th>y</th>\n",
              "      <th>x</th>\n",
              "      <th>19</th>\n",
              "      <th>20</th>\n",
              "      <th>21</th>\n",
              "      <th>22</th>\n",
              "      <th>23</th>\n",
              "      <th>24</th>\n",
              "      <th>25</th>\n",
              "      <th>26</th>\n",
              "      <th>27</th>\n",
              "      <th>28</th>\n",
              "      <th>29</th>\n",
              "      <th>30</th>\n",
              "      <th>31</th>\n",
              "      <th>32</th>\n",
              "      <th>OL</th>\n",
              "      <th>GA</th>\n",
              "    </tr>\n",
              "    <tr>\n",
              "      <th>Sample</th>\n",
              "      <th></th>\n",
              "      <th></th>\n",
              "      <th></th>\n",
              "      <th></th>\n",
              "      <th></th>\n",
              "      <th></th>\n",
              "      <th></th>\n",
              "      <th></th>\n",
              "      <th></th>\n",
              "      <th></th>\n",
              "      <th></th>\n",
              "      <th></th>\n",
              "      <th></th>\n",
              "      <th></th>\n",
              "      <th></th>\n",
              "      <th></th>\n",
              "      <th></th>\n",
              "      <th></th>\n",
              "      <th></th>\n",
              "    </tr>\n",
              "  </thead>\n",
              "  <tbody>\n",
              "    <tr>\n",
              "      <th>0</th>\n",
              "      <td>Lab_2</td>\n",
              "      <td>380</td>\n",
              "      <td>590</td>\n",
              "      <td>20.763486</td>\n",
              "      <td>13.947363</td>\n",
              "      <td>1.952259</td>\n",
              "      <td>16.486101</td>\n",
              "      <td>13.374795</td>\n",
              "      <td>4.700927</td>\n",
              "      <td>70.218122</td>\n",
              "      <td>22.170079</td>\n",
              "      <td>9.838302</td>\n",
              "      <td>81.303271</td>\n",
              "      <td>9.655032</td>\n",
              "      <td>4.117457</td>\n",
              "      <td>1.156801</td>\n",
              "      <td>25.926844</td>\n",
              "      <td>6.734488</td>\n",
              "      <td>4.471749</td>\n",
              "    </tr>\n",
              "    <tr>\n",
              "      <th>1</th>\n",
              "      <td>Lab_1</td>\n",
              "      <td>140</td>\n",
              "      <td>470</td>\n",
              "      <td>118.643361</td>\n",
              "      <td>130.716833</td>\n",
              "      <td>1152.234830</td>\n",
              "      <td>54.686017</td>\n",
              "      <td>13.374795</td>\n",
              "      <td>97.190520</td>\n",
              "      <td>183.275260</td>\n",
              "      <td>172.616987</td>\n",
              "      <td>74.513555</td>\n",
              "      <td>227.625892</td>\n",
              "      <td>85.241758</td>\n",
              "      <td>23.851172</td>\n",
              "      <td>33.190267</td>\n",
              "      <td>200.715642</td>\n",
              "      <td>75.290342</td>\n",
              "      <td>25.735842</td>\n",
              "    </tr>\n",
              "    <tr>\n",
              "      <th>2</th>\n",
              "      <td>Lab_1</td>\n",
              "      <td>350</td>\n",
              "      <td>440</td>\n",
              "      <td>123.998274</td>\n",
              "      <td>119.186570</td>\n",
              "      <td>287.763588</td>\n",
              "      <td>157.329488</td>\n",
              "      <td>9.416534</td>\n",
              "      <td>66.115133</td>\n",
              "      <td>116.153357</td>\n",
              "      <td>141.570068</td>\n",
              "      <td>30.570730</td>\n",
              "      <td>195.406313</td>\n",
              "      <td>51.625043</td>\n",
              "      <td>19.935382</td>\n",
              "      <td>57.203727</td>\n",
              "      <td>78.360287</td>\n",
              "      <td>42.262010</td>\n",
              "      <td>33.352354</td>\n",
              "    </tr>\n",
              "    <tr>\n",
              "      <th>3</th>\n",
              "      <td>Lab_2</td>\n",
              "      <td>790</td>\n",
              "      <td>160</td>\n",
              "      <td>13.753847</td>\n",
              "      <td>18.599869</td>\n",
              "      <td>1555.472651</td>\n",
              "      <td>9.205427</td>\n",
              "      <td>7.676030</td>\n",
              "      <td>23.369460</td>\n",
              "      <td>18.861401</td>\n",
              "      <td>55.719074</td>\n",
              "      <td>6.889721</td>\n",
              "      <td>18.959263</td>\n",
              "      <td>6.308057</td>\n",
              "      <td>8.018402</td>\n",
              "      <td>33.190267</td>\n",
              "      <td>18.181328</td>\n",
              "      <td>5.072130</td>\n",
              "      <td>15.635603</td>\n",
              "    </tr>\n",
              "    <tr>\n",
              "      <th>4</th>\n",
              "      <td>Lab_3</td>\n",
              "      <td>240</td>\n",
              "      <td>600</td>\n",
              "      <td>22.143712</td>\n",
              "      <td>20.548714</td>\n",
              "      <td>5.660628</td>\n",
              "      <td>21.590330</td>\n",
              "      <td>7.199149</td>\n",
              "      <td>16.221228</td>\n",
              "      <td>28.281983</td>\n",
              "      <td>24.309612</td>\n",
              "      <td>7.921879</td>\n",
              "      <td>31.266928</td>\n",
              "      <td>15.366561</td>\n",
              "      <td>6.013449</td>\n",
              "      <td>5.000000</td>\n",
              "      <td>25.824537</td>\n",
              "      <td>17.897014</td>\n",
              "      <td>7.305632</td>\n",
              "    </tr>\n",
              "  </tbody>\n",
              "</table>\n",
              "</div>"
            ],
            "text/plain": [
              "          Lab    y    x  ...          32         OL         GA\n",
              "Sample                   ...                                  \n",
              "0       Lab_2  380  590  ...   25.926844   6.734488   4.471749\n",
              "1       Lab_1  140  470  ...  200.715642  75.290342  25.735842\n",
              "2       Lab_1  350  440  ...   78.360287  42.262010  33.352354\n",
              "3       Lab_2  790  160  ...   18.181328   5.072130  15.635603\n",
              "4       Lab_3  240  600  ...   25.824537  17.897014   7.305632\n",
              "\n",
              "[5 rows x 19 columns]"
            ]
          },
          "metadata": {
            "tags": []
          },
          "execution_count": 104
        }
      ]
    },
    {
      "cell_type": "markdown",
      "metadata": {
        "id": "yS3Ew_FXVIVv"
      },
      "source": [
        "Уменьшим выбросы в столбце 21:"
      ]
    },
    {
      "cell_type": "code",
      "metadata": {
        "colab": {
          "base_uri": "https://localhost:8080/",
          "height": 283
        },
        "id": "qRTm3hyTVHh0",
        "outputId": "04374329-9ed6-4ff8-d6d4-ddebf7733cbd"
      },
      "source": [
        "df.boxplot('21')"
      ],
      "execution_count": 105,
      "outputs": [
        {
          "output_type": "execute_result",
          "data": {
            "text/plain": [
              "<matplotlib.axes._subplots.AxesSubplot at 0x7f387b20bb10>"
            ]
          },
          "metadata": {
            "tags": []
          },
          "execution_count": 105
        },
        {
          "output_type": "display_data",
          "data": {
            "image/png": "[encoded data removed]",
            "text/plain": [
              "<Figure size 432x288 with 1 Axes>"
            ]
          },
          "metadata": {
            "tags": []
          }
        }
      ]
    },
    {
      "cell_type": "code",
      "metadata": {
        "id": "kFyflRI1WXUc"
      },
      "source": [
        "for x in ['21']:\n",
        "    q75,q25 = np.percentile(df.loc[:,x],[75,25])\n",
        "    intr_qr = q75-q25\n",
        "\n",
        "    max = q75+(1.5*intr_qr)\n",
        "    min = q25-(1.5*intr_qr)\n",
        "\n",
        "    df.loc[df[x] < min,x] = min\n",
        "    df.loc[df[x] > max,x] = max"
      ],
      "execution_count": 106,
      "outputs": []
    },
    {
      "cell_type": "code",
      "metadata": {
        "colab": {
          "base_uri": "https://localhost:8080/",
          "height": 283
        },
        "id": "YUIHdqRAWgao",
        "outputId": "96cba7ca-1524-4979-92a2-652e135045a8"
      },
      "source": [
        "df.boxplot('21')"
      ],
      "execution_count": 107,
      "outputs": [
        {
          "output_type": "execute_result",
          "data": {
            "text/plain": [
              "<matplotlib.axes._subplots.AxesSubplot at 0x7f387b1f6ed0>"
            ]
          },
          "metadata": {
            "tags": []
          },
          "execution_count": 107
        },
        {
          "output_type": "display_data",
          "data": {
            "image/png": "[encoded data removed]",
            "text/plain": [
              "<Figure size 432x288 with 1 Axes>"
            ]
          },
          "metadata": {
            "tags": []
          }
        }
      ]
    },
    {
      "cell_type": "markdown",
      "metadata": {
        "id": "yeo_FyrSWylU"
      },
      "source": [
        "Масштабируем данные:"
      ]
    },
    {
      "cell_type": "code",
      "metadata": {
        "colab": {
          "base_uri": "https://localhost:8080/"
        },
        "id": "Sg1Cg4d6W5B7",
        "outputId": "27c021fc-bf42-4f0a-d9b7-224e60c431a5"
      },
      "source": [
        "from sklearn.preprocessing import StandardScaler\n",
        "\n",
        "scaler = StandardScaler()\n",
        "scaler.fit(df.iloc[:, 3:])\n",
        "df_test = scaler.transform(df.iloc[:, 3:])\n",
        "df_test"
      ],
      "execution_count": 108,
      "outputs": [
        {
          "output_type": "execute_result",
          "data": {
            "text/plain": [
              "array([[-0.61247781, -0.77445317, -0.79673386, ..., -0.61000184,\n",
              "        -0.57288453, -0.68657918],\n",
              "       [ 0.9669531 ,  1.20690345,  1.9595306 , ...,  1.15907769,\n",
              "         1.00593087, -0.0822803 ],\n",
              "       [ 1.05336223,  1.01125675,  0.32178448, ..., -0.07931033,\n",
              "         0.24530086,  0.13417143],\n",
              "       ...,\n",
              "       [ 2.7189316 ,  2.23333865, -0.57039589, ...,  2.1408912 ,\n",
              "         2.38560913,  1.04170128],\n",
              "       [ 2.21969965,  1.71969003,  0.32178448, ...,  1.06916962,\n",
              "         3.35571162, -0.0822803 ],\n",
              "       [ 0.9669531 ,  1.20690345,  1.9595306 , ...,  1.15907769,\n",
              "         1.00593087, -0.0822803 ]])"
            ]
          },
          "metadata": {
            "tags": []
          },
          "execution_count": 108
        }
      ]
    },
    {
      "cell_type": "markdown",
      "metadata": {
        "id": "cF4MxxrzYGaU"
      },
      "source": [
        "# Создание тестовых данных"
      ]
    },
    {
      "cell_type": "markdown",
      "metadata": {
        "id": "lzhn6bF1YABy"
      },
      "source": [
        "Примерных данных геохимии недостаточно для построения модели, слишком маленькой и без меток. Следовательно, нам нужно создать набор синтетических геохимических данных с метками и подходящего размера. Затем этот синтетический набор данных можно использовать для обучения модели."
      ]
    },
    {
      "cell_type": "markdown",
      "metadata": {
        "id": "aPVsmB7cYzGo"
      },
      "source": [
        "Синтетический набор будем создавать на основе файла, содержащего среднее и стандартное отклонение для каждого столбца (19-GA) для четырех нефтяных семей."
      ]
    },
    {
      "cell_type": "markdown",
      "metadata": {
        "id": "cTbGGfhEaUy2"
      },
      "source": [
        "## Создание синтетического набора данных"
      ]
    },
    {
      "cell_type": "code",
      "metadata": {
        "colab": {
          "base_uri": "https://localhost:8080/",
          "height": 407
        },
        "id": "zZyzGG2GYPF3",
        "outputId": "2cd629c6-e28f-48a9-efbd-2c4c2dab1e69"
      },
      "source": [
        "geochem_database = pd.read_csv('global_ranges_oil_families.csv')\n",
        "geochem_database"
      ],
      "execution_count": 109,
      "outputs": [
        {
          "output_type": "execute_result",
          "data": {
            "text/html": [
              "<div>\n",
              "<style scoped>\n",
              "    .dataframe tbody tr th:only-of-type {\n",
              "        vertical-align: middle;\n",
              "    }\n",
              "\n",
              "    .dataframe tbody tr th {\n",
              "        vertical-align: top;\n",
              "    }\n",
              "\n",
              "    .dataframe thead th {\n",
              "        text-align: right;\n",
              "    }\n",
              "</style>\n",
              "<table border=\"1\" class=\"dataframe\">\n",
              "  <thead>\n",
              "    <tr style=\"text-align: right;\">\n",
              "      <th></th>\n",
              "      <th>Parameter</th>\n",
              "      <th>mean</th>\n",
              "      <th>stdev</th>\n",
              "      <th>family</th>\n",
              "    </tr>\n",
              "  </thead>\n",
              "  <tbody>\n",
              "    <tr>\n",
              "      <th>0</th>\n",
              "      <td>19</td>\n",
              "      <td>22.015064</td>\n",
              "      <td>3.147094</td>\n",
              "      <td>I_Ordovician</td>\n",
              "    </tr>\n",
              "    <tr>\n",
              "      <th>1</th>\n",
              "      <td>20</td>\n",
              "      <td>14.784672</td>\n",
              "      <td>7.595627</td>\n",
              "      <td>I_Ordovician</td>\n",
              "    </tr>\n",
              "    <tr>\n",
              "      <th>2</th>\n",
              "      <td>21</td>\n",
              "      <td>1.708241</td>\n",
              "      <td>0.857020</td>\n",
              "      <td>I_Ordovician</td>\n",
              "    </tr>\n",
              "    <tr>\n",
              "      <th>3</th>\n",
              "      <td>22</td>\n",
              "      <td>16.744960</td>\n",
              "      <td>3.123742</td>\n",
              "      <td>I_Ordovician</td>\n",
              "    </tr>\n",
              "    <tr>\n",
              "      <th>4</th>\n",
              "      <td>23</td>\n",
              "      <td>1.826882</td>\n",
              "      <td>2.855366</td>\n",
              "      <td>I_Ordovician</td>\n",
              "    </tr>\n",
              "    <tr>\n",
              "      <th>...</th>\n",
              "      <td>...</td>\n",
              "      <td>...</td>\n",
              "      <td>...</td>\n",
              "      <td>...</td>\n",
              "    </tr>\n",
              "    <tr>\n",
              "      <th>59</th>\n",
              "      <td>30</td>\n",
              "      <td>2.743475</td>\n",
              "      <td>3.586975</td>\n",
              "      <td>II_Marine</td>\n",
              "    </tr>\n",
              "    <tr>\n",
              "      <th>60</th>\n",
              "      <td>31</td>\n",
              "      <td>2.082343</td>\n",
              "      <td>3.910173</td>\n",
              "      <td>II_Marine</td>\n",
              "    </tr>\n",
              "    <tr>\n",
              "      <th>61</th>\n",
              "      <td>32</td>\n",
              "      <td>23.424840</td>\n",
              "      <td>3.187926</td>\n",
              "      <td>II_Marine</td>\n",
              "    </tr>\n",
              "    <tr>\n",
              "      <th>62</th>\n",
              "      <td>OL</td>\n",
              "      <td>6.450078</td>\n",
              "      <td>3.734864</td>\n",
              "      <td>II_Marine</td>\n",
              "    </tr>\n",
              "    <tr>\n",
              "      <th>63</th>\n",
              "      <td>GA</td>\n",
              "      <td>4.654524</td>\n",
              "      <td>1.461354</td>\n",
              "      <td>II_Marine</td>\n",
              "    </tr>\n",
              "  </tbody>\n",
              "</table>\n",
              "<p>64 rows × 4 columns</p>\n",
              "</div>"
            ],
            "text/plain": [
              "   Parameter       mean     stdev        family\n",
              "0         19  22.015064  3.147094  I_Ordovician\n",
              "1         20  14.784672  7.595627  I_Ordovician\n",
              "2         21   1.708241  0.857020  I_Ordovician\n",
              "3         22  16.744960  3.123742  I_Ordovician\n",
              "4         23   1.826882  2.855366  I_Ordovician\n",
              "..       ...        ...       ...           ...\n",
              "59        30   2.743475  3.586975     II_Marine\n",
              "60        31   2.082343  3.910173     II_Marine\n",
              "61        32  23.424840  3.187926     II_Marine\n",
              "62        OL   6.450078  3.734864     II_Marine\n",
              "63        GA   4.654524  1.461354     II_Marine\n",
              "\n",
              "[64 rows x 4 columns]"
            ]
          },
          "metadata": {
            "tags": []
          },
          "execution_count": 109
        }
      ]
    },
    {
      "cell_type": "markdown",
      "metadata": {
        "id": "6wlgPOowZjBu"
      },
      "source": [
        "Для набора обучающих данных вам понадобится не менее 100 строк каждого типа семейства, поэтому требуется построить функцию, которая будет генерировать синтетический набор."
      ]
    },
    {
      "cell_type": "code",
      "metadata": {
        "id": "8-2gezV5Z5MU"
      },
      "source": [
        "synthetic_X = []\n",
        "synthetic_y = []\n",
        "families = []\n",
        "\n",
        "families.append(geochem_database.iloc[:16])\n",
        "families.append(geochem_database.iloc[16:32])\n",
        "families.append(geochem_database.iloc[32:48])\n",
        "families.append(geochem_database.iloc[48:64])\n",
        "\n",
        "\n",
        "for family in range(4):\n",
        "    for i in range(100):\n",
        "        synthetic = []\n",
        "        for i in range(families[family].shape[0]):\n",
        "            x = np.random.normal(families[family].iloc[i,1], families[family].iloc[i,2])\n",
        "            synthetic.append(x)\n",
        "        synthetic_X.append(synthetic)\n",
        "        synthetic_y.append(family)"
      ],
      "execution_count": 110,
      "outputs": []
    },
    {
      "cell_type": "markdown",
      "metadata": {
        "id": "ui1dpYnIabbz"
      },
      "source": [
        "## Разделение данных и масштабирование"
      ]
    },
    {
      "cell_type": "code",
      "metadata": {
        "id": "-r_As6QQa6eo"
      },
      "source": [
        "from sklearn.model_selection import train_test_split\n",
        "\n",
        "X_train, X_test, y_train, y_test = train_test_split(synthetic_X, synthetic_y, test_size=0.35)"
      ],
      "execution_count": 111,
      "outputs": []
    },
    {
      "cell_type": "code",
      "metadata": {
        "id": "-aLOnqaRbAbD"
      },
      "source": [
        "scaler = StandardScaler()\n",
        "scaler.fit(X_train)\n",
        "\n",
        "X_train = scaler.transform(X_train)\n",
        "X_test = scaler.transform(X_test)"
      ],
      "execution_count": 112,
      "outputs": []
    },
    {
      "cell_type": "markdown",
      "metadata": {
        "id": "Y0im5ezHbDeN"
      },
      "source": [
        "# Обучение моделей"
      ]
    },
    {
      "cell_type": "code",
      "metadata": {
        "id": "4Li8yfEDbIqN"
      },
      "source": [
        "from sklearn.metrics import classification_report, confusion_matrix"
      ],
      "execution_count": 113,
      "outputs": []
    },
    {
      "cell_type": "markdown",
      "metadata": {
        "id": "mAv0e76pbMJk"
      },
      "source": [
        "## Метод k-ближайших соседей (K-Nearest Neighbors)"
      ]
    },
    {
      "cell_type": "code",
      "metadata": {
        "colab": {
          "base_uri": "https://localhost:8080/"
        },
        "id": "bvAIVfP-bPLE",
        "outputId": "592a6c28-37dd-40ec-98f7-fff82fa15d79"
      },
      "source": [
        "from sklearn.neighbors import KNeighborsClassifier\n",
        "clf = KNeighborsClassifier()\n",
        "clf.fit(X_train, y_train)\n",
        "\n",
        "y_pred = clf.predict(X_test)\n",
        "print(confusion_matrix(y_test, y_pred))\n",
        "print(classification_report(y_test, y_pred))"
      ],
      "execution_count": 114,
      "outputs": [
        {
          "output_type": "stream",
          "text": [
            "[[34  0  0  0]\n",
            " [ 0 39  0  0]\n",
            " [ 0  0 35  0]\n",
            " [ 0  0  0 32]]\n",
            "              precision    recall  f1-score   support\n",
            "\n",
            "           0       1.00      1.00      1.00        34\n",
            "           1       1.00      1.00      1.00        39\n",
            "           2       1.00      1.00      1.00        35\n",
            "           3       1.00      1.00      1.00        32\n",
            "\n",
            "    accuracy                           1.00       140\n",
            "   macro avg       1.00      1.00      1.00       140\n",
            "weighted avg       1.00      1.00      1.00       140\n",
            "\n"
          ],
          "name": "stdout"
        }
      ]
    },
    {
      "cell_type": "markdown",
      "metadata": {
        "id": "E_R3-g9qba1k"
      },
      "source": [
        "## Классификатор дерева решений (Decision Tree Classifier)"
      ]
    },
    {
      "cell_type": "code",
      "metadata": {
        "colab": {
          "base_uri": "https://localhost:8080/"
        },
        "id": "iDx7qN1TbjyQ",
        "outputId": "3dad2f81-e80a-425c-8a54-85000e01ba6f"
      },
      "source": [
        "from sklearn import tree\n",
        "\n",
        "clf = tree.DecisionTreeClassifier()\n",
        "clf = clf.fit(X_train, y_train)\n",
        "\n",
        "y_pred = clf.predict(X_test)\n",
        "print(confusion_matrix(y_test, y_pred))\n",
        "print(classification_report(y_test, y_pred))"
      ],
      "execution_count": 115,
      "outputs": [
        {
          "output_type": "stream",
          "text": [
            "[[34  0  0  0]\n",
            " [ 0 38  1  0]\n",
            " [ 0  0 35  0]\n",
            " [ 0  0  0 32]]\n",
            "              precision    recall  f1-score   support\n",
            "\n",
            "           0       1.00      1.00      1.00        34\n",
            "           1       1.00      0.97      0.99        39\n",
            "           2       0.97      1.00      0.99        35\n",
            "           3       1.00      1.00      1.00        32\n",
            "\n",
            "    accuracy                           0.99       140\n",
            "   macro avg       0.99      0.99      0.99       140\n",
            "weighted avg       0.99      0.99      0.99       140\n",
            "\n"
          ],
          "name": "stdout"
        }
      ]
    },
    {
      "cell_type": "markdown",
      "metadata": {
        "id": "v1_G--eZbo4O"
      },
      "source": [
        "## Метод опорных векторов (Support Vector Machines)"
      ]
    },
    {
      "cell_type": "code",
      "metadata": {
        "colab": {
          "base_uri": "https://localhost:8080/"
        },
        "id": "4ESS4lZebuop",
        "outputId": "c29e6a14-f4c3-41df-8b4f-3e84b9186df1"
      },
      "source": [
        "from sklearn import svm\n",
        "clf = svm.SVC()\n",
        "clf.fit(X_train, y_train)\n",
        "\n",
        "y_pred = clf.predict(X_test)\n",
        "print(confusion_matrix(y_test, y_pred))\n",
        "print(classification_report(y_test, y_pred))"
      ],
      "execution_count": 116,
      "outputs": [
        {
          "output_type": "stream",
          "text": [
            "[[34  0  0  0]\n",
            " [ 0 39  0  0]\n",
            " [ 0  0 35  0]\n",
            " [ 0  0  0 32]]\n",
            "              precision    recall  f1-score   support\n",
            "\n",
            "           0       1.00      1.00      1.00        34\n",
            "           1       1.00      1.00      1.00        39\n",
            "           2       1.00      1.00      1.00        35\n",
            "           3       1.00      1.00      1.00        32\n",
            "\n",
            "    accuracy                           1.00       140\n",
            "   macro avg       1.00      1.00      1.00       140\n",
            "weighted avg       1.00      1.00      1.00       140\n",
            "\n"
          ],
          "name": "stdout"
        }
      ]
    },
    {
      "cell_type": "markdown",
      "metadata": {
        "id": "nV_NvpjDb0Bx"
      },
      "source": [
        "# Использование обученной модели"
      ]
    },
    {
      "cell_type": "markdown",
      "metadata": {
        "id": "-IpRZJHBcH4R"
      },
      "source": [
        "Лучший результат на обучении дал алгоритм Support Vector Machines, поэтому именно его будем использовать для решения поставленной задачти."
      ]
    },
    {
      "cell_type": "code",
      "metadata": {
        "id": "KxdhLLyMcCOZ"
      },
      "source": [
        "y_pred = clf.predict(df_test).tolist()"
      ],
      "execution_count": 117,
      "outputs": []
    },
    {
      "cell_type": "code",
      "metadata": {
        "id": "B_62lOlHfR5t"
      },
      "source": [
        "for i in range(len(y_pred)):\n",
        "    if (y_pred[i] == 0): y_pred[i] = 'I_Ordovician'\n",
        "    if (y_pred[i] == 1): y_pred[i] = 'III_Deltaic'\n",
        "    if (y_pred[i] == 2): y_pred[i] = 'I_Lacustrine'\n",
        "    if (y_pred[i] == 3): y_pred[i] = 'II_Marine'"
      ],
      "execution_count": 118,
      "outputs": []
    },
    {
      "cell_type": "code",
      "metadata": {
        "id": "WLy-6y71hTeQ"
      },
      "source": [
        "y_pred"
      ],
      "execution_count": null,
      "outputs": []
    },
    {
      "cell_type": "code",
      "metadata": {
        "id": "zew5KYB1cFyV"
      },
      "source": [
        "pd.DataFrame(y_pred).to_csv('contestant_submission_example.csv', index=False, header=['family'])"
      ],
      "execution_count": 120,
      "outputs": []
    }
  ]
}