{
 "cells": [
  {
   "cell_type": "markdown",
   "id": "sufficient-passion",
   "metadata": {},
   "source": [
    "Дано два листа. Написать функцию возвращающую уникальные элементы, которые встречаются и в первом, и во втором листе.\n",
    "\n",
    "На входе: первый и второй лист.\n",
    "На выходе: лист элементов.\n",
    "\n",
    "Решение оформить в виде функции и вызывающего её кода."
   ]
  },
  {
   "cell_type": "code",
   "execution_count": 3,
   "id": "hawaiian-pointer",
   "metadata": {},
   "outputs": [],
   "source": [
    "def returnUniqueElements(list1, list2):\n",
    "    return list(set(list1) & set(list2))"
   ]
  },
  {
   "cell_type": "code",
   "execution_count": 6,
   "id": "difficult-dispute",
   "metadata": {},
   "outputs": [
    {
     "name": "stdout",
     "output_type": "stream",
     "text": [
      "[1, 3]\n"
     ]
    }
   ],
   "source": [
    "list1, list2 = [1,2,3,1,4,6], [1,3,5,10,0]\n",
    "print(returnUniqueElements(list1, list2))"
   ]
  }
 ],
 "metadata": {
  "kernelspec": {
   "display_name": "Python 3",
   "language": "python",
   "name": "python3"
  },
  "language_info": {
   "codemirror_mode": {
    "name": "ipython",
    "version": 3
   },
   "file_extension": ".py",
   "mimetype": "text/x-python",
   "name": "python",
   "nbconvert_exporter": "python",
   "pygments_lexer": "ipython3",
   "version": "3.8.3"
  }
 },
 "nbformat": 4,
 "nbformat_minor": 5
}
