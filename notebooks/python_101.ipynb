{
  "nbformat": 4,
  "nbformat_minor": 5,
  "metadata": {
    "kernelspec": {
      "display_name": "Python 3",
      "language": "python",
      "name": "python3"
    },
    "language_info": {
      "codemirror_mode": {
        "name": "ipython",
        "version": 3
      },
      "file_extension": ".py",
      "mimetype": "text/x-python",
      "name": "python",
      "nbconvert_exporter": "python",
      "pygments_lexer": "ipython3",
      "version": "3.8.3"
    },
    "colab": {
      "name": "python_101.ipynb",
      "provenance": [],
      "collapsed_sections": []
    }
  },
  "cells": [
    {
      "cell_type": "markdown",
      "metadata": {
        "id": "sufficient-passion"
      },
      "source": [
        "Дано два листа. Написать функцию возвращающую уникальные элементы, которые встречаются и в первом, и во втором листе.\n",
        "\n",
        "На входе: первый и второй лист.\n",
        "На выходе: лист элементов.\n",
        "\n",
        "Решение оформить в виде функции и вызывающего её кода."
      ],
      "id": "sufficient-passion"
    },
    {
      "cell_type": "code",
      "metadata": {
        "id": "hawaiian-pointer"
      },
      "source": [
        "def return_unique_elements(list1, list2):\n",
        "    return list(set(list1) & set(list2))"
      ],
      "id": "hawaiian-pointer",
      "execution_count": 1,
      "outputs": []
    },
    {
      "cell_type": "code",
      "metadata": {
        "colab": {
          "base_uri": "https://localhost:8080/"
        },
        "id": "difficult-dispute",
        "outputId": "02440926-b8d2-404f-eafb-cd121d4a8dea"
      },
      "source": [
        "list1, list2 = [1,2,3,1,4,6], [1,3,5,10,0]\n",
        "print(return_unique_elements(list1, list2))"
      ],
      "id": "difficult-dispute",
      "execution_count": 2,
      "outputs": [
        {
          "output_type": "stream",
          "text": [
            "[1, 3]\n"
          ],
          "name": "stdout"
        }
      ]
    }
  ]
}