{
  "nbformat": 4,
  "nbformat_minor": 0,
  "metadata": {
    "colab": {
      "name": "4_ensemble_regression.ipynb",
      "provenance": []
    },
    "kernelspec": {
      "name": "python3",
      "display_name": "Python 3"
    },
    "language_info": {
      "name": "python"
    }
  },
  "cells": [
    {
      "cell_type": "markdown",
      "metadata": {
        "id": "iBlULJnWw0P4"
      },
      "source": [
        "# Загрузка и подготовка данных"
      ]
    },
    {
      "cell_type": "code",
      "metadata": {
        "id": "prtsjN8Vwv4f"
      },
      "source": [
        "import pandas as pd\n",
        "import numpy as np\n",
        "from sklearn import metrics\n",
        "from sklearn import ensemble"
      ],
      "execution_count": 56,
      "outputs": []
    },
    {
      "cell_type": "code",
      "metadata": {
        "colab": {
          "base_uri": "https://localhost:8080/",
          "height": 235
        },
        "id": "MsyqVFjRw3zJ",
        "outputId": "a59fccdf-1049-4cba-9141-d4a5a64fc2a2"
      },
      "source": [
        "energy_df = pd.DataFrame\n",
        "energy_df = pd.read_csv('../data/energy_efficiency_preprocessed.csv' )\n",
        "energy_df.head()"
      ],
      "execution_count": 57,
      "outputs": [
        {
          "output_type": "execute_result",
          "data": {
            "text/html": [
              "<div>\n",
              "<style scoped>\n",
              "    .dataframe tbody tr th:only-of-type {\n",
              "        vertical-align: middle;\n",
              "    }\n",
              "\n",
              "    .dataframe tbody tr th {\n",
              "        vertical-align: top;\n",
              "    }\n",
              "\n",
              "    .dataframe thead th {\n",
              "        text-align: right;\n",
              "    }\n",
              "</style>\n",
              "<table border=\"1\" class=\"dataframe\">\n",
              "  <thead>\n",
              "    <tr style=\"text-align: right;\">\n",
              "      <th></th>\n",
              "      <th>Unnamed: 0</th>\n",
              "      <th>Compactness</th>\n",
              "      <th>S_Surface</th>\n",
              "      <th>S_Wall</th>\n",
              "      <th>S_Roof</th>\n",
              "      <th>Overall_Height</th>\n",
              "      <th>S_Glazing</th>\n",
              "      <th>Heating Load</th>\n",
              "      <th>Cooling Load</th>\n",
              "      <th>Orientation_2</th>\n",
              "      <th>Orientation_3</th>\n",
              "      <th>Orientation_4</th>\n",
              "      <th>Orientation_5</th>\n",
              "      <th>Glass_0</th>\n",
              "      <th>Glass_1</th>\n",
              "      <th>Glass_2</th>\n",
              "      <th>Glass_3</th>\n",
              "      <th>Glass_4</th>\n",
              "      <th>Glass_5</th>\n",
              "    </tr>\n",
              "  </thead>\n",
              "  <tbody>\n",
              "    <tr>\n",
              "      <th>0</th>\n",
              "      <td>0</td>\n",
              "      <td>0.98</td>\n",
              "      <td>514.5</td>\n",
              "      <td>294.0</td>\n",
              "      <td>110.25</td>\n",
              "      <td>1</td>\n",
              "      <td>0.0</td>\n",
              "      <td>15.55</td>\n",
              "      <td>21.33</td>\n",
              "      <td>1</td>\n",
              "      <td>0</td>\n",
              "      <td>0</td>\n",
              "      <td>0</td>\n",
              "      <td>1</td>\n",
              "      <td>0</td>\n",
              "      <td>0</td>\n",
              "      <td>0</td>\n",
              "      <td>0</td>\n",
              "      <td>0</td>\n",
              "    </tr>\n",
              "    <tr>\n",
              "      <th>1</th>\n",
              "      <td>1</td>\n",
              "      <td>0.98</td>\n",
              "      <td>514.5</td>\n",
              "      <td>294.0</td>\n",
              "      <td>110.25</td>\n",
              "      <td>1</td>\n",
              "      <td>0.0</td>\n",
              "      <td>15.55</td>\n",
              "      <td>21.33</td>\n",
              "      <td>0</td>\n",
              "      <td>1</td>\n",
              "      <td>0</td>\n",
              "      <td>0</td>\n",
              "      <td>1</td>\n",
              "      <td>0</td>\n",
              "      <td>0</td>\n",
              "      <td>0</td>\n",
              "      <td>0</td>\n",
              "      <td>0</td>\n",
              "    </tr>\n",
              "    <tr>\n",
              "      <th>2</th>\n",
              "      <td>2</td>\n",
              "      <td>0.98</td>\n",
              "      <td>514.5</td>\n",
              "      <td>294.0</td>\n",
              "      <td>110.25</td>\n",
              "      <td>1</td>\n",
              "      <td>0.0</td>\n",
              "      <td>15.55</td>\n",
              "      <td>21.33</td>\n",
              "      <td>0</td>\n",
              "      <td>0</td>\n",
              "      <td>1</td>\n",
              "      <td>0</td>\n",
              "      <td>1</td>\n",
              "      <td>0</td>\n",
              "      <td>0</td>\n",
              "      <td>0</td>\n",
              "      <td>0</td>\n",
              "      <td>0</td>\n",
              "    </tr>\n",
              "    <tr>\n",
              "      <th>3</th>\n",
              "      <td>3</td>\n",
              "      <td>0.98</td>\n",
              "      <td>514.5</td>\n",
              "      <td>294.0</td>\n",
              "      <td>110.25</td>\n",
              "      <td>1</td>\n",
              "      <td>0.0</td>\n",
              "      <td>15.55</td>\n",
              "      <td>21.33</td>\n",
              "      <td>0</td>\n",
              "      <td>0</td>\n",
              "      <td>0</td>\n",
              "      <td>1</td>\n",
              "      <td>1</td>\n",
              "      <td>0</td>\n",
              "      <td>0</td>\n",
              "      <td>0</td>\n",
              "      <td>0</td>\n",
              "      <td>0</td>\n",
              "    </tr>\n",
              "    <tr>\n",
              "      <th>4</th>\n",
              "      <td>4</td>\n",
              "      <td>0.90</td>\n",
              "      <td>563.5</td>\n",
              "      <td>318.5</td>\n",
              "      <td>122.50</td>\n",
              "      <td>1</td>\n",
              "      <td>0.0</td>\n",
              "      <td>20.84</td>\n",
              "      <td>28.28</td>\n",
              "      <td>1</td>\n",
              "      <td>0</td>\n",
              "      <td>0</td>\n",
              "      <td>0</td>\n",
              "      <td>1</td>\n",
              "      <td>0</td>\n",
              "      <td>0</td>\n",
              "      <td>0</td>\n",
              "      <td>0</td>\n",
              "      <td>0</td>\n",
              "    </tr>\n",
              "  </tbody>\n",
              "</table>\n",
              "</div>"
            ],
            "text/plain": [
              "   Unnamed: 0  Compactness  S_Surface  ...  Glass_3  Glass_4  Glass_5\n",
              "0           0         0.98      514.5  ...        0        0        0\n",
              "1           1         0.98      514.5  ...        0        0        0\n",
              "2           2         0.98      514.5  ...        0        0        0\n",
              "3           3         0.98      514.5  ...        0        0        0\n",
              "4           4         0.90      563.5  ...        0        0        0\n",
              "\n",
              "[5 rows x 19 columns]"
            ]
          },
          "metadata": {
            "tags": []
          },
          "execution_count": 57
        }
      ]
    },
    {
      "cell_type": "code",
      "metadata": {
        "id": "E7F5sCbDw7Ae"
      },
      "source": [
        "del energy_df['Unnamed: 0']"
      ],
      "execution_count": 58,
      "outputs": []
    },
    {
      "cell_type": "code",
      "metadata": {
        "colab": {
          "base_uri": "https://localhost:8080/",
          "height": 445
        },
        "id": "GYbTVBp0w9HW",
        "outputId": "abd316cd-9a8f-4c3c-f78f-a6bef8839940"
      },
      "source": [
        "energy_df"
      ],
      "execution_count": 59,
      "outputs": [
        {
          "output_type": "execute_result",
          "data": {
            "text/html": [
              "<div>\n",
              "<style scoped>\n",
              "    .dataframe tbody tr th:only-of-type {\n",
              "        vertical-align: middle;\n",
              "    }\n",
              "\n",
              "    .dataframe tbody tr th {\n",
              "        vertical-align: top;\n",
              "    }\n",
              "\n",
              "    .dataframe thead th {\n",
              "        text-align: right;\n",
              "    }\n",
              "</style>\n",
              "<table border=\"1\" class=\"dataframe\">\n",
              "  <thead>\n",
              "    <tr style=\"text-align: right;\">\n",
              "      <th></th>\n",
              "      <th>Compactness</th>\n",
              "      <th>S_Surface</th>\n",
              "      <th>S_Wall</th>\n",
              "      <th>S_Roof</th>\n",
              "      <th>Overall_Height</th>\n",
              "      <th>S_Glazing</th>\n",
              "      <th>Heating Load</th>\n",
              "      <th>Cooling Load</th>\n",
              "      <th>Orientation_2</th>\n",
              "      <th>Orientation_3</th>\n",
              "      <th>Orientation_4</th>\n",
              "      <th>Orientation_5</th>\n",
              "      <th>Glass_0</th>\n",
              "      <th>Glass_1</th>\n",
              "      <th>Glass_2</th>\n",
              "      <th>Glass_3</th>\n",
              "      <th>Glass_4</th>\n",
              "      <th>Glass_5</th>\n",
              "    </tr>\n",
              "  </thead>\n",
              "  <tbody>\n",
              "    <tr>\n",
              "      <th>0</th>\n",
              "      <td>0.98</td>\n",
              "      <td>514.5</td>\n",
              "      <td>294.0</td>\n",
              "      <td>110.25</td>\n",
              "      <td>1</td>\n",
              "      <td>0.0</td>\n",
              "      <td>15.55</td>\n",
              "      <td>21.33</td>\n",
              "      <td>1</td>\n",
              "      <td>0</td>\n",
              "      <td>0</td>\n",
              "      <td>0</td>\n",
              "      <td>1</td>\n",
              "      <td>0</td>\n",
              "      <td>0</td>\n",
              "      <td>0</td>\n",
              "      <td>0</td>\n",
              "      <td>0</td>\n",
              "    </tr>\n",
              "    <tr>\n",
              "      <th>1</th>\n",
              "      <td>0.98</td>\n",
              "      <td>514.5</td>\n",
              "      <td>294.0</td>\n",
              "      <td>110.25</td>\n",
              "      <td>1</td>\n",
              "      <td>0.0</td>\n",
              "      <td>15.55</td>\n",
              "      <td>21.33</td>\n",
              "      <td>0</td>\n",
              "      <td>1</td>\n",
              "      <td>0</td>\n",
              "      <td>0</td>\n",
              "      <td>1</td>\n",
              "      <td>0</td>\n",
              "      <td>0</td>\n",
              "      <td>0</td>\n",
              "      <td>0</td>\n",
              "      <td>0</td>\n",
              "    </tr>\n",
              "    <tr>\n",
              "      <th>2</th>\n",
              "      <td>0.98</td>\n",
              "      <td>514.5</td>\n",
              "      <td>294.0</td>\n",
              "      <td>110.25</td>\n",
              "      <td>1</td>\n",
              "      <td>0.0</td>\n",
              "      <td>15.55</td>\n",
              "      <td>21.33</td>\n",
              "      <td>0</td>\n",
              "      <td>0</td>\n",
              "      <td>1</td>\n",
              "      <td>0</td>\n",
              "      <td>1</td>\n",
              "      <td>0</td>\n",
              "      <td>0</td>\n",
              "      <td>0</td>\n",
              "      <td>0</td>\n",
              "      <td>0</td>\n",
              "    </tr>\n",
              "    <tr>\n",
              "      <th>3</th>\n",
              "      <td>0.98</td>\n",
              "      <td>514.5</td>\n",
              "      <td>294.0</td>\n",
              "      <td>110.25</td>\n",
              "      <td>1</td>\n",
              "      <td>0.0</td>\n",
              "      <td>15.55</td>\n",
              "      <td>21.33</td>\n",
              "      <td>0</td>\n",
              "      <td>0</td>\n",
              "      <td>0</td>\n",
              "      <td>1</td>\n",
              "      <td>1</td>\n",
              "      <td>0</td>\n",
              "      <td>0</td>\n",
              "      <td>0</td>\n",
              "      <td>0</td>\n",
              "      <td>0</td>\n",
              "    </tr>\n",
              "    <tr>\n",
              "      <th>4</th>\n",
              "      <td>0.90</td>\n",
              "      <td>563.5</td>\n",
              "      <td>318.5</td>\n",
              "      <td>122.50</td>\n",
              "      <td>1</td>\n",
              "      <td>0.0</td>\n",
              "      <td>20.84</td>\n",
              "      <td>28.28</td>\n",
              "      <td>1</td>\n",
              "      <td>0</td>\n",
              "      <td>0</td>\n",
              "      <td>0</td>\n",
              "      <td>1</td>\n",
              "      <td>0</td>\n",
              "      <td>0</td>\n",
              "      <td>0</td>\n",
              "      <td>0</td>\n",
              "      <td>0</td>\n",
              "    </tr>\n",
              "    <tr>\n",
              "      <th>...</th>\n",
              "      <td>...</td>\n",
              "      <td>...</td>\n",
              "      <td>...</td>\n",
              "      <td>...</td>\n",
              "      <td>...</td>\n",
              "      <td>...</td>\n",
              "      <td>...</td>\n",
              "      <td>...</td>\n",
              "      <td>...</td>\n",
              "      <td>...</td>\n",
              "      <td>...</td>\n",
              "      <td>...</td>\n",
              "      <td>...</td>\n",
              "      <td>...</td>\n",
              "      <td>...</td>\n",
              "      <td>...</td>\n",
              "      <td>...</td>\n",
              "      <td>...</td>\n",
              "    </tr>\n",
              "    <tr>\n",
              "      <th>763</th>\n",
              "      <td>0.64</td>\n",
              "      <td>784.0</td>\n",
              "      <td>343.0</td>\n",
              "      <td>220.50</td>\n",
              "      <td>0</td>\n",
              "      <td>0.4</td>\n",
              "      <td>17.88</td>\n",
              "      <td>21.40</td>\n",
              "      <td>0</td>\n",
              "      <td>0</td>\n",
              "      <td>0</td>\n",
              "      <td>1</td>\n",
              "      <td>0</td>\n",
              "      <td>0</td>\n",
              "      <td>0</td>\n",
              "      <td>0</td>\n",
              "      <td>0</td>\n",
              "      <td>1</td>\n",
              "    </tr>\n",
              "    <tr>\n",
              "      <th>764</th>\n",
              "      <td>0.62</td>\n",
              "      <td>808.5</td>\n",
              "      <td>367.5</td>\n",
              "      <td>220.50</td>\n",
              "      <td>0</td>\n",
              "      <td>0.4</td>\n",
              "      <td>16.54</td>\n",
              "      <td>16.88</td>\n",
              "      <td>1</td>\n",
              "      <td>0</td>\n",
              "      <td>0</td>\n",
              "      <td>0</td>\n",
              "      <td>0</td>\n",
              "      <td>0</td>\n",
              "      <td>0</td>\n",
              "      <td>0</td>\n",
              "      <td>0</td>\n",
              "      <td>1</td>\n",
              "    </tr>\n",
              "    <tr>\n",
              "      <th>765</th>\n",
              "      <td>0.62</td>\n",
              "      <td>808.5</td>\n",
              "      <td>367.5</td>\n",
              "      <td>220.50</td>\n",
              "      <td>0</td>\n",
              "      <td>0.4</td>\n",
              "      <td>16.44</td>\n",
              "      <td>17.11</td>\n",
              "      <td>0</td>\n",
              "      <td>1</td>\n",
              "      <td>0</td>\n",
              "      <td>0</td>\n",
              "      <td>0</td>\n",
              "      <td>0</td>\n",
              "      <td>0</td>\n",
              "      <td>0</td>\n",
              "      <td>0</td>\n",
              "      <td>1</td>\n",
              "    </tr>\n",
              "    <tr>\n",
              "      <th>766</th>\n",
              "      <td>0.62</td>\n",
              "      <td>808.5</td>\n",
              "      <td>367.5</td>\n",
              "      <td>220.50</td>\n",
              "      <td>0</td>\n",
              "      <td>0.4</td>\n",
              "      <td>16.48</td>\n",
              "      <td>16.61</td>\n",
              "      <td>0</td>\n",
              "      <td>0</td>\n",
              "      <td>1</td>\n",
              "      <td>0</td>\n",
              "      <td>0</td>\n",
              "      <td>0</td>\n",
              "      <td>0</td>\n",
              "      <td>0</td>\n",
              "      <td>0</td>\n",
              "      <td>1</td>\n",
              "    </tr>\n",
              "    <tr>\n",
              "      <th>767</th>\n",
              "      <td>0.62</td>\n",
              "      <td>808.5</td>\n",
              "      <td>367.5</td>\n",
              "      <td>220.50</td>\n",
              "      <td>0</td>\n",
              "      <td>0.4</td>\n",
              "      <td>16.64</td>\n",
              "      <td>16.03</td>\n",
              "      <td>0</td>\n",
              "      <td>0</td>\n",
              "      <td>0</td>\n",
              "      <td>1</td>\n",
              "      <td>0</td>\n",
              "      <td>0</td>\n",
              "      <td>0</td>\n",
              "      <td>0</td>\n",
              "      <td>0</td>\n",
              "      <td>1</td>\n",
              "    </tr>\n",
              "  </tbody>\n",
              "</table>\n",
              "<p>768 rows × 18 columns</p>\n",
              "</div>"
            ],
            "text/plain": [
              "     Compactness  S_Surface  S_Wall  S_Roof  ...  Glass_2  Glass_3  Glass_4  Glass_5\n",
              "0           0.98      514.5   294.0  110.25  ...        0        0        0        0\n",
              "1           0.98      514.5   294.0  110.25  ...        0        0        0        0\n",
              "2           0.98      514.5   294.0  110.25  ...        0        0        0        0\n",
              "3           0.98      514.5   294.0  110.25  ...        0        0        0        0\n",
              "4           0.90      563.5   318.5  122.50  ...        0        0        0        0\n",
              "..           ...        ...     ...     ...  ...      ...      ...      ...      ...\n",
              "763         0.64      784.0   343.0  220.50  ...        0        0        0        1\n",
              "764         0.62      808.5   367.5  220.50  ...        0        0        0        1\n",
              "765         0.62      808.5   367.5  220.50  ...        0        0        0        1\n",
              "766         0.62      808.5   367.5  220.50  ...        0        0        0        1\n",
              "767         0.62      808.5   367.5  220.50  ...        0        0        0        1\n",
              "\n",
              "[768 rows x 18 columns]"
            ]
          },
          "metadata": {
            "tags": []
          },
          "execution_count": 59
        }
      ]
    },
    {
      "cell_type": "code",
      "metadata": {
        "colab": {
          "base_uri": "https://localhost:8080/"
        },
        "id": "d0PzybrPxIVI",
        "outputId": "6faee5c9-2cec-4d46-96b4-dfbb634636b6"
      },
      "source": [
        " energy_df.info()"
      ],
      "execution_count": 60,
      "outputs": [
        {
          "output_type": "stream",
          "text": [
            "<class 'pandas.core.frame.DataFrame'>\n",
            "RangeIndex: 768 entries, 0 to 767\n",
            "Data columns (total 18 columns):\n",
            " #   Column          Non-Null Count  Dtype  \n",
            "---  ------          --------------  -----  \n",
            " 0   Compactness     768 non-null    float64\n",
            " 1   S_Surface       768 non-null    float64\n",
            " 2   S_Wall          768 non-null    float64\n",
            " 3   S_Roof          768 non-null    float64\n",
            " 4   Overall_Height  768 non-null    int64  \n",
            " 5   S_Glazing       768 non-null    float64\n",
            " 6   Heating Load    768 non-null    float64\n",
            " 7   Cooling Load    768 non-null    float64\n",
            " 8   Orientation_2   768 non-null    int64  \n",
            " 9   Orientation_3   768 non-null    int64  \n",
            " 10  Orientation_4   768 non-null    int64  \n",
            " 11  Orientation_5   768 non-null    int64  \n",
            " 12  Glass_0         768 non-null    int64  \n",
            " 13  Glass_1         768 non-null    int64  \n",
            " 14  Glass_2         768 non-null    int64  \n",
            " 15  Glass_3         768 non-null    int64  \n",
            " 16  Glass_4         768 non-null    int64  \n",
            " 17  Glass_5         768 non-null    int64  \n",
            "dtypes: float64(7), int64(11)\n",
            "memory usage: 108.1 KB\n"
          ],
          "name": "stdout"
        }
      ]
    },
    {
      "cell_type": "markdown",
      "metadata": {
        "id": "GArQvrrSx8mk"
      },
      "source": [
        "Разобьем датасет на обучающую и тестовую выборки. Предсказывать будем столбец Heating Load."
      ]
    },
    {
      "cell_type": "code",
      "metadata": {
        "colab": {
          "base_uri": "https://localhost:8080/"
        },
        "id": "lYIiTJkpx4Db",
        "outputId": "8e09cf18-767e-4817-d017-516644751b92"
      },
      "source": [
        "X = energy_df.iloc[:, : 6].join(energy_df.iloc[:, 8:]).values\n",
        "y = energy_df.iloc[:, 6].values\n",
        "print(X)"
      ],
      "execution_count": 61,
      "outputs": [
        {
          "output_type": "stream",
          "text": [
            "[[9.800e-01 5.145e+02 2.940e+02 ... 0.000e+00 0.000e+00 0.000e+00]\n",
            " [9.800e-01 5.145e+02 2.940e+02 ... 0.000e+00 0.000e+00 0.000e+00]\n",
            " [9.800e-01 5.145e+02 2.940e+02 ... 0.000e+00 0.000e+00 0.000e+00]\n",
            " ...\n",
            " [6.200e-01 8.085e+02 3.675e+02 ... 0.000e+00 0.000e+00 1.000e+00]\n",
            " [6.200e-01 8.085e+02 3.675e+02 ... 0.000e+00 0.000e+00 1.000e+00]\n",
            " [6.200e-01 8.085e+02 3.675e+02 ... 0.000e+00 0.000e+00 1.000e+00]]\n"
          ],
          "name": "stdout"
        }
      ]
    },
    {
      "cell_type": "code",
      "metadata": {
        "colab": {
          "base_uri": "https://localhost:8080/"
        },
        "id": "zOpo4FpQyBSq",
        "outputId": "a4ec9176-6c9e-4eb4-9521-e22f87adb7ac"
      },
      "source": [
        "from sklearn.model_selection import train_test_split\n",
        "\n",
        "X_train, X_test, y_train, y_test = train_test_split(X, y, test_size=0.30)\n",
        "\n",
        "X_train"
      ],
      "execution_count": 62,
      "outputs": [
        {
          "output_type": "execute_result",
          "data": {
            "text/plain": [
              "array([[6.900e-01, 7.350e+02, 2.940e+02, ..., 0.000e+00, 1.000e+00,\n",
              "        0.000e+00],\n",
              "       [8.200e-01, 6.125e+02, 3.185e+02, ..., 0.000e+00, 0.000e+00,\n",
              "        1.000e+00],\n",
              "       [6.600e-01, 7.595e+02, 3.185e+02, ..., 1.000e+00, 0.000e+00,\n",
              "        0.000e+00],\n",
              "       ...,\n",
              "       [7.100e-01, 7.105e+02, 2.695e+02, ..., 0.000e+00, 1.000e+00,\n",
              "        0.000e+00],\n",
              "       [6.600e-01, 7.595e+02, 3.185e+02, ..., 0.000e+00, 1.000e+00,\n",
              "        0.000e+00],\n",
              "       [7.900e-01, 6.370e+02, 3.430e+02, ..., 0.000e+00, 0.000e+00,\n",
              "        0.000e+00]])"
            ]
          },
          "metadata": {
            "tags": []
          },
          "execution_count": 62
        }
      ]
    },
    {
      "cell_type": "markdown",
      "metadata": {
        "id": "1ObDAac4yIly"
      },
      "source": [
        "Масштабируем данные."
      ]
    },
    {
      "cell_type": "code",
      "metadata": {
        "colab": {
          "base_uri": "https://localhost:8080/"
        },
        "id": "UEbI1bmQyEem",
        "outputId": "6a99ce89-2c2e-484f-c793-e34b72e15663"
      },
      "source": [
        "from sklearn.preprocessing import StandardScaler\n",
        "scaler = StandardScaler()\n",
        "scaler.fit(X_train)\n",
        "\n",
        "X_train = scaler.transform(X_train)\n",
        "X_test = scaler.transform(X_test)\n",
        "X_train"
      ],
      "execution_count": 63,
      "outputs": [
        {
          "output_type": "execute_result",
          "data": {
            "text/plain": [
              "array([[-0.67751125,  0.6911543 , -0.59248944, ..., -0.49592305,\n",
              "         2.15699596, -0.48716238],\n",
              "       [ 0.54970879, -0.6927005 , -0.0140043 , ..., -0.49592305,\n",
              "        -0.46360773,  2.05270364],\n",
              "       [-0.96071588,  0.96792526, -0.0140043 , ...,  2.01644185,\n",
              "        -0.46360773, -0.48716238],\n",
              "       ...,\n",
              "       [-0.48870817,  0.41438334, -1.17097458, ..., -0.49592305,\n",
              "         2.15699596, -0.48716238],\n",
              "       [-0.96071588,  0.96792526, -0.0140043 , ..., -0.49592305,\n",
              "         2.15699596, -0.48716238],\n",
              "       [ 0.26650417, -0.41592954,  0.56448084, ..., -0.49592305,\n",
              "        -0.46360773, -0.48716238]])"
            ]
          },
          "metadata": {
            "tags": []
          },
          "execution_count": 63
        }
      ]
    },
    {
      "cell_type": "markdown",
      "metadata": {
        "id": "5MjFQCI-ySRZ"
      },
      "source": [
        "# Композиции алгоритмов"
      ]
    },
    {
      "cell_type": "code",
      "metadata": {
        "id": "Br_cNt2Fz30_"
      },
      "source": [
        "from sklearn.model_selection import GridSearchCV"
      ],
      "execution_count": 22,
      "outputs": []
    },
    {
      "cell_type": "markdown",
      "metadata": {
        "id": "0ER8cGMiyTJs"
      },
      "source": [
        "## Бэггинг"
      ]
    },
    {
      "cell_type": "code",
      "metadata": {
        "id": "p8SB8-N0zphw"
      },
      "source": [
        "from sklearn.ensemble import BaggingRegressor\n",
        "from sklearn.tree import DecisionTreeRegressor"
      ],
      "execution_count": 35,
      "outputs": []
    },
    {
      "cell_type": "code",
      "metadata": {
        "colab": {
          "base_uri": "https://localhost:8080/"
        },
        "id": "4aHtNQSy0lax",
        "outputId": "4824dbe5-7a16-4352-82f8-e6467d5d3474"
      },
      "source": [
        "clf = GridSearchCV(DecisionTreeRegressor(), {'max_depth': range(2,10,1)})\n",
        "clf.fit(X_train, y_train)\n",
        "clf.best_params_"
      ],
      "execution_count": 36,
      "outputs": [
        {
          "output_type": "execute_result",
          "data": {
            "text/plain": [
              "{'max_depth': 7}"
            ]
          },
          "metadata": {
            "tags": []
          },
          "execution_count": 36
        }
      ]
    },
    {
      "cell_type": "code",
      "metadata": {
        "colab": {
          "base_uri": "https://localhost:8080/"
        },
        "id": "INPlBp4e0JOp",
        "outputId": "a2334e50-c20d-4c44-d9e4-29d9a94b1a8b"
      },
      "source": [
        "%%time\n",
        "dtr = DecisionTreeRegressor(max_depth=7)\n",
        "bgc = BaggingRegressor(dtr)\n",
        "\n",
        "bagging_parameters = {'n_estimators' : range(10, 50, 10), 'max_features' : range(1,5,1)}\n",
        "bagging = GridSearchCV(bgc, bagging_parameters)\n",
        "bagging.fit(X_train, y_train)"
      ],
      "execution_count": 37,
      "outputs": [
        {
          "output_type": "stream",
          "text": [
            "CPU times: user 3.32 s, sys: 35.5 ms, total: 3.35 s\n",
            "Wall time: 3.34 s\n"
          ],
          "name": "stdout"
        }
      ]
    },
    {
      "cell_type": "code",
      "metadata": {
        "colab": {
          "base_uri": "https://localhost:8080/"
        },
        "id": "bm-4sUyS08TF",
        "outputId": "f7aef4c7-7440-4d99-b4e4-79559125527d"
      },
      "source": [
        "bagging.best_params_"
      ],
      "execution_count": 38,
      "outputs": [
        {
          "output_type": "execute_result",
          "data": {
            "text/plain": [
              "{'max_features': 4, 'n_estimators': 10}"
            ]
          },
          "metadata": {
            "tags": []
          },
          "execution_count": 38
        }
      ]
    },
    {
      "cell_type": "code",
      "metadata": {
        "colab": {
          "base_uri": "https://localhost:8080/"
        },
        "id": "LFbCGqK01A7v",
        "outputId": "e019d105-be67-4ab2-ed5a-52c8187708c2"
      },
      "source": [
        "y_pred = bagging.predict(X_test)\n",
        "\n",
        "model_score = bagging.score(X_test,y_test)\n",
        "mse = metrics.mean_squared_error(y_test, y_pred)\n",
        "mae = metrics.mean_absolute_error(y_test, y_pred)\n",
        "\n",
        "print(\"Model Score            : \", model_score)\n",
        "print(\"Mean Squared Error     : \", mse)\n",
        "print(\"Root Mean Squared Error: \", mse**(1/2))\n",
        "print(\"Mean Absolute Error    : \", mae)"
      ],
      "execution_count": 39,
      "outputs": [
        {
          "output_type": "stream",
          "text": [
            "Model Score            :  0.8563932506151329\n",
            "Mean Squared Error     :  13.860465676091266\n",
            "Root Mean Squared Error:  3.7229646353532915\n",
            "Mean Absolute Error    :  3.0179399804379465\n"
          ],
          "name": "stdout"
        }
      ]
    },
    {
      "cell_type": "markdown",
      "metadata": {
        "id": "xUbWqSOK1pST"
      },
      "source": [
        "## Бустинг"
      ]
    },
    {
      "cell_type": "code",
      "metadata": {
        "id": "Z3o3nR8g1uWh"
      },
      "source": [
        "from sklearn.ensemble import GradientBoostingRegressor"
      ],
      "execution_count": 44,
      "outputs": []
    },
    {
      "cell_type": "code",
      "metadata": {
        "colab": {
          "base_uri": "https://localhost:8080/"
        },
        "id": "A9hrCWc3DRaR",
        "outputId": "0f5d85f0-5bc0-4051-8991-5046eb344102"
      },
      "source": [
        "%%time\n",
        "gbc = GradientBoostingRegressor()\n",
        "boosting_parameters = {'n_estimators' : range(5,20,5), 'max_depth' : range(1,8,1)}\n",
        "boosting = GridSearchCV(gbc, boosting_parameters)\n",
        "boosting.fit(X_train, y_train)"
      ],
      "execution_count": 45,
      "outputs": [
        {
          "output_type": "stream",
          "text": [
            "CPU times: user 1.03 s, sys: 758 µs, total: 1.03 s\n",
            "Wall time: 1.03 s\n"
          ],
          "name": "stdout"
        }
      ]
    },
    {
      "cell_type": "code",
      "metadata": {
        "colab": {
          "base_uri": "https://localhost:8080/"
        },
        "id": "G-fuj2wmDZZT",
        "outputId": "ef07aae2-a80f-4dea-a76a-7229d5e76b97"
      },
      "source": [
        "boosting.best_params_"
      ],
      "execution_count": 46,
      "outputs": [
        {
          "output_type": "execute_result",
          "data": {
            "text/plain": [
              "{'max_depth': 7, 'n_estimators': 15}"
            ]
          },
          "metadata": {
            "tags": []
          },
          "execution_count": 46
        }
      ]
    },
    {
      "cell_type": "code",
      "metadata": {
        "colab": {
          "base_uri": "https://localhost:8080/"
        },
        "id": "IXpsNHjaDd-R",
        "outputId": "7b8c371a-bd21-4106-ae2b-83339db7f88c"
      },
      "source": [
        "y_pred = boosting.predict(X_test)\n",
        "\n",
        "model_score = boosting.score(X_test,y_test)\n",
        "mse = metrics.mean_squared_error(y_test, y_pred)\n",
        "mae = metrics.mean_absolute_error(y_test, y_pred)\n",
        "\n",
        "print(\"Model Score            : \", model_score)\n",
        "print(\"Mean Squared Error     : \", mse)\n",
        "print(\"Root Mean Squared Error: \", mse**(1/2))\n",
        "print(\"Mean Absolute Error    : \", mae)"
      ],
      "execution_count": 47,
      "outputs": [
        {
          "output_type": "stream",
          "text": [
            "Model Score            :  0.9556663449346994\n",
            "Mean Squared Error     :  4.278943064726331\n",
            "Root Mean Squared Error:  2.0685606263115255\n",
            "Mean Absolute Error    :  1.8475475403209058\n"
          ],
          "name": "stdout"
        }
      ]
    },
    {
      "cell_type": "markdown",
      "metadata": {
        "id": "0jo4oNOMDt6n"
      },
      "source": [
        "## Стекинг"
      ]
    },
    {
      "cell_type": "code",
      "metadata": {
        "id": "VzFx3BkzDth9"
      },
      "source": [
        "from sklearn.ensemble import StackingRegressor\n",
        "from sklearn.linear_model import LinearRegression\n",
        "from sklearn.linear_model import Ridge"
      ],
      "execution_count": 53,
      "outputs": []
    },
    {
      "cell_type": "code",
      "metadata": {
        "colab": {
          "base_uri": "https://localhost:8080/"
        },
        "id": "qhrMrcnbSs5f",
        "outputId": "d7fbb012-9748-4bf2-fc6d-5cfed4e14458"
      },
      "source": [
        "%%time\n",
        "estimators = [('lreg', LinearRegression()),('Rid', Ridge())]\n",
        "sr = StackingRegressor(estimators=estimators)\n",
        "stacking = sr.fit(X_train, y_train)"
      ],
      "execution_count": 54,
      "outputs": [
        {
          "output_type": "stream",
          "text": [
            "CPU times: user 22.2 ms, sys: 0 ns, total: 22.2 ms\n",
            "Wall time: 23.7 ms\n"
          ],
          "name": "stdout"
        }
      ]
    },
    {
      "cell_type": "code",
      "metadata": {
        "colab": {
          "base_uri": "https://localhost:8080/"
        },
        "id": "l-zQWQnhcTV2",
        "outputId": "eb165186-aeac-4439-b46a-621a11b3c194"
      },
      "source": [
        "y_pred = boosting.predict(X_test)\n",
        "\n",
        "model_score = stacking.score(X_test,y_test)\n",
        "mse = metrics.mean_squared_error(y_test, y_pred)\n",
        "mae = metrics.mean_absolute_error(y_test, y_pred)\n",
        "\n",
        "print(\"Model Score            : \", model_score)\n",
        "print(\"Mean Squared Error     : \", mse)\n",
        "print(\"Root Mean Squared Error: \", mse**(1/2))\n",
        "print(\"Mean Absolute Error    : \", mae)"
      ],
      "execution_count": 55,
      "outputs": [
        {
          "output_type": "stream",
          "text": [
            "Model Score            :  0.9227547828306507\n",
            "Mean Squared Error     :  4.278943064726331\n",
            "Root Mean Squared Error:  2.0685606263115255\n",
            "Mean Absolute Error    :  1.8475475403209058\n"
          ],
          "name": "stdout"
        }
      ]
    },
    {
      "cell_type": "markdown",
      "metadata": {
        "id": "UOb9k9KHcyxo"
      },
      "source": [
        "# Выводы"
      ]
    },
    {
      "cell_type": "markdown",
      "metadata": {
        "id": "GsJnGqQmc1M8"
      },
      "source": [
        "Лучше всех отработали алгоритмы бустинг и стекинг, на которых была получена высокая точность благодаря подбору гиперпараметров.\n",
        "\n",
        "Алгоритм бэггинг отработал хуже остальных алгоритмов. При достаточно высокой точности имеет высокое значение Mean Squared Error."
      ]
    }
  ]
}