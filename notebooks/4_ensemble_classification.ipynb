{
  "nbformat": 4,
  "nbformat_minor": 0,
  "metadata": {
    "colab": {
      "name": "4_ensemble_classification.ipynb",
      "provenance": [],
      "toc_visible": true
    },
    "kernelspec": {
      "name": "python3",
      "display_name": "Python 3"
    },
    "language_info": {
      "name": "python"
    }
  },
  "cells": [
    {
      "cell_type": "markdown",
      "metadata": {
        "id": "0X9V9juFl-ag"
      },
      "source": [
        "# Загрузка и подготовка данных"
      ]
    },
    {
      "cell_type": "code",
      "metadata": {
        "id": "q0_2B3YjjaMO"
      },
      "source": [
        "import pandas as pd\n",
        "import numpy as np\n",
        "from sklearn import metrics\n",
        "from sklearn import ensemble"
      ],
      "execution_count": 94,
      "outputs": []
    },
    {
      "cell_type": "code",
      "metadata": {
        "colab": {
          "base_uri": "https://localhost:8080/",
          "height": 204
        },
        "id": "79d9t8Hil95O",
        "outputId": "37ef12b1-1ab4-45ba-c7d4-51a977d47ac2"
      },
      "source": [
        "wcd_df = pd.DataFrame\n",
        "wcd_df = pd.read_csv('../data/wholesale_customers_data_preprocessed.csv' )\n",
        "wcd_df.head()"
      ],
      "execution_count": 95,
      "outputs": [
        {
          "output_type": "execute_result",
          "data": {
            "text/html": [
              "<div>\n",
              "<style scoped>\n",
              "    .dataframe tbody tr th:only-of-type {\n",
              "        vertical-align: middle;\n",
              "    }\n",
              "\n",
              "    .dataframe tbody tr th {\n",
              "        vertical-align: top;\n",
              "    }\n",
              "\n",
              "    .dataframe thead th {\n",
              "        text-align: right;\n",
              "    }\n",
              "</style>\n",
              "<table border=\"1\" class=\"dataframe\">\n",
              "  <thead>\n",
              "    <tr style=\"text-align: right;\">\n",
              "      <th></th>\n",
              "      <th>Unnamed: 0</th>\n",
              "      <th>Channel</th>\n",
              "      <th>Fresh</th>\n",
              "      <th>Milk</th>\n",
              "      <th>Grocery</th>\n",
              "      <th>Frozen</th>\n",
              "      <th>Detergents_Paper</th>\n",
              "      <th>Delicassen</th>\n",
              "      <th>Region_Lisbon</th>\n",
              "      <th>Region_Oporto</th>\n",
              "      <th>Other Region</th>\n",
              "    </tr>\n",
              "  </thead>\n",
              "  <tbody>\n",
              "    <tr>\n",
              "      <th>0</th>\n",
              "      <td>0</td>\n",
              "      <td>1</td>\n",
              "      <td>12669</td>\n",
              "      <td>9656</td>\n",
              "      <td>7561</td>\n",
              "      <td>214</td>\n",
              "      <td>2674</td>\n",
              "      <td>1338</td>\n",
              "      <td>0</td>\n",
              "      <td>0</td>\n",
              "      <td>1</td>\n",
              "    </tr>\n",
              "    <tr>\n",
              "      <th>1</th>\n",
              "      <td>1</td>\n",
              "      <td>1</td>\n",
              "      <td>7057</td>\n",
              "      <td>9810</td>\n",
              "      <td>9568</td>\n",
              "      <td>1762</td>\n",
              "      <td>3293</td>\n",
              "      <td>1776</td>\n",
              "      <td>0</td>\n",
              "      <td>0</td>\n",
              "      <td>1</td>\n",
              "    </tr>\n",
              "    <tr>\n",
              "      <th>2</th>\n",
              "      <td>2</td>\n",
              "      <td>1</td>\n",
              "      <td>6353</td>\n",
              "      <td>8808</td>\n",
              "      <td>7684</td>\n",
              "      <td>2405</td>\n",
              "      <td>3516</td>\n",
              "      <td>7844</td>\n",
              "      <td>0</td>\n",
              "      <td>0</td>\n",
              "      <td>1</td>\n",
              "    </tr>\n",
              "    <tr>\n",
              "      <th>3</th>\n",
              "      <td>3</td>\n",
              "      <td>0</td>\n",
              "      <td>13265</td>\n",
              "      <td>1196</td>\n",
              "      <td>4221</td>\n",
              "      <td>6404</td>\n",
              "      <td>507</td>\n",
              "      <td>1788</td>\n",
              "      <td>0</td>\n",
              "      <td>0</td>\n",
              "      <td>1</td>\n",
              "    </tr>\n",
              "    <tr>\n",
              "      <th>4</th>\n",
              "      <td>4</td>\n",
              "      <td>1</td>\n",
              "      <td>22615</td>\n",
              "      <td>5410</td>\n",
              "      <td>7198</td>\n",
              "      <td>3915</td>\n",
              "      <td>1777</td>\n",
              "      <td>5185</td>\n",
              "      <td>0</td>\n",
              "      <td>0</td>\n",
              "      <td>1</td>\n",
              "    </tr>\n",
              "  </tbody>\n",
              "</table>\n",
              "</div>"
            ],
            "text/plain": [
              "   Unnamed: 0  Channel  Fresh  ...  Region_Lisbon  Region_Oporto  Other Region\n",
              "0           0        1  12669  ...              0              0             1\n",
              "1           1        1   7057  ...              0              0             1\n",
              "2           2        1   6353  ...              0              0             1\n",
              "3           3        0  13265  ...              0              0             1\n",
              "4           4        1  22615  ...              0              0             1\n",
              "\n",
              "[5 rows x 11 columns]"
            ]
          },
          "metadata": {
            "tags": []
          },
          "execution_count": 95
        }
      ]
    },
    {
      "cell_type": "code",
      "metadata": {
        "id": "cIa-M6QOmysH"
      },
      "source": [
        "del wcd_df['Unnamed: 0']"
      ],
      "execution_count": 96,
      "outputs": []
    },
    {
      "cell_type": "code",
      "metadata": {
        "colab": {
          "base_uri": "https://localhost:8080/",
          "height": 419
        },
        "id": "jmWZt1-_m0z5",
        "outputId": "83b011ca-f78f-4ca1-a8e8-d30272dbfcd7"
      },
      "source": [
        "wcd_df"
      ],
      "execution_count": 97,
      "outputs": [
        {
          "output_type": "execute_result",
          "data": {
            "text/html": [
              "<div>\n",
              "<style scoped>\n",
              "    .dataframe tbody tr th:only-of-type {\n",
              "        vertical-align: middle;\n",
              "    }\n",
              "\n",
              "    .dataframe tbody tr th {\n",
              "        vertical-align: top;\n",
              "    }\n",
              "\n",
              "    .dataframe thead th {\n",
              "        text-align: right;\n",
              "    }\n",
              "</style>\n",
              "<table border=\"1\" class=\"dataframe\">\n",
              "  <thead>\n",
              "    <tr style=\"text-align: right;\">\n",
              "      <th></th>\n",
              "      <th>Channel</th>\n",
              "      <th>Fresh</th>\n",
              "      <th>Milk</th>\n",
              "      <th>Grocery</th>\n",
              "      <th>Frozen</th>\n",
              "      <th>Detergents_Paper</th>\n",
              "      <th>Delicassen</th>\n",
              "      <th>Region_Lisbon</th>\n",
              "      <th>Region_Oporto</th>\n",
              "      <th>Other Region</th>\n",
              "    </tr>\n",
              "  </thead>\n",
              "  <tbody>\n",
              "    <tr>\n",
              "      <th>0</th>\n",
              "      <td>1</td>\n",
              "      <td>12669</td>\n",
              "      <td>9656</td>\n",
              "      <td>7561</td>\n",
              "      <td>214</td>\n",
              "      <td>2674</td>\n",
              "      <td>1338</td>\n",
              "      <td>0</td>\n",
              "      <td>0</td>\n",
              "      <td>1</td>\n",
              "    </tr>\n",
              "    <tr>\n",
              "      <th>1</th>\n",
              "      <td>1</td>\n",
              "      <td>7057</td>\n",
              "      <td>9810</td>\n",
              "      <td>9568</td>\n",
              "      <td>1762</td>\n",
              "      <td>3293</td>\n",
              "      <td>1776</td>\n",
              "      <td>0</td>\n",
              "      <td>0</td>\n",
              "      <td>1</td>\n",
              "    </tr>\n",
              "    <tr>\n",
              "      <th>2</th>\n",
              "      <td>1</td>\n",
              "      <td>6353</td>\n",
              "      <td>8808</td>\n",
              "      <td>7684</td>\n",
              "      <td>2405</td>\n",
              "      <td>3516</td>\n",
              "      <td>7844</td>\n",
              "      <td>0</td>\n",
              "      <td>0</td>\n",
              "      <td>1</td>\n",
              "    </tr>\n",
              "    <tr>\n",
              "      <th>3</th>\n",
              "      <td>0</td>\n",
              "      <td>13265</td>\n",
              "      <td>1196</td>\n",
              "      <td>4221</td>\n",
              "      <td>6404</td>\n",
              "      <td>507</td>\n",
              "      <td>1788</td>\n",
              "      <td>0</td>\n",
              "      <td>0</td>\n",
              "      <td>1</td>\n",
              "    </tr>\n",
              "    <tr>\n",
              "      <th>4</th>\n",
              "      <td>1</td>\n",
              "      <td>22615</td>\n",
              "      <td>5410</td>\n",
              "      <td>7198</td>\n",
              "      <td>3915</td>\n",
              "      <td>1777</td>\n",
              "      <td>5185</td>\n",
              "      <td>0</td>\n",
              "      <td>0</td>\n",
              "      <td>1</td>\n",
              "    </tr>\n",
              "    <tr>\n",
              "      <th>...</th>\n",
              "      <td>...</td>\n",
              "      <td>...</td>\n",
              "      <td>...</td>\n",
              "      <td>...</td>\n",
              "      <td>...</td>\n",
              "      <td>...</td>\n",
              "      <td>...</td>\n",
              "      <td>...</td>\n",
              "      <td>...</td>\n",
              "      <td>...</td>\n",
              "    </tr>\n",
              "    <tr>\n",
              "      <th>435</th>\n",
              "      <td>0</td>\n",
              "      <td>29703</td>\n",
              "      <td>12051</td>\n",
              "      <td>16027</td>\n",
              "      <td>13135</td>\n",
              "      <td>182</td>\n",
              "      <td>2204</td>\n",
              "      <td>0</td>\n",
              "      <td>0</td>\n",
              "      <td>1</td>\n",
              "    </tr>\n",
              "    <tr>\n",
              "      <th>436</th>\n",
              "      <td>0</td>\n",
              "      <td>39228</td>\n",
              "      <td>1431</td>\n",
              "      <td>764</td>\n",
              "      <td>4510</td>\n",
              "      <td>93</td>\n",
              "      <td>2346</td>\n",
              "      <td>0</td>\n",
              "      <td>0</td>\n",
              "      <td>1</td>\n",
              "    </tr>\n",
              "    <tr>\n",
              "      <th>437</th>\n",
              "      <td>1</td>\n",
              "      <td>14531</td>\n",
              "      <td>15488</td>\n",
              "      <td>30243</td>\n",
              "      <td>437</td>\n",
              "      <td>14841</td>\n",
              "      <td>1867</td>\n",
              "      <td>0</td>\n",
              "      <td>0</td>\n",
              "      <td>1</td>\n",
              "    </tr>\n",
              "    <tr>\n",
              "      <th>438</th>\n",
              "      <td>0</td>\n",
              "      <td>10290</td>\n",
              "      <td>1981</td>\n",
              "      <td>2232</td>\n",
              "      <td>1038</td>\n",
              "      <td>168</td>\n",
              "      <td>2125</td>\n",
              "      <td>0</td>\n",
              "      <td>0</td>\n",
              "      <td>1</td>\n",
              "    </tr>\n",
              "    <tr>\n",
              "      <th>439</th>\n",
              "      <td>0</td>\n",
              "      <td>2787</td>\n",
              "      <td>1698</td>\n",
              "      <td>2510</td>\n",
              "      <td>65</td>\n",
              "      <td>477</td>\n",
              "      <td>52</td>\n",
              "      <td>0</td>\n",
              "      <td>0</td>\n",
              "      <td>1</td>\n",
              "    </tr>\n",
              "  </tbody>\n",
              "</table>\n",
              "<p>440 rows × 10 columns</p>\n",
              "</div>"
            ],
            "text/plain": [
              "     Channel  Fresh   Milk  ...  Region_Lisbon  Region_Oporto  Other Region\n",
              "0          1  12669   9656  ...              0              0             1\n",
              "1          1   7057   9810  ...              0              0             1\n",
              "2          1   6353   8808  ...              0              0             1\n",
              "3          0  13265   1196  ...              0              0             1\n",
              "4          1  22615   5410  ...              0              0             1\n",
              "..       ...    ...    ...  ...            ...            ...           ...\n",
              "435        0  29703  12051  ...              0              0             1\n",
              "436        0  39228   1431  ...              0              0             1\n",
              "437        1  14531  15488  ...              0              0             1\n",
              "438        0  10290   1981  ...              0              0             1\n",
              "439        0   2787   1698  ...              0              0             1\n",
              "\n",
              "[440 rows x 10 columns]"
            ]
          },
          "metadata": {
            "tags": []
          },
          "execution_count": 97
        }
      ]
    },
    {
      "cell_type": "markdown",
      "metadata": {
        "id": "3RymTtkrnGmN"
      },
      "source": [
        "Будем делить на классы по параметру Channel (оптовая или розничная продажа продуктов)"
      ]
    },
    {
      "cell_type": "code",
      "metadata": {
        "colab": {
          "base_uri": "https://localhost:8080/"
        },
        "id": "n_j_w-_vm6_M",
        "outputId": "11402be1-9752-4de2-dda3-d6d48c96acc9"
      },
      "source": [
        "wcd_df['Channel'].unique()"
      ],
      "execution_count": 98,
      "outputs": [
        {
          "output_type": "execute_result",
          "data": {
            "text/plain": [
              "array([1, 0])"
            ]
          },
          "metadata": {
            "tags": []
          },
          "execution_count": 98
        }
      ]
    },
    {
      "cell_type": "code",
      "metadata": {
        "colab": {
          "base_uri": "https://localhost:8080/"
        },
        "id": "qsiZ8dF7m9LF",
        "outputId": "e396388d-f360-46f8-bdab-e797ef2f7c21"
      },
      "source": [
        "X = wcd_df.iloc[:, 1: ].values\n",
        "y = wcd_df.iloc[:, 0].values\n",
        "print(X)"
      ],
      "execution_count": 99,
      "outputs": [
        {
          "output_type": "stream",
          "text": [
            "[[12669  9656  7561 ...     0     0     1]\n",
            " [ 7057  9810  9568 ...     0     0     1]\n",
            " [ 6353  8808  7684 ...     0     0     1]\n",
            " ...\n",
            " [14531 15488 30243 ...     0     0     1]\n",
            " [10290  1981  2232 ...     0     0     1]\n",
            " [ 2787  1698  2510 ...     0     0     1]]\n"
          ],
          "name": "stdout"
        }
      ]
    },
    {
      "cell_type": "code",
      "metadata": {
        "colab": {
          "base_uri": "https://localhost:8080/"
        },
        "id": "mkuGoFbRm_G4",
        "outputId": "75e7c234-ff59-4396-90c8-44f7ddbae265"
      },
      "source": [
        "print(y)"
      ],
      "execution_count": 100,
      "outputs": [
        {
          "output_type": "stream",
          "text": [
            "[1 1 1 0 1 1 1 1 0 1 1 1 1 1 1 0 1 0 1 0 1 0 0 1 1 1 0 0 1 0 0 0 0 0 0 1 0\n",
            " 1 1 0 0 0 1 1 1 1 1 1 1 1 0 0 1 1 0 0 1 1 0 0 1 1 1 1 0 1 0 1 0 0 0 0 0 1\n",
            " 1 0 0 1 0 0 0 1 1 0 1 1 1 0 0 0 0 0 1 0 1 0 1 0 0 0 1 1 1 0 0 0 1 1 1 1 0\n",
            " 1 0 0 0 0 0 0 0 0 0 0 0 1 0 0 0 1 0 0 0 0 0 0 0 0 0 0 0 0 0 0 0 0 0 1 0 0\n",
            " 0 0 0 0 0 0 0 1 1 0 1 1 1 0 0 1 1 1 1 0 0 0 1 1 0 1 0 1 0 0 0 0 0 0 0 0 0\n",
            " 0 0 0 1 1 0 0 0 1 0 0 0 1 0 0 1 1 0 0 0 1 0 1 0 1 0 1 0 0 1 0 1 0 1 0 0 0\n",
            " 0 1 0 0 1 0 0 0 1 0 0 0 0 0 0 0 0 0 0 0 0 0 0 1 0 0 0 0 0 1 0 0 0 0 0 0 0\n",
            " 0 0 0 0 0 1 0 1 0 1 0 0 0 0 0 0 0 0 0 0 1 0 1 0 0 0 0 0 0 0 0 0 0 0 1 0 1\n",
            " 0 1 1 0 1 1 1 1 1 1 1 0 0 1 0 0 1 0 0 1 0 0 0 1 0 0 0 0 0 0 0 0 0 0 0 1 0\n",
            " 1 1 1 0 0 0 0 1 1 0 1 0 0 1 1 0 1 0 1 0 1 0 0 0 1 0 0 0 0 0 0 0 1 0 0 0 0\n",
            " 1 0 0 1 0 0 1 0 0 1 0 0 0 0 0 0 0 0 0 0 0 0 0 0 0 0 1 0 0 0 0 0 0 0 0 0 0\n",
            " 1 1 0 0 0 0 0 0 1 1 0 1 0 0 1 0 1 1 0 0 0 0 0 0 0 0 0 0 0 0 1 0 0]\n"
          ],
          "name": "stdout"
        }
      ]
    },
    {
      "cell_type": "markdown",
      "metadata": {
        "id": "Xm8HLwpdnCEX"
      },
      "source": [
        "Разобьем датасет на обучение и тестовые данные, масштабируем данные."
      ]
    },
    {
      "cell_type": "code",
      "metadata": {
        "colab": {
          "base_uri": "https://localhost:8080/"
        },
        "id": "4R0h2AkZnCnY",
        "outputId": "92c3ae1c-9c07-4f8d-f4cf-805c185e2761"
      },
      "source": [
        "from sklearn.model_selection import train_test_split\n",
        "from collections import Counter\n",
        "\n",
        "X_train, X_test, y_train, y_test = train_test_split(X, y, test_size=0.20, stratify=y)\n",
        "\n",
        "print(Counter(y_train).values())\n",
        "print(Counter(y_test).values())"
      ],
      "execution_count": 101,
      "outputs": [
        {
          "output_type": "stream",
          "text": [
            "dict_values([238, 114])\n",
            "dict_values([60, 28])\n"
          ],
          "name": "stdout"
        }
      ]
    },
    {
      "cell_type": "code",
      "metadata": {
        "id": "ujx90ChNnKZ_"
      },
      "source": [
        "from sklearn.preprocessing import StandardScaler\n",
        "scaler = StandardScaler()\n",
        "scaler.fit(X_train)\n",
        "\n",
        "X_train = scaler.transform(X_train)\n",
        "X_test = scaler.transform(X_test)"
      ],
      "execution_count": 102,
      "outputs": []
    },
    {
      "cell_type": "code",
      "metadata": {
        "colab": {
          "base_uri": "https://localhost:8080/"
        },
        "id": "Kd_6af3cnOGr",
        "outputId": "cda29966-6874-42b9-a370-9d4deed1a5a7"
      },
      "source": [
        "X_train"
      ],
      "execution_count": 103,
      "outputs": [
        {
          "output_type": "execute_result",
          "data": {
            "text/plain": [
              "array([[ 5.73099692e-01, -5.39862051e-01, -6.80649028e-01, ...,\n",
              "        -4.48737326e-01, -3.37526370e-01,  6.07988327e-01],\n",
              "       [ 1.14649312e+00,  3.98571182e+00,  1.53104503e+00, ...,\n",
              "        -4.48737326e-01, -3.37526370e-01,  6.07988327e-01],\n",
              "       [-7.98827266e-02,  3.08118711e-03, -2.50823707e-01, ...,\n",
              "         2.22847520e+00, -3.37526370e-01, -1.64476842e+00],\n",
              "       ...,\n",
              "       [-1.33342807e-01, -5.71792191e-01, -7.41695738e-01, ...,\n",
              "        -4.48737326e-01, -3.37526370e-01,  6.07988327e-01],\n",
              "       [-1.04408640e-01, -6.26884768e-01, -6.36221797e-01, ...,\n",
              "        -4.48737326e-01, -3.37526370e-01,  6.07988327e-01],\n",
              "       [ 7.37727885e-01, -5.17223058e-01, -1.49260230e-01, ...,\n",
              "        -4.48737326e-01,  2.96273147e+00, -1.64476842e+00]])"
            ]
          },
          "metadata": {
            "tags": []
          },
          "execution_count": 103
        }
      ]
    },
    {
      "cell_type": "markdown",
      "metadata": {
        "id": "bmDyFeg8nRhI"
      },
      "source": [
        "# Композиции алгоритмов"
      ]
    },
    {
      "cell_type": "code",
      "metadata": {
        "id": "nkcZSt6ucy3D"
      },
      "source": [
        "from sklearn.model_selection import GridSearchCV"
      ],
      "execution_count": 104,
      "outputs": []
    },
    {
      "cell_type": "markdown",
      "metadata": {
        "id": "qv3bkuAenXl2"
      },
      "source": [
        "## Бэггинг"
      ]
    },
    {
      "cell_type": "code",
      "metadata": {
        "id": "TTbY7iYM773S"
      },
      "source": [
        "from sklearn.ensemble import BaggingClassifier\n",
        "from sklearn.naive_bayes import GaussianNB"
      ],
      "execution_count": 109,
      "outputs": []
    },
    {
      "cell_type": "code",
      "metadata": {
        "colab": {
          "base_uri": "https://localhost:8080/"
        },
        "id": "vPHsDgb-Qu4h",
        "outputId": "2481a5f2-f016-4652-d9e3-347dda580f66"
      },
      "source": [
        "%%time\n",
        "clf = GaussianNB()\n",
        "bgc = BaggingClassifier(clf)\n",
        "\n",
        "bagging_parameters = {'n_estimators' : range(10, 50, 10), 'max_features' : range(1,5,1)}\n",
        "bagging = GridSearchCV(bgc, bagging_parameters)\n",
        "bagging.fit(X_train, y_train)"
      ],
      "execution_count": 110,
      "outputs": [
        {
          "output_type": "stream",
          "text": [
            "CPU times: user 3.5 s, sys: 43.9 ms, total: 3.54 s\n",
            "Wall time: 3.6 s\n"
          ],
          "name": "stdout"
        }
      ]
    },
    {
      "cell_type": "code",
      "metadata": {
        "colab": {
          "base_uri": "https://localhost:8080/"
        },
        "id": "tYvkw74VsUQg",
        "outputId": "a8a32a69-3de1-41ca-805f-fdba19fae905"
      },
      "source": [
        "bagging.best_params_"
      ],
      "execution_count": 111,
      "outputs": [
        {
          "output_type": "execute_result",
          "data": {
            "text/plain": [
              "{'max_features': 4, 'n_estimators': 10}"
            ]
          },
          "metadata": {
            "tags": []
          },
          "execution_count": 111
        }
      ]
    },
    {
      "cell_type": "code",
      "metadata": {
        "colab": {
          "base_uri": "https://localhost:8080/"
        },
        "id": "6TPDKN0cUN-i",
        "outputId": "fc5e625e-028d-4d2e-aa99-9ab23723bd9d"
      },
      "source": [
        "y_pred = bagging.predict(X_test)\n",
        "print(metrics.confusion_matrix(y_test, y_pred))\n",
        "print(metrics.classification_report(y_test, y_pred))"
      ],
      "execution_count": 113,
      "outputs": [
        {
          "output_type": "stream",
          "text": [
            "[[58  2]\n",
            " [ 5 23]]\n",
            "              precision    recall  f1-score   support\n",
            "\n",
            "           0       0.92      0.97      0.94        60\n",
            "           1       0.92      0.82      0.87        28\n",
            "\n",
            "    accuracy                           0.92        88\n",
            "   macro avg       0.92      0.89      0.91        88\n",
            "weighted avg       0.92      0.92      0.92        88\n",
            "\n"
          ],
          "name": "stdout"
        }
      ]
    },
    {
      "cell_type": "markdown",
      "metadata": {
        "id": "DFTBqfIqYcnC"
      },
      "source": [
        "## Бустинг"
      ]
    },
    {
      "cell_type": "code",
      "metadata": {
        "id": "pQNwCBp9YlED"
      },
      "source": [
        "from sklearn.ensemble import GradientBoostingClassifier"
      ],
      "execution_count": 114,
      "outputs": []
    },
    {
      "cell_type": "code",
      "metadata": {
        "colab": {
          "base_uri": "https://localhost:8080/"
        },
        "id": "hdj8Ojy2aTlg",
        "outputId": "12733d46-7960-4c6a-f625-d359480418df"
      },
      "source": [
        "%%time\n",
        "gbc = GradientBoostingClassifier()\n",
        "boosting_parameters = {'n_estimators' : range(5,20,5), 'max_depth' : range(1,8,1)}\n",
        "boosting = GridSearchCV(gbc, boosting_parameters)\n",
        "boosting.fit(X_train, y_train)"
      ],
      "execution_count": 115,
      "outputs": [
        {
          "output_type": "stream",
          "text": [
            "CPU times: user 1.77 s, sys: 4.24 ms, total: 1.77 s\n",
            "Wall time: 1.8 s\n"
          ],
          "name": "stdout"
        }
      ]
    },
    {
      "cell_type": "code",
      "metadata": {
        "colab": {
          "base_uri": "https://localhost:8080/"
        },
        "id": "4v7oP8BPshDC",
        "outputId": "22f7a6d5-8946-46bb-d0f7-364fd90ec5e8"
      },
      "source": [
        "boosting.best_params_"
      ],
      "execution_count": 116,
      "outputs": [
        {
          "output_type": "execute_result",
          "data": {
            "text/plain": [
              "{'max_depth': 2, 'n_estimators': 10}"
            ]
          },
          "metadata": {
            "tags": []
          },
          "execution_count": 116
        }
      ]
    },
    {
      "cell_type": "code",
      "metadata": {
        "colab": {
          "base_uri": "https://localhost:8080/"
        },
        "id": "yi66MrbvZJ5T",
        "outputId": "d3f1b760-8e81-4f76-d7dc-7efa784e2336"
      },
      "source": [
        "y_pred = boosting.predict(X_test)\n",
        "print(metrics.confusion_matrix(y_test, y_pred))\n",
        "print(metrics.classification_report(y_test, y_pred))"
      ],
      "execution_count": 117,
      "outputs": [
        {
          "output_type": "stream",
          "text": [
            "[[57  3]\n",
            " [ 4 24]]\n",
            "              precision    recall  f1-score   support\n",
            "\n",
            "           0       0.93      0.95      0.94        60\n",
            "           1       0.89      0.86      0.87        28\n",
            "\n",
            "    accuracy                           0.92        88\n",
            "   macro avg       0.91      0.90      0.91        88\n",
            "weighted avg       0.92      0.92      0.92        88\n",
            "\n"
          ],
          "name": "stdout"
        }
      ]
    },
    {
      "cell_type": "markdown",
      "metadata": {
        "id": "ZTGcgz4JbwAs"
      },
      "source": [
        "## Стекинг"
      ]
    },
    {
      "cell_type": "code",
      "metadata": {
        "id": "VjWt0iJ3bzbU"
      },
      "source": [
        "from sklearn.ensemble import StackingClassifier\n",
        "from sklearn.neighbors import KNeighborsClassifier"
      ],
      "execution_count": 124,
      "outputs": []
    },
    {
      "cell_type": "markdown",
      "metadata": {
        "id": "ZbJG6d0PoiLy"
      },
      "source": [
        "Подберем гиперпараметры к алгоритму KNeighborsClassifier"
      ]
    },
    {
      "cell_type": "code",
      "metadata": {
        "colab": {
          "base_uri": "https://localhost:8080/"
        },
        "id": "FWDvTPsciKnn",
        "outputId": "7b4e3901-192b-46d0-89f3-ea9e7772ac8e"
      },
      "source": [
        "knc_parameters = {'n_neighbors': range(1, 10, 1)}\n",
        "\n",
        "knc = KNeighborsClassifier()\n",
        "clf_knc = GridSearchCV(knc, knc_parameters)\n",
        "\n",
        "clf_knc.fit(X_train, y_train)\n",
        "clf_knc.best_params_"
      ],
      "execution_count": 125,
      "outputs": [
        {
          "output_type": "execute_result",
          "data": {
            "text/plain": [
              "{'n_neighbors': 8}"
            ]
          },
          "metadata": {
            "tags": []
          },
          "execution_count": 125
        }
      ]
    },
    {
      "cell_type": "code",
      "metadata": {
        "colab": {
          "base_uri": "https://localhost:8080/"
        },
        "id": "AyABXTysoBji",
        "outputId": "c58f85d2-75a3-4895-d93e-980f68f996eb"
      },
      "source": [
        "%%time\n",
        "estimators = [\n",
        "('gnb', GaussianNB()),\n",
        "('knn', KNeighborsClassifier(n_neighbors = 8))]\n",
        "\n",
        "sc = StackingClassifier(estimators=estimators)\n",
        "sc.fit(X_train, y_train)\n",
        "y_pred = sc.predict(X_test)\n",
        "print(metrics.confusion_matrix(y_test, y_pred))\n",
        "print(metrics.classification_report(y_test, y_pred))"
      ],
      "execution_count": 126,
      "outputs": [
        {
          "output_type": "stream",
          "text": [
            "[[56  4]\n",
            " [ 7 21]]\n",
            "              precision    recall  f1-score   support\n",
            "\n",
            "           0       0.89      0.93      0.91        60\n",
            "           1       0.84      0.75      0.79        28\n",
            "\n",
            "    accuracy                           0.88        88\n",
            "   macro avg       0.86      0.84      0.85        88\n",
            "weighted avg       0.87      0.88      0.87        88\n",
            "\n",
            "CPU times: user 34.4 ms, sys: 1 ms, total: 35.4 ms\n",
            "Wall time: 36.8 ms\n"
          ],
          "name": "stdout"
        }
      ]
    },
    {
      "cell_type": "markdown",
      "metadata": {
        "id": "OCsEy9Igsx2N"
      },
      "source": [
        "# Выводы"
      ]
    },
    {
      "cell_type": "markdown",
      "metadata": {
        "id": "OmBHEAzDs5Ih"
      },
      "source": [
        "Алгоритмы беггинг и бустинг отраболи примерно одинаково с достаточно высокими значениями полноты и точности, ошибившись лишь на 7 объектах из выборки.\n",
        "\n",
        "Алгоритм стекинг дал результат чуть хуже, ошибившись уже на 11 объектах из выборки."
      ]
    }
  ]
}