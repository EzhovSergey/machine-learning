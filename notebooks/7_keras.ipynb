{
  "nbformat": 4,
  "nbformat_minor": 0,
  "metadata": {
    "colab": {
      "name": "7_keras.ipynb",
      "provenance": [],
      "toc_visible": true
    },
    "kernelspec": {
      "name": "python3",
      "display_name": "Python 3"
    },
    "language_info": {
      "name": "python"
    }
  },
  "cells": [
    {
      "cell_type": "markdown",
      "metadata": {
        "id": "SJeIx0TUTx0S"
      },
      "source": [
        "https://colab.research.google.com/drive/17KY5mr2uWJTTcPdvdyNjCxjT36HjS-FJ"
      ]
    },
    {
      "cell_type": "code",
      "metadata": {
        "id": "SjObBQlANOzl"
      },
      "source": [
        "import pandas as pd\n",
        "from keras.models import Sequential\n",
        "from keras.layers import Dense\n",
        "from keras.utils.vis_utils import plot_model\n",
        "\n",
        "from sklearn.metrics import classification_report, confusion_matrix"
      ],
      "execution_count": 15,
      "outputs": []
    },
    {
      "cell_type": "markdown",
      "metadata": {
        "id": "pa5YDxfWhO9m"
      },
      "source": [
        "# Загрузка и подготовка данных"
      ]
    },
    {
      "cell_type": "code",
      "metadata": {
        "colab": {
          "base_uri": "https://localhost:8080/",
          "height": 198
        },
        "id": "jqV3f8ZfhHgp",
        "outputId": "89a3fd56-7aff-4590-bf6f-ffc3806aad7a"
      },
      "source": [
        "wcd_df = pd.DataFrame\n",
        "wcd_df = pd.read_csv('../data/wholesale_customers_data_preprocessed.csv' )\n",
        "wcd_df.head()"
      ],
      "execution_count": 16,
      "outputs": [
        {
          "output_type": "execute_result",
          "data": {
            "text/html": [
              "<div>\n",
              "<style scoped>\n",
              "    .dataframe tbody tr th:only-of-type {\n",
              "        vertical-align: middle;\n",
              "    }\n",
              "\n",
              "    .dataframe tbody tr th {\n",
              "        vertical-align: top;\n",
              "    }\n",
              "\n",
              "    .dataframe thead th {\n",
              "        text-align: right;\n",
              "    }\n",
              "</style>\n",
              "<table border=\"1\" class=\"dataframe\">\n",
              "  <thead>\n",
              "    <tr style=\"text-align: right;\">\n",
              "      <th></th>\n",
              "      <th>Unnamed: 0</th>\n",
              "      <th>Channel</th>\n",
              "      <th>Fresh</th>\n",
              "      <th>Milk</th>\n",
              "      <th>Grocery</th>\n",
              "      <th>Frozen</th>\n",
              "      <th>Detergents_Paper</th>\n",
              "      <th>Delicassen</th>\n",
              "      <th>Region_Lisbon</th>\n",
              "      <th>Region_Oporto</th>\n",
              "      <th>Other Region</th>\n",
              "    </tr>\n",
              "  </thead>\n",
              "  <tbody>\n",
              "    <tr>\n",
              "      <th>0</th>\n",
              "      <td>0</td>\n",
              "      <td>1</td>\n",
              "      <td>12669</td>\n",
              "      <td>9656</td>\n",
              "      <td>7561</td>\n",
              "      <td>214</td>\n",
              "      <td>2674</td>\n",
              "      <td>1338</td>\n",
              "      <td>0</td>\n",
              "      <td>0</td>\n",
              "      <td>1</td>\n",
              "    </tr>\n",
              "    <tr>\n",
              "      <th>1</th>\n",
              "      <td>1</td>\n",
              "      <td>1</td>\n",
              "      <td>7057</td>\n",
              "      <td>9810</td>\n",
              "      <td>9568</td>\n",
              "      <td>1762</td>\n",
              "      <td>3293</td>\n",
              "      <td>1776</td>\n",
              "      <td>0</td>\n",
              "      <td>0</td>\n",
              "      <td>1</td>\n",
              "    </tr>\n",
              "    <tr>\n",
              "      <th>2</th>\n",
              "      <td>2</td>\n",
              "      <td>1</td>\n",
              "      <td>6353</td>\n",
              "      <td>8808</td>\n",
              "      <td>7684</td>\n",
              "      <td>2405</td>\n",
              "      <td>3516</td>\n",
              "      <td>7844</td>\n",
              "      <td>0</td>\n",
              "      <td>0</td>\n",
              "      <td>1</td>\n",
              "    </tr>\n",
              "    <tr>\n",
              "      <th>3</th>\n",
              "      <td>3</td>\n",
              "      <td>0</td>\n",
              "      <td>13265</td>\n",
              "      <td>1196</td>\n",
              "      <td>4221</td>\n",
              "      <td>6404</td>\n",
              "      <td>507</td>\n",
              "      <td>1788</td>\n",
              "      <td>0</td>\n",
              "      <td>0</td>\n",
              "      <td>1</td>\n",
              "    </tr>\n",
              "    <tr>\n",
              "      <th>4</th>\n",
              "      <td>4</td>\n",
              "      <td>1</td>\n",
              "      <td>22615</td>\n",
              "      <td>5410</td>\n",
              "      <td>7198</td>\n",
              "      <td>3915</td>\n",
              "      <td>1777</td>\n",
              "      <td>5185</td>\n",
              "      <td>0</td>\n",
              "      <td>0</td>\n",
              "      <td>1</td>\n",
              "    </tr>\n",
              "  </tbody>\n",
              "</table>\n",
              "</div>"
            ],
            "text/plain": [
              "   Unnamed: 0  Channel  Fresh  ...  Region_Lisbon  Region_Oporto  Other Region\n",
              "0           0        1  12669  ...              0              0             1\n",
              "1           1        1   7057  ...              0              0             1\n",
              "2           2        1   6353  ...              0              0             1\n",
              "3           3        0  13265  ...              0              0             1\n",
              "4           4        1  22615  ...              0              0             1\n",
              "\n",
              "[5 rows x 11 columns]"
            ]
          },
          "metadata": {
            "tags": []
          },
          "execution_count": 16
        }
      ]
    },
    {
      "cell_type": "code",
      "metadata": {
        "id": "VShDPkRghLH9"
      },
      "source": [
        "del wcd_df['Unnamed: 0']"
      ],
      "execution_count": 17,
      "outputs": []
    },
    {
      "cell_type": "code",
      "metadata": {
        "colab": {
          "base_uri": "https://localhost:8080/"
        },
        "id": "nVo0ILvEh8Ag",
        "outputId": "da83526f-3dd5-4ddb-8fd8-7ce248171d8d"
      },
      "source": [
        "wcd_df['Channel'].unique()"
      ],
      "execution_count": 18,
      "outputs": [
        {
          "output_type": "execute_result",
          "data": {
            "text/plain": [
              "array([1, 0])"
            ]
          },
          "metadata": {
            "tags": []
          },
          "execution_count": 18
        }
      ]
    },
    {
      "cell_type": "code",
      "metadata": {
        "colab": {
          "base_uri": "https://localhost:8080/"
        },
        "id": "1zeDz_w-h-xE",
        "outputId": "2819b1ac-c2d8-4c0d-b11f-fccf87940d66"
      },
      "source": [
        "X = wcd_df.iloc[:, 1: ].values\n",
        "y = wcd_df.iloc[:, 0].values\n",
        "print(X)"
      ],
      "execution_count": 19,
      "outputs": [
        {
          "output_type": "stream",
          "text": [
            "[[12669  9656  7561 ...     0     0     1]\n",
            " [ 7057  9810  9568 ...     0     0     1]\n",
            " [ 6353  8808  7684 ...     0     0     1]\n",
            " ...\n",
            " [14531 15488 30243 ...     0     0     1]\n",
            " [10290  1981  2232 ...     0     0     1]\n",
            " [ 2787  1698  2510 ...     0     0     1]]\n"
          ],
          "name": "stdout"
        }
      ]
    },
    {
      "cell_type": "code",
      "metadata": {
        "colab": {
          "base_uri": "https://localhost:8080/"
        },
        "id": "fQFuUPq1iC7d",
        "outputId": "7f9784fd-c70d-4b32-a71e-4504a98264bd"
      },
      "source": [
        "from sklearn.model_selection import train_test_split\n",
        "from collections import Counter\n",
        "\n",
        "X_train, X_test, y_train, y_test = train_test_split(X, y, test_size=0.20, stratify=y)\n",
        "\n",
        "print(Counter(y_train).values())\n",
        "print(Counter(y_test).values())"
      ],
      "execution_count": 20,
      "outputs": [
        {
          "output_type": "stream",
          "text": [
            "dict_values([238, 114])\n",
            "dict_values([60, 28])\n"
          ],
          "name": "stdout"
        }
      ]
    },
    {
      "cell_type": "code",
      "metadata": {
        "id": "m17nRYxoiFxS"
      },
      "source": [
        "from sklearn.preprocessing import StandardScaler\n",
        "scaler = StandardScaler()\n",
        "scaler.fit(X_train)\n",
        "\n",
        "X_train = scaler.transform(X_train)\n",
        "X_test = scaler.transform(X_test)"
      ],
      "execution_count": 21,
      "outputs": []
    },
    {
      "cell_type": "markdown",
      "metadata": {
        "id": "BXwCgVbQpmDv"
      },
      "source": [
        "# Обучение"
      ]
    },
    {
      "cell_type": "markdown",
      "metadata": {
        "id": "dnmvaMA6JwTa"
      },
      "source": [
        "## 1 модель"
      ]
    },
    {
      "cell_type": "code",
      "metadata": {
        "id": "hWUzs-hirRzi"
      },
      "source": [
        "model_1 = Sequential()\n",
        "model_1.add(Dense(8, input_dim=len(X_train[0]), activation='relu'))\n",
        "\n",
        "model_1.add(Dense(1, activation='sigmoid'))"
      ],
      "execution_count": 22,
      "outputs": []
    },
    {
      "cell_type": "code",
      "metadata": {
        "colab": {
          "base_uri": "https://localhost:8080/"
        },
        "id": "HhChdqczsQJj",
        "outputId": "af8e0d05-5e01-4ebd-ab0b-898a7c811857"
      },
      "source": [
        "print(model_1.summary())"
      ],
      "execution_count": 23,
      "outputs": [
        {
          "output_type": "stream",
          "text": [
            "Model: \"sequential_1\"\n",
            "_________________________________________________________________\n",
            "Layer (type)                 Output Shape              Param #   \n",
            "=================================================================\n",
            "dense_2 (Dense)              (None, 8)                 80        \n",
            "_________________________________________________________________\n",
            "dense_3 (Dense)              (None, 1)                 9         \n",
            "=================================================================\n",
            "Total params: 89\n",
            "Trainable params: 89\n",
            "Non-trainable params: 0\n",
            "_________________________________________________________________\n",
            "None\n"
          ],
          "name": "stdout"
        }
      ]
    },
    {
      "cell_type": "code",
      "metadata": {
        "colab": {
          "base_uri": "https://localhost:8080/",
          "height": 312
        },
        "id": "I9y21nl1skjG",
        "outputId": "cacb4d74-eb02-427a-e090-fe61456c87fd"
      },
      "source": [
        "plot_model(model_1, to_file='model_plot_1.png', show_shapes=True, show_layer_names=True)"
      ],
      "execution_count": 24,
      "outputs": [
        {
          "output_type": "execute_result",
          "data": {
            "image/png": "[encoded data removed]",
            "text/plain": [
              "<IPython.core.display.Image object>"
            ]
          },
          "metadata": {
            "tags": []
          },
          "execution_count": 24
        }
      ]
    },
    {
      "cell_type": "code",
      "metadata": {
        "id": "hl1wB5PDty-e"
      },
      "source": [
        "model_1.compile(loss='binary_crossentropy', optimizer='adam', metrics=['accuracy', 'Precision', 'Recall'])"
      ],
      "execution_count": 25,
      "outputs": []
    },
    {
      "cell_type": "code",
      "metadata": {
        "id": "Qg3pg20OtzuV"
      },
      "source": [
        "model_1.fit(X_train, y_train, epochs=200, batch_size=10)"
      ],
      "execution_count": null,
      "outputs": []
    },
    {
      "cell_type": "code",
      "metadata": {
        "colab": {
          "base_uri": "https://localhost:8080/"
        },
        "id": "_m1oz4UsuDjc",
        "outputId": "0f80ad67-f718-4fab-e03e-4c1a7b21d46d"
      },
      "source": [
        "_, accuracy, precision, recall = model_1.evaluate(X_test, y_test)\n",
        "print('Accuracy: %.2f, %.2f, %.2f,' % (accuracy*100, precision*100, recall*100))"
      ],
      "execution_count": 27,
      "outputs": [
        {
          "output_type": "stream",
          "text": [
            "3/3 [==============================] - 1s 4ms/step - loss: 0.1338 - accuracy: 0.9545 - precision: 0.8750 - recall: 1.0000\n",
            "Accuracy: 95.45, 87.50, 100.00,\n"
          ],
          "name": "stdout"
        }
      ]
    },
    {
      "cell_type": "code",
      "metadata": {
        "colab": {
          "base_uri": "https://localhost:8080/"
        },
        "id": "gbaxuYX9u28P",
        "outputId": "55619293-df73-41f8-c950-d667740efed2"
      },
      "source": [
        "predictions_1 = (model_1.predict(X_test) > 0.5).astype(\"int32\")\n",
        "for i in range(10):\n",
        "\tprint('%s => %d (expected %d)' % (X_test[i].tolist(), predictions_1[i], y_test[i]))"
      ],
      "execution_count": 28,
      "outputs": [
        {
          "output_type": "stream",
          "text": [
            "[-0.9439955608678694, -0.2999889277133304, -0.14823692274201672, 0.854564169524556, -0.4800510359598932, -0.22814078130893428, -0.4623776632237728, -0.3216337604513384, 0.607988326736188] => 0 (expected 0)\n",
            "[1.4230208141511156, -0.46242111723508206, 0.0323400026956124, -0.01419691391691018, -0.5125353719419363, -0.4851677795340514, -0.4623776632237728, 3.1091263510296048, -1.6447684207494768] => 0 (expected 0)\n",
            "[-0.4193197546616417, -0.5869697609578309, -0.5956503461232363, -0.08530202489438968, -0.5717473261370528, -0.17355975851981675, -0.4623776632237728, 3.1091263510296048, -1.6447684207494768] => 0 (expected 0)\n",
            "[-0.719228047007916, 0.4347183320803434, -0.578398431622044, -0.4534211280475533, -0.526721569301183, 0.014331277505751451, -0.4623776632237728, -0.3216337604513384, 0.607988326736188] => 0 (expected 0)\n",
            "[-0.9912245686964175, 0.3824338493508978, -0.42808983521944083, -0.5768379010520613, -0.3704678012862921, -0.5228783043701689, -0.4623776632237728, -0.3216337604513384, 0.607988326736188] => 0 (expected 0)\n",
            "[-0.9759181138195744, -0.6462601048966812, -0.33645840909634184, -0.5900126900070166, -0.5201424632795033, -0.5202319517500905, -0.4623776632237728, -0.3216337604513384, 0.607988326736188] => 0 (expected 0)\n",
            "[-0.7631829468414174, -0.3508462905667862, -0.4854240420946606, -0.5258824672998076, -0.24340881624260458, -0.2946303908884047, -0.4623776632237728, -0.3216337604513384, 0.607988326736188] => 0 (expected 0)\n",
            "[2.499465670222582, -0.7282546286808241, -0.7743677837703177, -0.3354292681421446, -0.5822327763591046, -0.5165932168974826, -0.4623776632237728, -0.3216337604513384, 0.607988326736188] => 0 (expected 0)\n",
            "[-0.6408950132264246, -0.09863528702821973, -0.5481301025870181, 1.1145725044885273, -0.31721816192332275, -0.46399695857342393, -0.4623776632237728, -0.3216337604513384, 0.607988326736188] => 0 (expected 0)\n",
            "[-0.751641716158878, 0.9523736325530184, 1.566107515265681, 0.15920655835786954, 1.4587292698038181, -0.2820602159430322, 2.162734231207969, -0.3216337604513384, -1.6447684207494768] => 1 (expected 1)\n"
          ],
          "name": "stdout"
        }
      ]
    },
    {
      "cell_type": "code",
      "metadata": {
        "colab": {
          "base_uri": "https://localhost:8080/"
        },
        "id": "RcA8NI9IvOhk",
        "outputId": "0b9ab39a-f6d5-4407-cbed-bafa1f7c1ad8"
      },
      "source": [
        "print(confusion_matrix(y_test, predictions_1))\n",
        "print(classification_report(y_test, predictions_1))"
      ],
      "execution_count": 29,
      "outputs": [
        {
          "output_type": "stream",
          "text": [
            "[[56  4]\n",
            " [ 0 28]]\n",
            "              precision    recall  f1-score   support\n",
            "\n",
            "           0       1.00      0.93      0.97        60\n",
            "           1       0.88      1.00      0.93        28\n",
            "\n",
            "    accuracy                           0.95        88\n",
            "   macro avg       0.94      0.97      0.95        88\n",
            "weighted avg       0.96      0.95      0.96        88\n",
            "\n"
          ],
          "name": "stdout"
        }
      ]
    },
    {
      "cell_type": "markdown",
      "metadata": {
        "id": "2ieEwxCMUipT"
      },
      "source": [
        "## 2 модель"
      ]
    },
    {
      "cell_type": "markdown",
      "metadata": {
        "id": "y32ZyEGqeMSp"
      },
      "source": [
        "Во второй модели увеличим количество слоев и изменим оптимизатор"
      ]
    },
    {
      "cell_type": "code",
      "metadata": {
        "id": "Fg2_ofRaUl_K"
      },
      "source": [
        "model_2 = Sequential()\n",
        "model_2.add(Dense(9, input_dim=len(X_train[0]), activation='relu'))\n",
        "model_2.add(Dense(9, input_dim=9, activation='relu'))\n",
        "model_2.add(Dense(1, activation='sigmoid'))"
      ],
      "execution_count": 30,
      "outputs": []
    },
    {
      "cell_type": "code",
      "metadata": {
        "colab": {
          "base_uri": "https://localhost:8080/"
        },
        "id": "InZiTQSTUro3",
        "outputId": "62eeb359-ea3d-4189-d54f-a475998ee931"
      },
      "source": [
        "print(model_2.summary())"
      ],
      "execution_count": 31,
      "outputs": [
        {
          "output_type": "stream",
          "text": [
            "Model: \"sequential_2\"\n",
            "_________________________________________________________________\n",
            "Layer (type)                 Output Shape              Param #   \n",
            "=================================================================\n",
            "dense_4 (Dense)              (None, 9)                 90        \n",
            "_________________________________________________________________\n",
            "dense_5 (Dense)              (None, 9)                 90        \n",
            "_________________________________________________________________\n",
            "dense_6 (Dense)              (None, 1)                 10        \n",
            "=================================================================\n",
            "Total params: 190\n",
            "Trainable params: 190\n",
            "Non-trainable params: 0\n",
            "_________________________________________________________________\n",
            "None\n"
          ],
          "name": "stdout"
        }
      ]
    },
    {
      "cell_type": "code",
      "metadata": {
        "colab": {
          "base_uri": "https://localhost:8080/",
          "height": 422
        },
        "id": "BsuZR29_U8m8",
        "outputId": "33858392-1c5c-49c4-9e4e-e41c17420fa2"
      },
      "source": [
        "plot_model(model_2, to_file='model_plot_2.png', show_shapes=True, show_layer_names=True)"
      ],
      "execution_count": 32,
      "outputs": [
        {
          "output_type": "execute_result",
          "data": {
            "image/png": "[encoded data removed]",
            "text/plain": [
              "<IPython.core.display.Image object>"
            ]
          },
          "metadata": {
            "tags": []
          },
          "execution_count": 32
        }
      ]
    },
    {
      "cell_type": "code",
      "metadata": {
        "id": "EcqILbK7U_LG"
      },
      "source": [
        "model_2.compile(loss='binary_crossentropy', optimizer='RMSprop', metrics=['accuracy', 'Precision', 'Recall'])"
      ],
      "execution_count": 33,
      "outputs": []
    },
    {
      "cell_type": "code",
      "metadata": {
        "id": "K7WtJbCJVIBB"
      },
      "source": [
        "model_2.fit(X_train, y_train, epochs=200, batch_size=10)"
      ],
      "execution_count": null,
      "outputs": []
    },
    {
      "cell_type": "code",
      "metadata": {
        "colab": {
          "base_uri": "https://localhost:8080/"
        },
        "id": "p7EfQKQkVMvY",
        "outputId": "7100e78e-434a-4d89-efe5-25fcedd3dccd"
      },
      "source": [
        "_, accuracy, precision, recall = model_2.evaluate(X_test, y_test)\n",
        "print('Accuracy: %.2f, %.2f, %.2f,' % (accuracy*100, precision*100, recall*100))"
      ],
      "execution_count": 35,
      "outputs": [
        {
          "output_type": "stream",
          "text": [
            "3/3 [==============================] - 1s 4ms/step - loss: 0.1802 - accuracy: 0.9318 - precision: 0.8235 - recall: 1.0000\n",
            "Accuracy: 93.18, 82.35, 100.00,\n"
          ],
          "name": "stdout"
        }
      ]
    },
    {
      "cell_type": "code",
      "metadata": {
        "colab": {
          "base_uri": "https://localhost:8080/"
        },
        "id": "XcKv0117VPbF",
        "outputId": "5c061e9e-2502-4de1-cf41-76c131239e75"
      },
      "source": [
        "predictions_2 = (model_2.predict(X_test) > 0.5).astype(\"int32\")\n",
        "for i in range(10):\n",
        "\tprint('%s => %d (expected %d)' % (X_test[i].tolist(), predictions_2[i], y_test[i]))"
      ],
      "execution_count": 36,
      "outputs": [
        {
          "output_type": "stream",
          "text": [
            "[-0.9439955608678694, -0.2999889277133304, -0.14823692274201672, 0.854564169524556, -0.4800510359598932, -0.22814078130893428, -0.4623776632237728, -0.3216337604513384, 0.607988326736188] => 0 (expected 0)\n",
            "[1.4230208141511156, -0.46242111723508206, 0.0323400026956124, -0.01419691391691018, -0.5125353719419363, -0.4851677795340514, -0.4623776632237728, 3.1091263510296048, -1.6447684207494768] => 0 (expected 0)\n",
            "[-0.4193197546616417, -0.5869697609578309, -0.5956503461232363, -0.08530202489438968, -0.5717473261370528, -0.17355975851981675, -0.4623776632237728, 3.1091263510296048, -1.6447684207494768] => 0 (expected 0)\n",
            "[-0.719228047007916, 0.4347183320803434, -0.578398431622044, -0.4534211280475533, -0.526721569301183, 0.014331277505751451, -0.4623776632237728, -0.3216337604513384, 0.607988326736188] => 0 (expected 0)\n",
            "[-0.9912245686964175, 0.3824338493508978, -0.42808983521944083, -0.5768379010520613, -0.3704678012862921, -0.5228783043701689, -0.4623776632237728, -0.3216337604513384, 0.607988326736188] => 0 (expected 0)\n",
            "[-0.9759181138195744, -0.6462601048966812, -0.33645840909634184, -0.5900126900070166, -0.5201424632795033, -0.5202319517500905, -0.4623776632237728, -0.3216337604513384, 0.607988326736188] => 0 (expected 0)\n",
            "[-0.7631829468414174, -0.3508462905667862, -0.4854240420946606, -0.5258824672998076, -0.24340881624260458, -0.2946303908884047, -0.4623776632237728, -0.3216337604513384, 0.607988326736188] => 0 (expected 0)\n",
            "[2.499465670222582, -0.7282546286808241, -0.7743677837703177, -0.3354292681421446, -0.5822327763591046, -0.5165932168974826, -0.4623776632237728, -0.3216337604513384, 0.607988326736188] => 0 (expected 0)\n",
            "[-0.6408950132264246, -0.09863528702821973, -0.5481301025870181, 1.1145725044885273, -0.31721816192332275, -0.46399695857342393, -0.4623776632237728, -0.3216337604513384, 0.607988326736188] => 0 (expected 0)\n",
            "[-0.751641716158878, 0.9523736325530184, 1.566107515265681, 0.15920655835786954, 1.4587292698038181, -0.2820602159430322, 2.162734231207969, -0.3216337604513384, -1.6447684207494768] => 1 (expected 1)\n"
          ],
          "name": "stdout"
        }
      ]
    },
    {
      "cell_type": "code",
      "metadata": {
        "colab": {
          "base_uri": "https://localhost:8080/"
        },
        "id": "e9Cy_FHQVSpo",
        "outputId": "5eec07fa-c61d-41ad-cfb8-d59cd36ad28c"
      },
      "source": [
        "print(confusion_matrix(y_test, predictions_2))\n",
        "print(classification_report(y_test, predictions_2))"
      ],
      "execution_count": 37,
      "outputs": [
        {
          "output_type": "stream",
          "text": [
            "[[54  6]\n",
            " [ 0 28]]\n",
            "              precision    recall  f1-score   support\n",
            "\n",
            "           0       1.00      0.90      0.95        60\n",
            "           1       0.82      1.00      0.90        28\n",
            "\n",
            "    accuracy                           0.93        88\n",
            "   macro avg       0.91      0.95      0.93        88\n",
            "weighted avg       0.94      0.93      0.93        88\n",
            "\n"
          ],
          "name": "stdout"
        }
      ]
    },
    {
      "cell_type": "markdown",
      "metadata": {
        "id": "tXT5E2ZBYMVX"
      },
      "source": [
        "## 3 модель"
      ]
    },
    {
      "cell_type": "markdown",
      "metadata": {
        "id": "u07n3xDOesjs"
      },
      "source": [
        "В 3 моделе изменим оптимизатор и увеличим количество эпох обучения"
      ]
    },
    {
      "cell_type": "code",
      "metadata": {
        "id": "yBgi8YKBYJJ6"
      },
      "source": [
        "model_3 = Sequential()\n",
        "model_3.add(Dense(9, input_dim=len(X_train[0]), activation='relu'))\n",
        "model_3.add(Dense(1, activation='sigmoid'))"
      ],
      "execution_count": 54,
      "outputs": []
    },
    {
      "cell_type": "code",
      "metadata": {
        "colab": {
          "base_uri": "https://localhost:8080/"
        },
        "id": "MonlwIDSYY3i",
        "outputId": "0c2418a7-bc1b-4bad-92c4-735a249f34b6"
      },
      "source": [
        "print(model_3.summary())"
      ],
      "execution_count": 55,
      "outputs": [
        {
          "output_type": "stream",
          "text": [
            "Model: \"sequential_5\"\n",
            "_________________________________________________________________\n",
            "Layer (type)                 Output Shape              Param #   \n",
            "=================================================================\n",
            "dense_13 (Dense)             (None, 9)                 90        \n",
            "_________________________________________________________________\n",
            "dense_14 (Dense)             (None, 1)                 10        \n",
            "=================================================================\n",
            "Total params: 100\n",
            "Trainable params: 100\n",
            "Non-trainable params: 0\n",
            "_________________________________________________________________\n",
            "None\n"
          ],
          "name": "stdout"
        }
      ]
    },
    {
      "cell_type": "code",
      "metadata": {
        "colab": {
          "base_uri": "https://localhost:8080/",
          "height": 312
        },
        "id": "dg3MWaucYb6A",
        "outputId": "b89175b7-1105-4c03-dc63-7627ba743363"
      },
      "source": [
        "plot_model(model_3, to_file='model_plot_3.png', show_shapes=True, show_layer_names=True)"
      ],
      "execution_count": 56,
      "outputs": [
        {
          "output_type": "execute_result",
          "data": {
            "image/png": "[encoded data removed]",
            "text/plain": [
              "<IPython.core.display.Image object>"
            ]
          },
          "metadata": {
            "tags": []
          },
          "execution_count": 56
        }
      ]
    },
    {
      "cell_type": "code",
      "metadata": {
        "id": "kaNOnCoDYmQS"
      },
      "source": [
        "model_3.compile(loss='binary_crossentropy', optimizer='SGD', metrics=['accuracy', 'Precision', 'Recall'])"
      ],
      "execution_count": 57,
      "outputs": []
    },
    {
      "cell_type": "code",
      "metadata": {
        "id": "e5jjoUtPY5v2"
      },
      "source": [
        "model_3.fit(X_train, y_train, epochs=300, batch_size=10)"
      ],
      "execution_count": null,
      "outputs": []
    },
    {
      "cell_type": "code",
      "metadata": {
        "colab": {
          "base_uri": "https://localhost:8080/"
        },
        "id": "oeGHk2VmY94A",
        "outputId": "59d98c29-7905-4aac-e61d-b27469db2cee"
      },
      "source": [
        "_, accuracy, precision, recall = model_3.evaluate(X_test, y_test)\n",
        "print('Accuracy: %.2f, %.2f, %.2f,' % (accuracy*100, precision*100, recall*100))"
      ],
      "execution_count": 59,
      "outputs": [
        {
          "output_type": "stream",
          "text": [
            "WARNING:tensorflow:5 out of the last 13 calls to <function Model.make_test_function.<locals>.test_function at 0x7fee94e7a050> triggered tf.function retracing. Tracing is expensive and the excessive number of tracings could be due to (1) creating @tf.function repeatedly in a loop, (2) passing tensors with different shapes, (3) passing Python objects instead of tensors. For (1), please define your @tf.function outside of the loop. For (2), @tf.function has experimental_relax_shapes=True option that relaxes argument shapes that can avoid unnecessary retracing. For (3), please refer to https://www.tensorflow.org/guide/function#controlling_retracing and https://www.tensorflow.org/api_docs/python/tf/function for  more details.\n",
            "3/3 [==============================] - 1s 6ms/step - loss: 0.1543 - accuracy: 0.9205 - precision: 0.8387 - recall: 0.9286\n",
            "Accuracy: 92.05, 83.87, 92.86,\n"
          ],
          "name": "stdout"
        }
      ]
    },
    {
      "cell_type": "code",
      "metadata": {
        "colab": {
          "base_uri": "https://localhost:8080/"
        },
        "id": "hy8FUoKGZCuL",
        "outputId": "3dce70e7-1544-4375-bd48-4800816a4802"
      },
      "source": [
        "predictions_3 = (model_3.predict(X_test) > 0.5).astype(\"int32\")\n",
        "for i in range(10):\n",
        "\tprint('%s => %d (expected %d)' % (X_test[i].tolist(), predictions_3[i], y_test[i]))"
      ],
      "execution_count": 60,
      "outputs": [
        {
          "output_type": "stream",
          "text": [
            "WARNING:tensorflow:5 out of the last 13 calls to <function Model.make_predict_function.<locals>.predict_function at 0x7fee94e86d40> triggered tf.function retracing. Tracing is expensive and the excessive number of tracings could be due to (1) creating @tf.function repeatedly in a loop, (2) passing tensors with different shapes, (3) passing Python objects instead of tensors. For (1), please define your @tf.function outside of the loop. For (2), @tf.function has experimental_relax_shapes=True option that relaxes argument shapes that can avoid unnecessary retracing. For (3), please refer to https://www.tensorflow.org/guide/function#controlling_retracing and https://www.tensorflow.org/api_docs/python/tf/function for  more details.\n",
            "[-0.9439955608678694, -0.2999889277133304, -0.14823692274201672, 0.854564169524556, -0.4800510359598932, -0.22814078130893428, -0.4623776632237728, -0.3216337604513384, 0.607988326736188] => 0 (expected 0)\n",
            "[1.4230208141511156, -0.46242111723508206, 0.0323400026956124, -0.01419691391691018, -0.5125353719419363, -0.4851677795340514, -0.4623776632237728, 3.1091263510296048, -1.6447684207494768] => 0 (expected 0)\n",
            "[-0.4193197546616417, -0.5869697609578309, -0.5956503461232363, -0.08530202489438968, -0.5717473261370528, -0.17355975851981675, -0.4623776632237728, 3.1091263510296048, -1.6447684207494768] => 0 (expected 0)\n",
            "[-0.719228047007916, 0.4347183320803434, -0.578398431622044, -0.4534211280475533, -0.526721569301183, 0.014331277505751451, -0.4623776632237728, -0.3216337604513384, 0.607988326736188] => 0 (expected 0)\n",
            "[-0.9912245686964175, 0.3824338493508978, -0.42808983521944083, -0.5768379010520613, -0.3704678012862921, -0.5228783043701689, -0.4623776632237728, -0.3216337604513384, 0.607988326736188] => 0 (expected 0)\n",
            "[-0.9759181138195744, -0.6462601048966812, -0.33645840909634184, -0.5900126900070166, -0.5201424632795033, -0.5202319517500905, -0.4623776632237728, -0.3216337604513384, 0.607988326736188] => 0 (expected 0)\n",
            "[-0.7631829468414174, -0.3508462905667862, -0.4854240420946606, -0.5258824672998076, -0.24340881624260458, -0.2946303908884047, -0.4623776632237728, -0.3216337604513384, 0.607988326736188] => 0 (expected 0)\n",
            "[2.499465670222582, -0.7282546286808241, -0.7743677837703177, -0.3354292681421446, -0.5822327763591046, -0.5165932168974826, -0.4623776632237728, -0.3216337604513384, 0.607988326736188] => 0 (expected 0)\n",
            "[-0.6408950132264246, -0.09863528702821973, -0.5481301025870181, 1.1145725044885273, -0.31721816192332275, -0.46399695857342393, -0.4623776632237728, -0.3216337604513384, 0.607988326736188] => 0 (expected 0)\n",
            "[-0.751641716158878, 0.9523736325530184, 1.566107515265681, 0.15920655835786954, 1.4587292698038181, -0.2820602159430322, 2.162734231207969, -0.3216337604513384, -1.6447684207494768] => 1 (expected 1)\n"
          ],
          "name": "stdout"
        }
      ]
    },
    {
      "cell_type": "code",
      "metadata": {
        "colab": {
          "base_uri": "https://localhost:8080/"
        },
        "id": "LdkQRMJBZHCd",
        "outputId": "21fa12fe-c89a-4777-8618-cd1c8565d861"
      },
      "source": [
        "print(confusion_matrix(y_test, predictions_3))\n",
        "print(classification_report(y_test, predictions_3))"
      ],
      "execution_count": 61,
      "outputs": [
        {
          "output_type": "stream",
          "text": [
            "[[55  5]\n",
            " [ 2 26]]\n",
            "              precision    recall  f1-score   support\n",
            "\n",
            "           0       0.96      0.92      0.94        60\n",
            "           1       0.84      0.93      0.88        28\n",
            "\n",
            "    accuracy                           0.92        88\n",
            "   macro avg       0.90      0.92      0.91        88\n",
            "weighted avg       0.92      0.92      0.92        88\n",
            "\n"
          ],
          "name": "stdout"
        }
      ]
    },
    {
      "cell_type": "markdown",
      "metadata": {
        "id": "pk9ggpxnf3ps"
      },
      "source": [
        "# Выводы"
      ]
    },
    {
      "cell_type": "markdown",
      "metadata": {
        "id": "z3SaUe_WgCEH"
      },
      "source": [
        "Лучшие оценки качества были получены на первой модели. Классические модели ошибались в среднем на 8 объектах, в то время как нейронная сеть ошибается лишь на 4 объектах с долей правильных ответов, равной 95.45."
      ]
    }
  ]
}