{
  "nbformat": 4,
  "nbformat_minor": 0,
  "metadata": {
    "colab": {
      "name": "2_classification.ipynb",
      "provenance": [],
      "collapsed_sections": [],
      "toc_visible": true
    },
    "kernelspec": {
      "name": "python3",
      "display_name": "Python 3"
    },
    "language_info": {
      "name": "python"
    }
  },
  "cells": [
    {
      "cell_type": "markdown",
      "metadata": {
        "id": "XRY1bpyIIcjc"
      },
      "source": [
        "# Загрузка и подготовка данных"
      ]
    },
    {
      "cell_type": "code",
      "metadata": {
        "id": "t3pOU878IiMO"
      },
      "source": [
        "import numpy as np\n",
        "import pandas as pd\n",
        "import matplotlib.pyplot as plt"
      ],
      "execution_count": null,
      "outputs": []
    },
    {
      "cell_type": "code",
      "metadata": {
        "colab": {
          "base_uri": "https://localhost:8080/",
          "height": 204
        },
        "id": "W2qK2Wc3JEmv",
        "outputId": "76da774e-c1e7-4129-a7e0-21cc2efc89db"
      },
      "source": [
        "wcd_df = pd.DataFrame\n",
        "wcd_df = pd.read_csv('../data/wholesale_customers_data_preprocessed.csv' )\n",
        "wcd_df.head()"
      ],
      "execution_count": null,
      "outputs": [
        {
          "output_type": "execute_result",
          "data": {
            "text/html": [
              "<div>\n",
              "<style scoped>\n",
              "    .dataframe tbody tr th:only-of-type {\n",
              "        vertical-align: middle;\n",
              "    }\n",
              "\n",
              "    .dataframe tbody tr th {\n",
              "        vertical-align: top;\n",
              "    }\n",
              "\n",
              "    .dataframe thead th {\n",
              "        text-align: right;\n",
              "    }\n",
              "</style>\n",
              "<table border=\"1\" class=\"dataframe\">\n",
              "  <thead>\n",
              "    <tr style=\"text-align: right;\">\n",
              "      <th></th>\n",
              "      <th>Unnamed: 0</th>\n",
              "      <th>Channel</th>\n",
              "      <th>Fresh</th>\n",
              "      <th>Milk</th>\n",
              "      <th>Grocery</th>\n",
              "      <th>Frozen</th>\n",
              "      <th>Detergents_Paper</th>\n",
              "      <th>Delicassen</th>\n",
              "      <th>Region_Lisbon</th>\n",
              "      <th>Region_Oporto</th>\n",
              "      <th>Other Region</th>\n",
              "    </tr>\n",
              "  </thead>\n",
              "  <tbody>\n",
              "    <tr>\n",
              "      <th>0</th>\n",
              "      <td>0</td>\n",
              "      <td>1</td>\n",
              "      <td>12669</td>\n",
              "      <td>9656</td>\n",
              "      <td>7561</td>\n",
              "      <td>214</td>\n",
              "      <td>2674</td>\n",
              "      <td>1338</td>\n",
              "      <td>0</td>\n",
              "      <td>0</td>\n",
              "      <td>1</td>\n",
              "    </tr>\n",
              "    <tr>\n",
              "      <th>1</th>\n",
              "      <td>1</td>\n",
              "      <td>1</td>\n",
              "      <td>7057</td>\n",
              "      <td>9810</td>\n",
              "      <td>9568</td>\n",
              "      <td>1762</td>\n",
              "      <td>3293</td>\n",
              "      <td>1776</td>\n",
              "      <td>0</td>\n",
              "      <td>0</td>\n",
              "      <td>1</td>\n",
              "    </tr>\n",
              "    <tr>\n",
              "      <th>2</th>\n",
              "      <td>2</td>\n",
              "      <td>1</td>\n",
              "      <td>6353</td>\n",
              "      <td>8808</td>\n",
              "      <td>7684</td>\n",
              "      <td>2405</td>\n",
              "      <td>3516</td>\n",
              "      <td>7844</td>\n",
              "      <td>0</td>\n",
              "      <td>0</td>\n",
              "      <td>1</td>\n",
              "    </tr>\n",
              "    <tr>\n",
              "      <th>3</th>\n",
              "      <td>3</td>\n",
              "      <td>0</td>\n",
              "      <td>13265</td>\n",
              "      <td>1196</td>\n",
              "      <td>4221</td>\n",
              "      <td>6404</td>\n",
              "      <td>507</td>\n",
              "      <td>1788</td>\n",
              "      <td>0</td>\n",
              "      <td>0</td>\n",
              "      <td>1</td>\n",
              "    </tr>\n",
              "    <tr>\n",
              "      <th>4</th>\n",
              "      <td>4</td>\n",
              "      <td>1</td>\n",
              "      <td>22615</td>\n",
              "      <td>5410</td>\n",
              "      <td>7198</td>\n",
              "      <td>3915</td>\n",
              "      <td>1777</td>\n",
              "      <td>5185</td>\n",
              "      <td>0</td>\n",
              "      <td>0</td>\n",
              "      <td>1</td>\n",
              "    </tr>\n",
              "  </tbody>\n",
              "</table>\n",
              "</div>"
            ],
            "text/plain": [
              "   Unnamed: 0  Channel  Fresh  ...  Region_Lisbon  Region_Oporto  Other Region\n",
              "0           0        1  12669  ...              0              0             1\n",
              "1           1        1   7057  ...              0              0             1\n",
              "2           2        1   6353  ...              0              0             1\n",
              "3           3        0  13265  ...              0              0             1\n",
              "4           4        1  22615  ...              0              0             1\n",
              "\n",
              "[5 rows x 11 columns]"
            ]
          },
          "metadata": {
            "tags": []
          },
          "execution_count": 6
        }
      ]
    },
    {
      "cell_type": "code",
      "metadata": {
        "id": "f1ltSgxNJ06S"
      },
      "source": [
        "del wcd_df['Unnamed: 0']"
      ],
      "execution_count": null,
      "outputs": []
    },
    {
      "cell_type": "code",
      "metadata": {
        "colab": {
          "base_uri": "https://localhost:8080/",
          "height": 419
        },
        "id": "5BTV8eqmJ7Pj",
        "outputId": "ef1ff6d5-2064-480a-ca3f-f305b3523d68"
      },
      "source": [
        "wcd_df"
      ],
      "execution_count": null,
      "outputs": [
        {
          "output_type": "execute_result",
          "data": {
            "text/html": [
              "<div>\n",
              "<style scoped>\n",
              "    .dataframe tbody tr th:only-of-type {\n",
              "        vertical-align: middle;\n",
              "    }\n",
              "\n",
              "    .dataframe tbody tr th {\n",
              "        vertical-align: top;\n",
              "    }\n",
              "\n",
              "    .dataframe thead th {\n",
              "        text-align: right;\n",
              "    }\n",
              "</style>\n",
              "<table border=\"1\" class=\"dataframe\">\n",
              "  <thead>\n",
              "    <tr style=\"text-align: right;\">\n",
              "      <th></th>\n",
              "      <th>Channel</th>\n",
              "      <th>Fresh</th>\n",
              "      <th>Milk</th>\n",
              "      <th>Grocery</th>\n",
              "      <th>Frozen</th>\n",
              "      <th>Detergents_Paper</th>\n",
              "      <th>Delicassen</th>\n",
              "      <th>Region_Lisbon</th>\n",
              "      <th>Region_Oporto</th>\n",
              "      <th>Other Region</th>\n",
              "    </tr>\n",
              "  </thead>\n",
              "  <tbody>\n",
              "    <tr>\n",
              "      <th>0</th>\n",
              "      <td>1</td>\n",
              "      <td>12669</td>\n",
              "      <td>9656</td>\n",
              "      <td>7561</td>\n",
              "      <td>214</td>\n",
              "      <td>2674</td>\n",
              "      <td>1338</td>\n",
              "      <td>0</td>\n",
              "      <td>0</td>\n",
              "      <td>1</td>\n",
              "    </tr>\n",
              "    <tr>\n",
              "      <th>1</th>\n",
              "      <td>1</td>\n",
              "      <td>7057</td>\n",
              "      <td>9810</td>\n",
              "      <td>9568</td>\n",
              "      <td>1762</td>\n",
              "      <td>3293</td>\n",
              "      <td>1776</td>\n",
              "      <td>0</td>\n",
              "      <td>0</td>\n",
              "      <td>1</td>\n",
              "    </tr>\n",
              "    <tr>\n",
              "      <th>2</th>\n",
              "      <td>1</td>\n",
              "      <td>6353</td>\n",
              "      <td>8808</td>\n",
              "      <td>7684</td>\n",
              "      <td>2405</td>\n",
              "      <td>3516</td>\n",
              "      <td>7844</td>\n",
              "      <td>0</td>\n",
              "      <td>0</td>\n",
              "      <td>1</td>\n",
              "    </tr>\n",
              "    <tr>\n",
              "      <th>3</th>\n",
              "      <td>0</td>\n",
              "      <td>13265</td>\n",
              "      <td>1196</td>\n",
              "      <td>4221</td>\n",
              "      <td>6404</td>\n",
              "      <td>507</td>\n",
              "      <td>1788</td>\n",
              "      <td>0</td>\n",
              "      <td>0</td>\n",
              "      <td>1</td>\n",
              "    </tr>\n",
              "    <tr>\n",
              "      <th>4</th>\n",
              "      <td>1</td>\n",
              "      <td>22615</td>\n",
              "      <td>5410</td>\n",
              "      <td>7198</td>\n",
              "      <td>3915</td>\n",
              "      <td>1777</td>\n",
              "      <td>5185</td>\n",
              "      <td>0</td>\n",
              "      <td>0</td>\n",
              "      <td>1</td>\n",
              "    </tr>\n",
              "    <tr>\n",
              "      <th>...</th>\n",
              "      <td>...</td>\n",
              "      <td>...</td>\n",
              "      <td>...</td>\n",
              "      <td>...</td>\n",
              "      <td>...</td>\n",
              "      <td>...</td>\n",
              "      <td>...</td>\n",
              "      <td>...</td>\n",
              "      <td>...</td>\n",
              "      <td>...</td>\n",
              "    </tr>\n",
              "    <tr>\n",
              "      <th>435</th>\n",
              "      <td>0</td>\n",
              "      <td>29703</td>\n",
              "      <td>12051</td>\n",
              "      <td>16027</td>\n",
              "      <td>13135</td>\n",
              "      <td>182</td>\n",
              "      <td>2204</td>\n",
              "      <td>0</td>\n",
              "      <td>0</td>\n",
              "      <td>1</td>\n",
              "    </tr>\n",
              "    <tr>\n",
              "      <th>436</th>\n",
              "      <td>0</td>\n",
              "      <td>39228</td>\n",
              "      <td>1431</td>\n",
              "      <td>764</td>\n",
              "      <td>4510</td>\n",
              "      <td>93</td>\n",
              "      <td>2346</td>\n",
              "      <td>0</td>\n",
              "      <td>0</td>\n",
              "      <td>1</td>\n",
              "    </tr>\n",
              "    <tr>\n",
              "      <th>437</th>\n",
              "      <td>1</td>\n",
              "      <td>14531</td>\n",
              "      <td>15488</td>\n",
              "      <td>30243</td>\n",
              "      <td>437</td>\n",
              "      <td>14841</td>\n",
              "      <td>1867</td>\n",
              "      <td>0</td>\n",
              "      <td>0</td>\n",
              "      <td>1</td>\n",
              "    </tr>\n",
              "    <tr>\n",
              "      <th>438</th>\n",
              "      <td>0</td>\n",
              "      <td>10290</td>\n",
              "      <td>1981</td>\n",
              "      <td>2232</td>\n",
              "      <td>1038</td>\n",
              "      <td>168</td>\n",
              "      <td>2125</td>\n",
              "      <td>0</td>\n",
              "      <td>0</td>\n",
              "      <td>1</td>\n",
              "    </tr>\n",
              "    <tr>\n",
              "      <th>439</th>\n",
              "      <td>0</td>\n",
              "      <td>2787</td>\n",
              "      <td>1698</td>\n",
              "      <td>2510</td>\n",
              "      <td>65</td>\n",
              "      <td>477</td>\n",
              "      <td>52</td>\n",
              "      <td>0</td>\n",
              "      <td>0</td>\n",
              "      <td>1</td>\n",
              "    </tr>\n",
              "  </tbody>\n",
              "</table>\n",
              "<p>440 rows × 10 columns</p>\n",
              "</div>"
            ],
            "text/plain": [
              "     Channel  Fresh   Milk  ...  Region_Lisbon  Region_Oporto  Other Region\n",
              "0          1  12669   9656  ...              0              0             1\n",
              "1          1   7057   9810  ...              0              0             1\n",
              "2          1   6353   8808  ...              0              0             1\n",
              "3          0  13265   1196  ...              0              0             1\n",
              "4          1  22615   5410  ...              0              0             1\n",
              "..       ...    ...    ...  ...            ...            ...           ...\n",
              "435        0  29703  12051  ...              0              0             1\n",
              "436        0  39228   1431  ...              0              0             1\n",
              "437        1  14531  15488  ...              0              0             1\n",
              "438        0  10290   1981  ...              0              0             1\n",
              "439        0   2787   1698  ...              0              0             1\n",
              "\n",
              "[440 rows x 10 columns]"
            ]
          },
          "metadata": {
            "tags": []
          },
          "execution_count": 8
        }
      ]
    },
    {
      "cell_type": "markdown",
      "metadata": {
        "id": "WziguioafeXl"
      },
      "source": [
        "Будем делить на классы по параметру Channel (оптовая или розничная продажа продуктов)"
      ]
    },
    {
      "cell_type": "code",
      "metadata": {
        "colab": {
          "base_uri": "https://localhost:8080/"
        },
        "id": "HeBCECMIKEtU",
        "outputId": "6f386bbf-f0ed-4a36-dbef-9bd595887f36"
      },
      "source": [
        "wcd_df['Channel'].unique()"
      ],
      "execution_count": null,
      "outputs": [
        {
          "output_type": "execute_result",
          "data": {
            "text/plain": [
              "array([1, 0])"
            ]
          },
          "metadata": {
            "tags": []
          },
          "execution_count": 9
        }
      ]
    },
    {
      "cell_type": "code",
      "metadata": {
        "colab": {
          "base_uri": "https://localhost:8080/"
        },
        "id": "xfhDbfWTKNVA",
        "outputId": "0426730d-b7c4-4c30-8f68-ecbf19b0d621"
      },
      "source": [
        "X = wcd_df.iloc[:, 1: ].values\n",
        "y = wcd_df.iloc[:, 0].values\n",
        "print(X)"
      ],
      "execution_count": null,
      "outputs": [
        {
          "output_type": "stream",
          "text": [
            "[[12669  9656  7561 ...     0     0     1]\n",
            " [ 7057  9810  9568 ...     0     0     1]\n",
            " [ 6353  8808  7684 ...     0     0     1]\n",
            " ...\n",
            " [14531 15488 30243 ...     0     0     1]\n",
            " [10290  1981  2232 ...     0     0     1]\n",
            " [ 2787  1698  2510 ...     0     0     1]]\n"
          ],
          "name": "stdout"
        }
      ]
    },
    {
      "cell_type": "code",
      "metadata": {
        "colab": {
          "base_uri": "https://localhost:8080/"
        },
        "id": "sCIFhJhQLoRM",
        "outputId": "15e0c2f6-103e-4b00-b664-8b45a9ab8f15"
      },
      "source": [
        "print(y)"
      ],
      "execution_count": null,
      "outputs": [
        {
          "output_type": "stream",
          "text": [
            "[1 1 1 0 1 1 1 1 0 1 1 1 1 1 1 0 1 0 1 0 1 0 0 1 1 1 0 0 1 0 0 0 0 0 0 1 0\n",
            " 1 1 0 0 0 1 1 1 1 1 1 1 1 0 0 1 1 0 0 1 1 0 0 1 1 1 1 0 1 0 1 0 0 0 0 0 1\n",
            " 1 0 0 1 0 0 0 1 1 0 1 1 1 0 0 0 0 0 1 0 1 0 1 0 0 0 1 1 1 0 0 0 1 1 1 1 0\n",
            " 1 0 0 0 0 0 0 0 0 0 0 0 1 0 0 0 1 0 0 0 0 0 0 0 0 0 0 0 0 0 0 0 0 0 1 0 0\n",
            " 0 0 0 0 0 0 0 1 1 0 1 1 1 0 0 1 1 1 1 0 0 0 1 1 0 1 0 1 0 0 0 0 0 0 0 0 0\n",
            " 0 0 0 1 1 0 0 0 1 0 0 0 1 0 0 1 1 0 0 0 1 0 1 0 1 0 1 0 0 1 0 1 0 1 0 0 0\n",
            " 0 1 0 0 1 0 0 0 1 0 0 0 0 0 0 0 0 0 0 0 0 0 0 1 0 0 0 0 0 1 0 0 0 0 0 0 0\n",
            " 0 0 0 0 0 1 0 1 0 1 0 0 0 0 0 0 0 0 0 0 1 0 1 0 0 0 0 0 0 0 0 0 0 0 1 0 1\n",
            " 0 1 1 0 1 1 1 1 1 1 1 0 0 1 0 0 1 0 0 1 0 0 0 1 0 0 0 0 0 0 0 0 0 0 0 1 0\n",
            " 1 1 1 0 0 0 0 1 1 0 1 0 0 1 1 0 1 0 1 0 1 0 0 0 1 0 0 0 0 0 0 0 1 0 0 0 0\n",
            " 1 0 0 1 0 0 1 0 0 1 0 0 0 0 0 0 0 0 0 0 0 0 0 0 0 0 1 0 0 0 0 0 0 0 0 0 0\n",
            " 1 1 0 0 0 0 0 0 1 1 0 1 0 0 1 0 1 1 0 0 0 0 0 0 0 0 0 0 0 0 1 0 0]\n"
          ],
          "name": "stdout"
        }
      ]
    },
    {
      "cell_type": "markdown",
      "metadata": {
        "id": "xln4oB70gc9T"
      },
      "source": [
        "Разобьем датасет на обучение и тестовые данные, масштабируем данные."
      ]
    },
    {
      "cell_type": "code",
      "metadata": {
        "id": "a0DvBvrUOkY5",
        "colab": {
          "base_uri": "https://localhost:8080/"
        },
        "outputId": "4de1fa0f-fb84-483b-ebad-ffd07518f381"
      },
      "source": [
        "from sklearn.model_selection import train_test_split\n",
        "from collections import Counter\n",
        "\n",
        "X_train, X_test, y_train, y_test = train_test_split(X, y, test_size=0.20, stratify=y)\n",
        "\n",
        "print(Counter(y_train).values())\n",
        "print(Counter(y_test).values())"
      ],
      "execution_count": null,
      "outputs": [
        {
          "output_type": "stream",
          "text": [
            "dict_values([238, 114])\n",
            "dict_values([60, 28])\n"
          ],
          "name": "stdout"
        }
      ]
    },
    {
      "cell_type": "code",
      "metadata": {
        "id": "20PJXzPneKpk"
      },
      "source": [
        "from sklearn.preprocessing import StandardScaler\n",
        "scaler = StandardScaler()\n",
        "scaler.fit(X_train)\n",
        "\n",
        "X_train = scaler.transform(X_train)\n",
        "X_test = scaler.transform(X_test)"
      ],
      "execution_count": null,
      "outputs": []
    },
    {
      "cell_type": "code",
      "metadata": {
        "colab": {
          "base_uri": "https://localhost:8080/"
        },
        "id": "gGEZo7V4eN2A",
        "outputId": "01727ed9-2414-4fb5-f1fb-ce8514821b5c"
      },
      "source": [
        "X_train"
      ],
      "execution_count": null,
      "outputs": [
        {
          "output_type": "execute_result",
          "data": {
            "text/plain": [
              "array([[-0.72818811, -0.53345862, -0.54791887, ..., -0.43495884,\n",
              "        -0.33228014,  0.59047354],\n",
              "       [-0.12307233, -0.61028961, -0.41377346, ..., -0.43495884,\n",
              "        -0.33228014,  0.59047354],\n",
              "       [ 3.35816702, -0.10444175, -0.05410821, ...,  2.29906813,\n",
              "        -0.33228014, -1.69355598],\n",
              "       ...,\n",
              "       [-0.17583557, -0.5837145 , -0.67551562, ..., -0.43495884,\n",
              "        -0.33228014,  0.59047354],\n",
              "       [-0.87667084, -0.0360306 , -0.13596659, ..., -0.43495884,\n",
              "        -0.33228014,  0.59047354],\n",
              "       [-0.31669965, -0.68554188, -0.39116008, ..., -0.43495884,\n",
              "        -0.33228014,  0.59047354]])"
            ]
          },
          "metadata": {
            "tags": []
          },
          "execution_count": 29
        }
      ]
    },
    {
      "cell_type": "markdown",
      "metadata": {
        "id": "b1IiTP-we6LV"
      },
      "source": [
        "#  Классификация"
      ]
    },
    {
      "cell_type": "markdown",
      "metadata": {
        "id": "CA0BNcNcg4pv"
      },
      "source": [
        "## Метод k-ближайших соседей (K-Nearest Neighbors)"
      ]
    },
    {
      "cell_type": "code",
      "metadata": {
        "colab": {
          "base_uri": "https://localhost:8080/"
        },
        "id": "385P4z9dg8OY",
        "outputId": "b775833d-4d1e-4272-a19b-02e5b2ed1aa0"
      },
      "source": [
        "from sklearn.neighbors import KNeighborsClassifier\n",
        "clf = KNeighborsClassifier(n_neighbors=6, p=4)\n",
        "clf.fit(X_train, y_train)"
      ],
      "execution_count": null,
      "outputs": [
        {
          "output_type": "execute_result",
          "data": {
            "text/plain": [
              "KNeighborsClassifier(algorithm='auto', leaf_size=30, metric='minkowski',\n",
              "                     metric_params=None, n_jobs=None, n_neighbors=6, p=4,\n",
              "                     weights='uniform')"
            ]
          },
          "metadata": {
            "tags": []
          },
          "execution_count": 30
        }
      ]
    },
    {
      "cell_type": "code",
      "metadata": {
        "colab": {
          "base_uri": "https://localhost:8080/"
        },
        "id": "lXcBocH_jnIM",
        "outputId": "0aeb7329-7370-4f23-c3cf-f525c83b4494"
      },
      "source": [
        "from sklearn.metrics import classification_report, confusion_matrix\n",
        "\n",
        "y_pred = clf.predict(X_test)\n",
        "print(confusion_matrix(y_test, y_pred))\n",
        "print(classification_report(y_test, y_pred))"
      ],
      "execution_count": null,
      "outputs": [
        {
          "output_type": "stream",
          "text": [
            "[[56  4]\n",
            " [ 6 22]]\n",
            "              precision    recall  f1-score   support\n",
            "\n",
            "           0       0.90      0.93      0.92        60\n",
            "           1       0.85      0.79      0.81        28\n",
            "\n",
            "    accuracy                           0.89        88\n",
            "   macro avg       0.87      0.86      0.87        88\n",
            "weighted avg       0.89      0.89      0.89        88\n",
            "\n"
          ],
          "name": "stdout"
        }
      ]
    },
    {
      "cell_type": "markdown",
      "metadata": {
        "id": "9mjPCKI02kcG"
      },
      "source": [
        "## Классификатор дерева решений (Decision Tree Classifier)"
      ]
    },
    {
      "cell_type": "code",
      "metadata": {
        "id": "_xCxKKB_2pIy"
      },
      "source": [
        "from sklearn import tree\n",
        "\n",
        "clf = tree.DecisionTreeClassifier()\n",
        "clf = clf.fit(X_train, y_train)"
      ],
      "execution_count": null,
      "outputs": []
    },
    {
      "cell_type": "code",
      "metadata": {
        "colab": {
          "base_uri": "https://localhost:8080/"
        },
        "id": "VmWHJs5I2r3R",
        "outputId": "6ee5c4c2-aca7-4dff-caf8-54a685201171"
      },
      "source": [
        "y_pred = clf.predict(X_test)\n",
        "print(confusion_matrix(y_test, y_pred))\n",
        "print(classification_report(y_test, y_pred))"
      ],
      "execution_count": null,
      "outputs": [
        {
          "output_type": "stream",
          "text": [
            "[[54  6]\n",
            " [ 3 25]]\n",
            "              precision    recall  f1-score   support\n",
            "\n",
            "           0       0.95      0.90      0.92        60\n",
            "           1       0.81      0.89      0.85        28\n",
            "\n",
            "    accuracy                           0.90        88\n",
            "   macro avg       0.88      0.90      0.89        88\n",
            "weighted avg       0.90      0.90      0.90        88\n",
            "\n"
          ],
          "name": "stdout"
        }
      ]
    },
    {
      "cell_type": "code",
      "metadata": {
        "colab": {
          "base_uri": "https://localhost:8080/",
          "height": 1000
        },
        "id": "6lTV1UXD2thA",
        "outputId": "4ec3006b-cbe7-4448-b058-4d581fb80764"
      },
      "source": [
        "import graphviz\n",
        "dot_data = tree.export_graphviz(clf, out_file=None, filled=True, rounded=True, special_characters=True) \n",
        "graph = graphviz.Source(dot_data)\n",
        "graph.render(\"wcd\")\n",
        "graph = graphviz.Source(dot_data)  \n",
        "graph "
      ],
      "execution_count": null,
      "outputs": [
        {
          "output_type": "execute_result",
          "data": {
            "text/plain": [
              "<graphviz.files.Source at 0x7fda45c2f390>"
            ],
            "image/svg+xml": "<?xml version=\"1.0\" encoding=\"UTF-8\" standalone=\"no\"?>\n<!DOCTYPE svg PUBLIC \"-//W3C//DTD SVG 1.1//EN\"\n \"http://www.w3.org/Graphics/SVG/1.1/DTD/svg11.dtd\">\n<!-- Generated by graphviz version 2.40.1 (20161225.0304)\n -->\n<!-- Title: Tree Pages: 1 -->\n<svg width=\"1446pt\" height=\"1061pt\"\n viewBox=\"0.00 0.00 1445.50 1061.00\" xmlns=\"http://www.w3.org/2000/svg\" xmlns:xlink=\"http://www.w3.org/1999/xlink\">\n<g id=\"graph0\" class=\"graph\" transform=\"scale(1 1) rotate(0) translate(4 1057)\">\n<title>Tree</title>\n<polygon fill=\"#ffffff\" stroke=\"transparent\" points=\"-4,4 -4,-1057 1441.5,-1057 1441.5,4 -4,4\"/>\n<!-- 0 -->\n<g id=\"node1\" class=\"node\">\n<title>0</title>\n<path fill=\"#f1bd98\" stroke=\"#000000\" d=\"M644,-1053C644,-1053 536,-1053 536,-1053 530,-1053 524,-1047 524,-1041 524,-1041 524,-1001 524,-1001 524,-995 530,-989 536,-989 536,-989 644,-989 644,-989 650,-989 656,-995 656,-1001 656,-1001 656,-1041 656,-1041 656,-1047 650,-1053 644,-1053\"/>\n<text text-anchor=\"start\" x=\"553\" y=\"-1038.8\" font-family=\"Helvetica,sans-Serif\" font-size=\"14.00\" fill=\"#000000\">X</text>\n<text text-anchor=\"start\" x=\"563\" y=\"-1038.8\" font-family=\"Helvetica,sans-Serif\" baseline-shift=\"sub\" font-size=\"14.00\" fill=\"#000000\">4</text>\n<text text-anchor=\"start\" x=\"570\" y=\"-1038.8\" font-family=\"Helvetica,sans-Serif\" font-size=\"14.00\" fill=\"#000000\"> ≤ &#45;0.223</text>\n<text text-anchor=\"start\" x=\"552\" y=\"-1024.8\" font-family=\"Helvetica,sans-Serif\" font-size=\"14.00\" fill=\"#000000\">gini = 0.438</text>\n<text text-anchor=\"start\" x=\"542\" y=\"-1010.8\" font-family=\"Helvetica,sans-Serif\" font-size=\"14.00\" fill=\"#000000\">samples = 352</text>\n<text text-anchor=\"start\" x=\"532\" y=\"-996.8\" font-family=\"Helvetica,sans-Serif\" font-size=\"14.00\" fill=\"#000000\">value = [238, 114]</text>\n</g>\n<!-- 1 -->\n<g id=\"node2\" class=\"node\">\n<title>1</title>\n<path fill=\"#e6853f\" stroke=\"#000000\" d=\"M531,-953C531,-953 439,-953 439,-953 433,-953 427,-947 427,-941 427,-941 427,-901 427,-901 427,-895 433,-889 439,-889 439,-889 531,-889 531,-889 537,-889 543,-895 543,-901 543,-901 543,-941 543,-941 543,-947 537,-953 531,-953\"/>\n<text text-anchor=\"start\" x=\"454.5\" y=\"-938.8\" font-family=\"Helvetica,sans-Serif\" font-size=\"14.00\" fill=\"#000000\">X</text>\n<text text-anchor=\"start\" x=\"464.5\" y=\"-938.8\" font-family=\"Helvetica,sans-Serif\" baseline-shift=\"sub\" font-size=\"14.00\" fill=\"#000000\">2</text>\n<text text-anchor=\"start\" x=\"471.5\" y=\"-938.8\" font-family=\"Helvetica,sans-Serif\" font-size=\"14.00\" fill=\"#000000\"> ≤ 1.71</text>\n<text text-anchor=\"start\" x=\"447\" y=\"-924.8\" font-family=\"Helvetica,sans-Serif\" font-size=\"14.00\" fill=\"#000000\">gini = 0.061</text>\n<text text-anchor=\"start\" x=\"437\" y=\"-910.8\" font-family=\"Helvetica,sans-Serif\" font-size=\"14.00\" fill=\"#000000\">samples = 222</text>\n<text text-anchor=\"start\" x=\"435\" y=\"-896.8\" font-family=\"Helvetica,sans-Serif\" font-size=\"14.00\" fill=\"#000000\">value = [215, 7]</text>\n</g>\n<!-- 0&#45;&gt;1 -->\n<g id=\"edge1\" class=\"edge\">\n<title>0&#45;&gt;1</title>\n<path fill=\"none\" stroke=\"#000000\" d=\"M556.1994,-988.8089C546.6447,-979.7092 536.1395,-969.7043 526.2014,-960.2394\"/>\n<polygon fill=\"#000000\" stroke=\"#000000\" points=\"528.3925,-957.4928 518.7373,-953.1308 523.5649,-962.5618 528.3925,-957.4928\"/>\n<text text-anchor=\"middle\" x=\"519.3469\" y=\"-974.4233\" font-family=\"Helvetica,sans-Serif\" font-size=\"14.00\" fill=\"#000000\">True</text>\n</g>\n<!-- 24 -->\n<g id=\"node25\" class=\"node\">\n<title>24</title>\n<path fill=\"#64b2eb\" stroke=\"#000000\" d=\"M685,-953C685,-953 585,-953 585,-953 579,-953 573,-947 573,-941 573,-941 573,-901 573,-901 573,-895 579,-889 585,-889 585,-889 685,-889 685,-889 691,-889 697,-895 697,-901 697,-901 697,-941 697,-941 697,-947 691,-953 685,-953\"/>\n<text text-anchor=\"start\" x=\"598\" y=\"-938.8\" font-family=\"Helvetica,sans-Serif\" font-size=\"14.00\" fill=\"#000000\">X</text>\n<text text-anchor=\"start\" x=\"608\" y=\"-938.8\" font-family=\"Helvetica,sans-Serif\" baseline-shift=\"sub\" font-size=\"14.00\" fill=\"#000000\">1</text>\n<text text-anchor=\"start\" x=\"615\" y=\"-938.8\" font-family=\"Helvetica,sans-Serif\" font-size=\"14.00\" fill=\"#000000\"> ≤ &#45;0.421</text>\n<text text-anchor=\"start\" x=\"597\" y=\"-924.8\" font-family=\"Helvetica,sans-Serif\" font-size=\"14.00\" fill=\"#000000\">gini = 0.291</text>\n<text text-anchor=\"start\" x=\"587\" y=\"-910.8\" font-family=\"Helvetica,sans-Serif\" font-size=\"14.00\" fill=\"#000000\">samples = 130</text>\n<text text-anchor=\"start\" x=\"581\" y=\"-896.8\" font-family=\"Helvetica,sans-Serif\" font-size=\"14.00\" fill=\"#000000\">value = [23, 107]</text>\n</g>\n<!-- 0&#45;&gt;24 -->\n<g id=\"edge24\" class=\"edge\">\n<title>0&#45;&gt;24</title>\n<path fill=\"none\" stroke=\"#000000\" d=\"M604.486,-988.8089C608.2597,-980.4229 612.3793,-971.2681 616.3359,-962.4757\"/>\n<polygon fill=\"#000000\" stroke=\"#000000\" points=\"619.6292,-963.6863 620.5412,-953.1308 613.2457,-960.8137 619.6292,-963.6863\"/>\n<text text-anchor=\"middle\" x=\"629.4075\" y=\"-972.8057\" font-family=\"Helvetica,sans-Serif\" font-size=\"14.00\" fill=\"#000000\">False</text>\n</g>\n<!-- 2 -->\n<g id=\"node3\" class=\"node\">\n<title>2</title>\n<path fill=\"#e6853f\" stroke=\"#000000\" d=\"M369,-853C369,-853 277,-853 277,-853 271,-853 265,-847 265,-841 265,-841 265,-801 265,-801 265,-795 271,-789 277,-789 277,-789 369,-789 369,-789 375,-789 381,-795 381,-801 381,-801 381,-841 381,-841 381,-847 375,-853 369,-853\"/>\n<text text-anchor=\"start\" x=\"286\" y=\"-838.8\" font-family=\"Helvetica,sans-Serif\" font-size=\"14.00\" fill=\"#000000\">X</text>\n<text text-anchor=\"start\" x=\"296\" y=\"-838.8\" font-family=\"Helvetica,sans-Serif\" baseline-shift=\"sub\" font-size=\"14.00\" fill=\"#000000\">2</text>\n<text text-anchor=\"start\" x=\"303\" y=\"-838.8\" font-family=\"Helvetica,sans-Serif\" font-size=\"14.00\" fill=\"#000000\"> ≤ &#45;0.346</text>\n<text text-anchor=\"start\" x=\"285\" y=\"-824.8\" font-family=\"Helvetica,sans-Serif\" font-size=\"14.00\" fill=\"#000000\">gini = 0.053</text>\n<text text-anchor=\"start\" x=\"275\" y=\"-810.8\" font-family=\"Helvetica,sans-Serif\" font-size=\"14.00\" fill=\"#000000\">samples = 221</text>\n<text text-anchor=\"start\" x=\"273\" y=\"-796.8\" font-family=\"Helvetica,sans-Serif\" font-size=\"14.00\" fill=\"#000000\">value = [215, 6]</text>\n</g>\n<!-- 1&#45;&gt;2 -->\n<g id=\"edge2\" class=\"edge\">\n<title>1&#45;&gt;2</title>\n<path fill=\"none\" stroke=\"#000000\" d=\"M432.8505,-888.8089C417.2418,-879.174 399.9891,-868.5241 383.8716,-858.575\"/>\n<polygon fill=\"#000000\" stroke=\"#000000\" points=\"385.3997,-855.4052 375.0518,-853.1308 381.7227,-861.3618 385.3997,-855.4052\"/>\n</g>\n<!-- 23 -->\n<g id=\"node24\" class=\"node\">\n<title>23</title>\n<path fill=\"#399de5\" stroke=\"#000000\" d=\"M522.5,-847.5C522.5,-847.5 447.5,-847.5 447.5,-847.5 441.5,-847.5 435.5,-841.5 435.5,-835.5 435.5,-835.5 435.5,-806.5 435.5,-806.5 435.5,-800.5 441.5,-794.5 447.5,-794.5 447.5,-794.5 522.5,-794.5 522.5,-794.5 528.5,-794.5 534.5,-800.5 534.5,-806.5 534.5,-806.5 534.5,-835.5 534.5,-835.5 534.5,-841.5 528.5,-847.5 522.5,-847.5\"/>\n<text text-anchor=\"start\" x=\"455.5\" y=\"-832.3\" font-family=\"Helvetica,sans-Serif\" font-size=\"14.00\" fill=\"#000000\">gini = 0.0</text>\n<text text-anchor=\"start\" x=\"445.5\" y=\"-817.3\" font-family=\"Helvetica,sans-Serif\" font-size=\"14.00\" fill=\"#000000\">samples = 1</text>\n<text text-anchor=\"start\" x=\"443.5\" y=\"-802.3\" font-family=\"Helvetica,sans-Serif\" font-size=\"14.00\" fill=\"#000000\">value = [0, 1]</text>\n</g>\n<!-- 1&#45;&gt;23 -->\n<g id=\"edge23\" class=\"edge\">\n<title>1&#45;&gt;23</title>\n<path fill=\"none\" stroke=\"#000000\" d=\"M485,-888.8089C485,-878.9777 485,-868.0898 485,-857.9679\"/>\n<polygon fill=\"#000000\" stroke=\"#000000\" points=\"488.5001,-857.7735 485,-847.7735 481.5001,-857.7736 488.5001,-857.7735\"/>\n</g>\n<!-- 3 -->\n<g id=\"node4\" class=\"node\">\n<title>3</title>\n<path fill=\"#e5823a\" stroke=\"#000000\" d=\"M230,-753C230,-753 138,-753 138,-753 132,-753 126,-747 126,-741 126,-741 126,-701 126,-701 126,-695 132,-689 138,-689 138,-689 230,-689 230,-689 236,-689 242,-695 242,-701 242,-701 242,-741 242,-741 242,-747 236,-753 230,-753\"/>\n<text text-anchor=\"start\" x=\"149.5\" y=\"-738.8\" font-family=\"Helvetica,sans-Serif\" font-size=\"14.00\" fill=\"#000000\">X</text>\n<text text-anchor=\"start\" x=\"159.5\" y=\"-738.8\" font-family=\"Helvetica,sans-Serif\" baseline-shift=\"sub\" font-size=\"14.00\" fill=\"#000000\">5</text>\n<text text-anchor=\"start\" x=\"166.5\" y=\"-738.8\" font-family=\"Helvetica,sans-Serif\" font-size=\"14.00\" fill=\"#000000\"> ≤ 0.597</text>\n<text text-anchor=\"start\" x=\"146\" y=\"-724.8\" font-family=\"Helvetica,sans-Serif\" font-size=\"14.00\" fill=\"#000000\">gini = 0.012</text>\n<text text-anchor=\"start\" x=\"136\" y=\"-710.8\" font-family=\"Helvetica,sans-Serif\" font-size=\"14.00\" fill=\"#000000\">samples = 165</text>\n<text text-anchor=\"start\" x=\"134\" y=\"-696.8\" font-family=\"Helvetica,sans-Serif\" font-size=\"14.00\" fill=\"#000000\">value = [164, 1]</text>\n</g>\n<!-- 2&#45;&gt;3 -->\n<g id=\"edge3\" class=\"edge\">\n<title>2&#45;&gt;3</title>\n<path fill=\"none\" stroke=\"#000000\" d=\"M278.2544,-788.8089C265.1098,-779.3524 250.6063,-768.9182 236.9986,-759.1285\"/>\n<polygon fill=\"#000000\" stroke=\"#000000\" points=\"238.8233,-756.1296 228.6618,-753.1308 234.7353,-761.8119 238.8233,-756.1296\"/>\n</g>\n<!-- 8 -->\n<g id=\"node9\" class=\"node\">\n<title>8</title>\n<path fill=\"#e88d4c\" stroke=\"#000000\" d=\"M364.5,-753C364.5,-753 281.5,-753 281.5,-753 275.5,-753 269.5,-747 269.5,-741 269.5,-741 269.5,-701 269.5,-701 269.5,-695 275.5,-689 281.5,-689 281.5,-689 364.5,-689 364.5,-689 370.5,-689 376.5,-695 376.5,-701 376.5,-701 376.5,-741 376.5,-741 376.5,-747 370.5,-753 364.5,-753\"/>\n<text text-anchor=\"start\" x=\"286\" y=\"-738.8\" font-family=\"Helvetica,sans-Serif\" font-size=\"14.00\" fill=\"#000000\">X</text>\n<text text-anchor=\"start\" x=\"296\" y=\"-738.8\" font-family=\"Helvetica,sans-Serif\" baseline-shift=\"sub\" font-size=\"14.00\" fill=\"#000000\">2</text>\n<text text-anchor=\"start\" x=\"303\" y=\"-738.8\" font-family=\"Helvetica,sans-Serif\" font-size=\"14.00\" fill=\"#000000\"> ≤ &#45;0.341</text>\n<text text-anchor=\"start\" x=\"285\" y=\"-724.8\" font-family=\"Helvetica,sans-Serif\" font-size=\"14.00\" fill=\"#000000\">gini = 0.163</text>\n<text text-anchor=\"start\" x=\"279\" y=\"-710.8\" font-family=\"Helvetica,sans-Serif\" font-size=\"14.00\" fill=\"#000000\">samples = 56</text>\n<text text-anchor=\"start\" x=\"277.5\" y=\"-696.8\" font-family=\"Helvetica,sans-Serif\" font-size=\"14.00\" fill=\"#000000\">value = [51, 5]</text>\n</g>\n<!-- 2&#45;&gt;8 -->\n<g id=\"edge8\" class=\"edge\">\n<title>2&#45;&gt;8</title>\n<path fill=\"none\" stroke=\"#000000\" d=\"M323,-788.8089C323,-780.6906 323,-771.8517 323,-763.3186\"/>\n<polygon fill=\"#000000\" stroke=\"#000000\" points=\"326.5001,-763.1307 323,-753.1308 319.5001,-763.1308 326.5001,-763.1307\"/>\n</g>\n<!-- 4 -->\n<g id=\"node5\" class=\"node\">\n<title>4</title>\n<path fill=\"#e58139\" stroke=\"#000000\" d=\"M104,-647.5C104,-647.5 12,-647.5 12,-647.5 6,-647.5 0,-641.5 0,-635.5 0,-635.5 0,-606.5 0,-606.5 0,-600.5 6,-594.5 12,-594.5 12,-594.5 104,-594.5 104,-594.5 110,-594.5 116,-600.5 116,-606.5 116,-606.5 116,-635.5 116,-635.5 116,-641.5 110,-647.5 104,-647.5\"/>\n<text text-anchor=\"start\" x=\"28.5\" y=\"-632.3\" font-family=\"Helvetica,sans-Serif\" font-size=\"14.00\" fill=\"#000000\">gini = 0.0</text>\n<text text-anchor=\"start\" x=\"10\" y=\"-617.3\" font-family=\"Helvetica,sans-Serif\" font-size=\"14.00\" fill=\"#000000\">samples = 160</text>\n<text text-anchor=\"start\" x=\"8\" y=\"-602.3\" font-family=\"Helvetica,sans-Serif\" font-size=\"14.00\" fill=\"#000000\">value = [160, 0]</text>\n</g>\n<!-- 3&#45;&gt;4 -->\n<g id=\"edge4\" class=\"edge\">\n<title>3&#45;&gt;4</title>\n<path fill=\"none\" stroke=\"#000000\" d=\"M143.4392,-688.8089C129.4872,-677.7359 113.8462,-665.3223 99.7975,-654.1726\"/>\n<polygon fill=\"#000000\" stroke=\"#000000\" points=\"101.7434,-651.2486 91.7346,-647.7735 97.3917,-656.7317 101.7434,-651.2486\"/>\n</g>\n<!-- 5 -->\n<g id=\"node6\" class=\"node\">\n<title>5</title>\n<path fill=\"#eca06a\" stroke=\"#000000\" d=\"M221.5,-653C221.5,-653 146.5,-653 146.5,-653 140.5,-653 134.5,-647 134.5,-641 134.5,-641 134.5,-601 134.5,-601 134.5,-595 140.5,-589 146.5,-589 146.5,-589 221.5,-589 221.5,-589 227.5,-589 233.5,-595 233.5,-601 233.5,-601 233.5,-641 233.5,-641 233.5,-647 227.5,-653 221.5,-653\"/>\n<text text-anchor=\"start\" x=\"147\" y=\"-638.8\" font-family=\"Helvetica,sans-Serif\" font-size=\"14.00\" fill=\"#000000\">X</text>\n<text text-anchor=\"start\" x=\"157\" y=\"-638.8\" font-family=\"Helvetica,sans-Serif\" baseline-shift=\"sub\" font-size=\"14.00\" fill=\"#000000\">1</text>\n<text text-anchor=\"start\" x=\"164\" y=\"-638.8\" font-family=\"Helvetica,sans-Serif\" font-size=\"14.00\" fill=\"#000000\"> ≤ &#45;0.615</text>\n<text text-anchor=\"start\" x=\"150.5\" y=\"-624.8\" font-family=\"Helvetica,sans-Serif\" font-size=\"14.00\" fill=\"#000000\">gini = 0.32</text>\n<text text-anchor=\"start\" x=\"144.5\" y=\"-610.8\" font-family=\"Helvetica,sans-Serif\" font-size=\"14.00\" fill=\"#000000\">samples = 5</text>\n<text text-anchor=\"start\" x=\"142.5\" y=\"-596.8\" font-family=\"Helvetica,sans-Serif\" font-size=\"14.00\" fill=\"#000000\">value = [4, 1]</text>\n</g>\n<!-- 3&#45;&gt;5 -->\n<g id=\"edge5\" class=\"edge\">\n<title>3&#45;&gt;5</title>\n<path fill=\"none\" stroke=\"#000000\" d=\"M184,-688.8089C184,-680.6906 184,-671.8517 184,-663.3186\"/>\n<polygon fill=\"#000000\" stroke=\"#000000\" points=\"187.5001,-663.1307 184,-653.1308 180.5001,-663.1308 187.5001,-663.1307\"/>\n</g>\n<!-- 6 -->\n<g id=\"node7\" class=\"node\">\n<title>6</title>\n<path fill=\"#399de5\" stroke=\"#000000\" d=\"M104.5,-547.5C104.5,-547.5 29.5,-547.5 29.5,-547.5 23.5,-547.5 17.5,-541.5 17.5,-535.5 17.5,-535.5 17.5,-506.5 17.5,-506.5 17.5,-500.5 23.5,-494.5 29.5,-494.5 29.5,-494.5 104.5,-494.5 104.5,-494.5 110.5,-494.5 116.5,-500.5 116.5,-506.5 116.5,-506.5 116.5,-535.5 116.5,-535.5 116.5,-541.5 110.5,-547.5 104.5,-547.5\"/>\n<text text-anchor=\"start\" x=\"37.5\" y=\"-532.3\" font-family=\"Helvetica,sans-Serif\" font-size=\"14.00\" fill=\"#000000\">gini = 0.0</text>\n<text text-anchor=\"start\" x=\"27.5\" y=\"-517.3\" font-family=\"Helvetica,sans-Serif\" font-size=\"14.00\" fill=\"#000000\">samples = 1</text>\n<text text-anchor=\"start\" x=\"25.5\" y=\"-502.3\" font-family=\"Helvetica,sans-Serif\" font-size=\"14.00\" fill=\"#000000\">value = [0, 1]</text>\n</g>\n<!-- 5&#45;&gt;6 -->\n<g id=\"edge6\" class=\"edge\">\n<title>5&#45;&gt;6</title>\n<path fill=\"none\" stroke=\"#000000\" d=\"M146.3364,-588.8089C133.502,-577.8393 119.1285,-565.5543 106.1781,-554.4855\"/>\n<polygon fill=\"#000000\" stroke=\"#000000\" points=\"108.2008,-551.6101 98.325,-547.7735 103.6527,-556.9314 108.2008,-551.6101\"/>\n</g>\n<!-- 7 -->\n<g id=\"node8\" class=\"node\">\n<title>7</title>\n<path fill=\"#e58139\" stroke=\"#000000\" d=\"M221.5,-547.5C221.5,-547.5 146.5,-547.5 146.5,-547.5 140.5,-547.5 134.5,-541.5 134.5,-535.5 134.5,-535.5 134.5,-506.5 134.5,-506.5 134.5,-500.5 140.5,-494.5 146.5,-494.5 146.5,-494.5 221.5,-494.5 221.5,-494.5 227.5,-494.5 233.5,-500.5 233.5,-506.5 233.5,-506.5 233.5,-535.5 233.5,-535.5 233.5,-541.5 227.5,-547.5 221.5,-547.5\"/>\n<text text-anchor=\"start\" x=\"154.5\" y=\"-532.3\" font-family=\"Helvetica,sans-Serif\" font-size=\"14.00\" fill=\"#000000\">gini = 0.0</text>\n<text text-anchor=\"start\" x=\"144.5\" y=\"-517.3\" font-family=\"Helvetica,sans-Serif\" font-size=\"14.00\" fill=\"#000000\">samples = 4</text>\n<text text-anchor=\"start\" x=\"142.5\" y=\"-502.3\" font-family=\"Helvetica,sans-Serif\" font-size=\"14.00\" fill=\"#000000\">value = [4, 0]</text>\n</g>\n<!-- 5&#45;&gt;7 -->\n<g id=\"edge7\" class=\"edge\">\n<title>5&#45;&gt;7</title>\n<path fill=\"none\" stroke=\"#000000\" d=\"M184,-588.8089C184,-578.9777 184,-568.0898 184,-557.9679\"/>\n<polygon fill=\"#000000\" stroke=\"#000000\" points=\"187.5001,-557.7735 184,-547.7735 180.5001,-557.7736 187.5001,-557.7735\"/>\n</g>\n<!-- 9 -->\n<g id=\"node10\" class=\"node\">\n<title>9</title>\n<path fill=\"#399de5\" stroke=\"#000000\" d=\"M342.5,-647.5C342.5,-647.5 267.5,-647.5 267.5,-647.5 261.5,-647.5 255.5,-641.5 255.5,-635.5 255.5,-635.5 255.5,-606.5 255.5,-606.5 255.5,-600.5 261.5,-594.5 267.5,-594.5 267.5,-594.5 342.5,-594.5 342.5,-594.5 348.5,-594.5 354.5,-600.5 354.5,-606.5 354.5,-606.5 354.5,-635.5 354.5,-635.5 354.5,-641.5 348.5,-647.5 342.5,-647.5\"/>\n<text text-anchor=\"start\" x=\"275.5\" y=\"-632.3\" font-family=\"Helvetica,sans-Serif\" font-size=\"14.00\" fill=\"#000000\">gini = 0.0</text>\n<text text-anchor=\"start\" x=\"265.5\" y=\"-617.3\" font-family=\"Helvetica,sans-Serif\" font-size=\"14.00\" fill=\"#000000\">samples = 1</text>\n<text text-anchor=\"start\" x=\"263.5\" y=\"-602.3\" font-family=\"Helvetica,sans-Serif\" font-size=\"14.00\" fill=\"#000000\">value = [0, 1]</text>\n</g>\n<!-- 8&#45;&gt;9 -->\n<g id=\"edge9\" class=\"edge\">\n<title>8&#45;&gt;9</title>\n<path fill=\"none\" stroke=\"#000000\" d=\"M317.2056,-688.8089C315.4174,-678.8742 313.4349,-667.8605 311.5967,-657.6485\"/>\n<polygon fill=\"#000000\" stroke=\"#000000\" points=\"315.0355,-656.9953 309.8192,-647.7735 308.1462,-658.2354 315.0355,-656.9953\"/>\n</g>\n<!-- 10 -->\n<g id=\"node11\" class=\"node\">\n<title>10</title>\n<path fill=\"#e78b49\" stroke=\"#000000\" d=\"M467.5,-653C467.5,-653 384.5,-653 384.5,-653 378.5,-653 372.5,-647 372.5,-641 372.5,-641 372.5,-601 372.5,-601 372.5,-595 378.5,-589 384.5,-589 384.5,-589 467.5,-589 467.5,-589 473.5,-589 479.5,-595 479.5,-601 479.5,-601 479.5,-641 479.5,-641 479.5,-647 473.5,-653 467.5,-653\"/>\n<text text-anchor=\"start\" x=\"389\" y=\"-638.8\" font-family=\"Helvetica,sans-Serif\" font-size=\"14.00\" fill=\"#000000\">X</text>\n<text text-anchor=\"start\" x=\"399\" y=\"-638.8\" font-family=\"Helvetica,sans-Serif\" baseline-shift=\"sub\" font-size=\"14.00\" fill=\"#000000\">4</text>\n<text text-anchor=\"start\" x=\"406\" y=\"-638.8\" font-family=\"Helvetica,sans-Serif\" font-size=\"14.00\" fill=\"#000000\"> ≤ &#45;0.427</text>\n<text text-anchor=\"start\" x=\"388\" y=\"-624.8\" font-family=\"Helvetica,sans-Serif\" font-size=\"14.00\" fill=\"#000000\">gini = 0.135</text>\n<text text-anchor=\"start\" x=\"382\" y=\"-610.8\" font-family=\"Helvetica,sans-Serif\" font-size=\"14.00\" fill=\"#000000\">samples = 55</text>\n<text text-anchor=\"start\" x=\"380.5\" y=\"-596.8\" font-family=\"Helvetica,sans-Serif\" font-size=\"14.00\" fill=\"#000000\">value = [51, 4]</text>\n</g>\n<!-- 8&#45;&gt;10 -->\n<g id=\"edge10\" class=\"edge\">\n<title>8&#45;&gt;10</title>\n<path fill=\"none\" stroke=\"#000000\" d=\"M356.1568,-688.8089C365.5295,-679.7092 375.8346,-669.7043 385.5834,-660.2394\"/>\n<polygon fill=\"#000000\" stroke=\"#000000\" points=\"388.1686,-662.6078 392.9053,-653.1308 383.2925,-657.5854 388.1686,-662.6078\"/>\n</g>\n<!-- 11 -->\n<g id=\"node12\" class=\"node\">\n<title>11</title>\n<path fill=\"#e58139\" stroke=\"#000000\" d=\"M346.5,-547.5C346.5,-547.5 263.5,-547.5 263.5,-547.5 257.5,-547.5 251.5,-541.5 251.5,-535.5 251.5,-535.5 251.5,-506.5 251.5,-506.5 251.5,-500.5 257.5,-494.5 263.5,-494.5 263.5,-494.5 346.5,-494.5 346.5,-494.5 352.5,-494.5 358.5,-500.5 358.5,-506.5 358.5,-506.5 358.5,-535.5 358.5,-535.5 358.5,-541.5 352.5,-547.5 346.5,-547.5\"/>\n<text text-anchor=\"start\" x=\"275.5\" y=\"-532.3\" font-family=\"Helvetica,sans-Serif\" font-size=\"14.00\" fill=\"#000000\">gini = 0.0</text>\n<text text-anchor=\"start\" x=\"261\" y=\"-517.3\" font-family=\"Helvetica,sans-Serif\" font-size=\"14.00\" fill=\"#000000\">samples = 29</text>\n<text text-anchor=\"start\" x=\"259.5\" y=\"-502.3\" font-family=\"Helvetica,sans-Serif\" font-size=\"14.00\" fill=\"#000000\">value = [29, 0]</text>\n</g>\n<!-- 10&#45;&gt;11 -->\n<g id=\"edge11\" class=\"edge\">\n<title>10&#45;&gt;11</title>\n<path fill=\"none\" stroke=\"#000000\" d=\"M387.0488,-588.8089C373.6504,-577.7359 358.63,-565.3223 345.1388,-554.1726\"/>\n<polygon fill=\"#000000\" stroke=\"#000000\" points=\"347.3339,-551.4461 337.396,-547.7735 342.8746,-556.8419 347.3339,-551.4461\"/>\n</g>\n<!-- 12 -->\n<g id=\"node13\" class=\"node\">\n<title>12</title>\n<path fill=\"#ea985d\" stroke=\"#000000\" d=\"M471.5,-553C471.5,-553 388.5,-553 388.5,-553 382.5,-553 376.5,-547 376.5,-541 376.5,-541 376.5,-501 376.5,-501 376.5,-495 382.5,-489 388.5,-489 388.5,-489 471.5,-489 471.5,-489 477.5,-489 483.5,-495 483.5,-501 483.5,-501 483.5,-541 483.5,-541 483.5,-547 477.5,-553 471.5,-553\"/>\n<text text-anchor=\"start\" x=\"393\" y=\"-538.8\" font-family=\"Helvetica,sans-Serif\" font-size=\"14.00\" fill=\"#000000\">X</text>\n<text text-anchor=\"start\" x=\"403\" y=\"-538.8\" font-family=\"Helvetica,sans-Serif\" baseline-shift=\"sub\" font-size=\"14.00\" fill=\"#000000\">4</text>\n<text text-anchor=\"start\" x=\"410\" y=\"-538.8\" font-family=\"Helvetica,sans-Serif\" font-size=\"14.00\" fill=\"#000000\"> ≤ &#45;0.412</text>\n<text text-anchor=\"start\" x=\"396.5\" y=\"-524.8\" font-family=\"Helvetica,sans-Serif\" font-size=\"14.00\" fill=\"#000000\">gini = 0.26</text>\n<text text-anchor=\"start\" x=\"386\" y=\"-510.8\" font-family=\"Helvetica,sans-Serif\" font-size=\"14.00\" fill=\"#000000\">samples = 26</text>\n<text text-anchor=\"start\" x=\"384.5\" y=\"-496.8\" font-family=\"Helvetica,sans-Serif\" font-size=\"14.00\" fill=\"#000000\">value = [22, 4]</text>\n</g>\n<!-- 10&#45;&gt;12 -->\n<g id=\"edge12\" class=\"edge\">\n<title>10&#45;&gt;12</title>\n<path fill=\"none\" stroke=\"#000000\" d=\"M427.2876,-588.8089C427.6124,-580.6906 427.9659,-571.8517 428.3073,-563.3186\"/>\n<polygon fill=\"#000000\" stroke=\"#000000\" points=\"431.8122,-563.2627 428.7148,-553.1308 424.8178,-562.9828 431.8122,-563.2627\"/>\n</g>\n<!-- 13 -->\n<g id=\"node14\" class=\"node\">\n<title>13</title>\n<path fill=\"#7bbeee\" stroke=\"#000000\" d=\"M379.5,-453C379.5,-453 304.5,-453 304.5,-453 298.5,-453 292.5,-447 292.5,-441 292.5,-441 292.5,-401 292.5,-401 292.5,-395 298.5,-389 304.5,-389 304.5,-389 379.5,-389 379.5,-389 385.5,-389 391.5,-395 391.5,-401 391.5,-401 391.5,-441 391.5,-441 391.5,-447 385.5,-453 379.5,-453\"/>\n<text text-anchor=\"start\" x=\"307.5\" y=\"-438.8\" font-family=\"Helvetica,sans-Serif\" font-size=\"14.00\" fill=\"#000000\">X</text>\n<text text-anchor=\"start\" x=\"317.5\" y=\"-438.8\" font-family=\"Helvetica,sans-Serif\" baseline-shift=\"sub\" font-size=\"14.00\" fill=\"#000000\">3</text>\n<text text-anchor=\"start\" x=\"324.5\" y=\"-438.8\" font-family=\"Helvetica,sans-Serif\" font-size=\"14.00\" fill=\"#000000\"> ≤ 2.234</text>\n<text text-anchor=\"start\" x=\"304\" y=\"-424.8\" font-family=\"Helvetica,sans-Serif\" font-size=\"14.00\" fill=\"#000000\">gini = 0.375</text>\n<text text-anchor=\"start\" x=\"302.5\" y=\"-410.8\" font-family=\"Helvetica,sans-Serif\" font-size=\"14.00\" fill=\"#000000\">samples = 4</text>\n<text text-anchor=\"start\" x=\"300.5\" y=\"-396.8\" font-family=\"Helvetica,sans-Serif\" font-size=\"14.00\" fill=\"#000000\">value = [1, 3]</text>\n</g>\n<!-- 12&#45;&gt;13 -->\n<g id=\"edge13\" class=\"edge\">\n<title>12&#45;&gt;13</title>\n<path fill=\"none\" stroke=\"#000000\" d=\"M401.6719,-488.8089C393.8211,-479.8877 385.2048,-470.0963 377.0212,-460.7968\"/>\n<polygon fill=\"#000000\" stroke=\"#000000\" points=\"379.5089,-458.3257 370.2751,-453.1308 374.2539,-462.9501 379.5089,-458.3257\"/>\n</g>\n<!-- 16 -->\n<g id=\"node17\" class=\"node\">\n<title>16</title>\n<path fill=\"#e68742\" stroke=\"#000000\" d=\"M504.5,-453C504.5,-453 421.5,-453 421.5,-453 415.5,-453 409.5,-447 409.5,-441 409.5,-441 409.5,-401 409.5,-401 409.5,-395 415.5,-389 421.5,-389 421.5,-389 504.5,-389 504.5,-389 510.5,-389 516.5,-395 516.5,-401 516.5,-401 516.5,-441 516.5,-441 516.5,-447 510.5,-453 504.5,-453\"/>\n<text text-anchor=\"start\" x=\"428.5\" y=\"-438.8\" font-family=\"Helvetica,sans-Serif\" font-size=\"14.00\" fill=\"#000000\">X</text>\n<text text-anchor=\"start\" x=\"438.5\" y=\"-438.8\" font-family=\"Helvetica,sans-Serif\" baseline-shift=\"sub\" font-size=\"14.00\" fill=\"#000000\">6</text>\n<text text-anchor=\"start\" x=\"445.5\" y=\"-438.8\" font-family=\"Helvetica,sans-Serif\" font-size=\"14.00\" fill=\"#000000\"> ≤ 0.932</text>\n<text text-anchor=\"start\" x=\"425\" y=\"-424.8\" font-family=\"Helvetica,sans-Serif\" font-size=\"14.00\" fill=\"#000000\">gini = 0.087</text>\n<text text-anchor=\"start\" x=\"419\" y=\"-410.8\" font-family=\"Helvetica,sans-Serif\" font-size=\"14.00\" fill=\"#000000\">samples = 22</text>\n<text text-anchor=\"start\" x=\"417.5\" y=\"-396.8\" font-family=\"Helvetica,sans-Serif\" font-size=\"14.00\" fill=\"#000000\">value = [21, 1]</text>\n</g>\n<!-- 12&#45;&gt;16 -->\n<g id=\"edge16\" class=\"edge\">\n<title>12&#45;&gt;16</title>\n<path fill=\"none\" stroke=\"#000000\" d=\"M440.6231,-488.8089C443.361,-480.5122 446.3473,-471.4628 449.2204,-462.7565\"/>\n<polygon fill=\"#000000\" stroke=\"#000000\" points=\"452.5867,-463.7239 452.3968,-453.1308 445.9393,-461.5302 452.5867,-463.7239\"/>\n</g>\n<!-- 14 -->\n<g id=\"node15\" class=\"node\">\n<title>14</title>\n<path fill=\"#399de5\" stroke=\"#000000\" d=\"M262.5,-347.5C262.5,-347.5 187.5,-347.5 187.5,-347.5 181.5,-347.5 175.5,-341.5 175.5,-335.5 175.5,-335.5 175.5,-306.5 175.5,-306.5 175.5,-300.5 181.5,-294.5 187.5,-294.5 187.5,-294.5 262.5,-294.5 262.5,-294.5 268.5,-294.5 274.5,-300.5 274.5,-306.5 274.5,-306.5 274.5,-335.5 274.5,-335.5 274.5,-341.5 268.5,-347.5 262.5,-347.5\"/>\n<text text-anchor=\"start\" x=\"195.5\" y=\"-332.3\" font-family=\"Helvetica,sans-Serif\" font-size=\"14.00\" fill=\"#000000\">gini = 0.0</text>\n<text text-anchor=\"start\" x=\"185.5\" y=\"-317.3\" font-family=\"Helvetica,sans-Serif\" font-size=\"14.00\" fill=\"#000000\">samples = 3</text>\n<text text-anchor=\"start\" x=\"183.5\" y=\"-302.3\" font-family=\"Helvetica,sans-Serif\" font-size=\"14.00\" fill=\"#000000\">value = [0, 3]</text>\n</g>\n<!-- 13&#45;&gt;14 -->\n<g id=\"edge14\" class=\"edge\">\n<title>13&#45;&gt;14</title>\n<path fill=\"none\" stroke=\"#000000\" d=\"M304.3364,-388.8089C291.502,-377.8393 277.1285,-365.5543 264.1781,-354.4855\"/>\n<polygon fill=\"#000000\" stroke=\"#000000\" points=\"266.2008,-351.6101 256.325,-347.7735 261.6527,-356.9314 266.2008,-351.6101\"/>\n</g>\n<!-- 15 -->\n<g id=\"node16\" class=\"node\">\n<title>15</title>\n<path fill=\"#e58139\" stroke=\"#000000\" d=\"M379.5,-347.5C379.5,-347.5 304.5,-347.5 304.5,-347.5 298.5,-347.5 292.5,-341.5 292.5,-335.5 292.5,-335.5 292.5,-306.5 292.5,-306.5 292.5,-300.5 298.5,-294.5 304.5,-294.5 304.5,-294.5 379.5,-294.5 379.5,-294.5 385.5,-294.5 391.5,-300.5 391.5,-306.5 391.5,-306.5 391.5,-335.5 391.5,-335.5 391.5,-341.5 385.5,-347.5 379.5,-347.5\"/>\n<text text-anchor=\"start\" x=\"312.5\" y=\"-332.3\" font-family=\"Helvetica,sans-Serif\" font-size=\"14.00\" fill=\"#000000\">gini = 0.0</text>\n<text text-anchor=\"start\" x=\"302.5\" y=\"-317.3\" font-family=\"Helvetica,sans-Serif\" font-size=\"14.00\" fill=\"#000000\">samples = 1</text>\n<text text-anchor=\"start\" x=\"300.5\" y=\"-302.3\" font-family=\"Helvetica,sans-Serif\" font-size=\"14.00\" fill=\"#000000\">value = [1, 0]</text>\n</g>\n<!-- 13&#45;&gt;15 -->\n<g id=\"edge15\" class=\"edge\">\n<title>13&#45;&gt;15</title>\n<path fill=\"none\" stroke=\"#000000\" d=\"M342,-388.8089C342,-378.9777 342,-368.0898 342,-357.9679\"/>\n<polygon fill=\"#000000\" stroke=\"#000000\" points=\"345.5001,-357.7735 342,-347.7735 338.5001,-357.7736 345.5001,-357.7735\"/>\n</g>\n<!-- 17 -->\n<g id=\"node18\" class=\"node\">\n<title>17</title>\n<path fill=\"#e58139\" stroke=\"#000000\" d=\"M504.5,-347.5C504.5,-347.5 421.5,-347.5 421.5,-347.5 415.5,-347.5 409.5,-341.5 409.5,-335.5 409.5,-335.5 409.5,-306.5 409.5,-306.5 409.5,-300.5 415.5,-294.5 421.5,-294.5 421.5,-294.5 504.5,-294.5 504.5,-294.5 510.5,-294.5 516.5,-300.5 516.5,-306.5 516.5,-306.5 516.5,-335.5 516.5,-335.5 516.5,-341.5 510.5,-347.5 504.5,-347.5\"/>\n<text text-anchor=\"start\" x=\"433.5\" y=\"-332.3\" font-family=\"Helvetica,sans-Serif\" font-size=\"14.00\" fill=\"#000000\">gini = 0.0</text>\n<text text-anchor=\"start\" x=\"419\" y=\"-317.3\" font-family=\"Helvetica,sans-Serif\" font-size=\"14.00\" fill=\"#000000\">samples = 17</text>\n<text text-anchor=\"start\" x=\"417.5\" y=\"-302.3\" font-family=\"Helvetica,sans-Serif\" font-size=\"14.00\" fill=\"#000000\">value = [17, 0]</text>\n</g>\n<!-- 16&#45;&gt;17 -->\n<g id=\"edge17\" class=\"edge\">\n<title>16&#45;&gt;17</title>\n<path fill=\"none\" stroke=\"#000000\" d=\"M463,-388.8089C463,-378.9777 463,-368.0898 463,-357.9679\"/>\n<polygon fill=\"#000000\" stroke=\"#000000\" points=\"466.5001,-357.7735 463,-347.7735 459.5001,-357.7736 466.5001,-357.7735\"/>\n</g>\n<!-- 18 -->\n<g id=\"node19\" class=\"node\">\n<title>18</title>\n<path fill=\"#eca06a\" stroke=\"#000000\" d=\"M621.5,-353C621.5,-353 546.5,-353 546.5,-353 540.5,-353 534.5,-347 534.5,-341 534.5,-341 534.5,-301 534.5,-301 534.5,-295 540.5,-289 546.5,-289 546.5,-289 621.5,-289 621.5,-289 627.5,-289 633.5,-295 633.5,-301 633.5,-301 633.5,-341 633.5,-341 633.5,-347 627.5,-353 621.5,-353\"/>\n<text text-anchor=\"start\" x=\"549.5\" y=\"-338.8\" font-family=\"Helvetica,sans-Serif\" font-size=\"14.00\" fill=\"#000000\">X</text>\n<text text-anchor=\"start\" x=\"559.5\" y=\"-338.8\" font-family=\"Helvetica,sans-Serif\" baseline-shift=\"sub\" font-size=\"14.00\" fill=\"#000000\">3</text>\n<text text-anchor=\"start\" x=\"566.5\" y=\"-338.8\" font-family=\"Helvetica,sans-Serif\" font-size=\"14.00\" fill=\"#000000\"> ≤ 0.834</text>\n<text text-anchor=\"start\" x=\"550.5\" y=\"-324.8\" font-family=\"Helvetica,sans-Serif\" font-size=\"14.00\" fill=\"#000000\">gini = 0.32</text>\n<text text-anchor=\"start\" x=\"544.5\" y=\"-310.8\" font-family=\"Helvetica,sans-Serif\" font-size=\"14.00\" fill=\"#000000\">samples = 5</text>\n<text text-anchor=\"start\" x=\"542.5\" y=\"-296.8\" font-family=\"Helvetica,sans-Serif\" font-size=\"14.00\" fill=\"#000000\">value = [4, 1]</text>\n</g>\n<!-- 16&#45;&gt;18 -->\n<g id=\"edge18\" class=\"edge\">\n<title>16&#45;&gt;18</title>\n<path fill=\"none\" stroke=\"#000000\" d=\"M501.9512,-388.8089C513.1777,-379.5308 525.5429,-369.3116 537.1932,-359.6833\"/>\n<polygon fill=\"#000000\" stroke=\"#000000\" points=\"539.6432,-362.1992 545.1218,-353.1308 535.1838,-356.8034 539.6432,-362.1992\"/>\n</g>\n<!-- 19 -->\n<g id=\"node20\" class=\"node\">\n<title>19</title>\n<path fill=\"#e58139\" stroke=\"#000000\" d=\"M563.5,-247.5C563.5,-247.5 488.5,-247.5 488.5,-247.5 482.5,-247.5 476.5,-241.5 476.5,-235.5 476.5,-235.5 476.5,-206.5 476.5,-206.5 476.5,-200.5 482.5,-194.5 488.5,-194.5 488.5,-194.5 563.5,-194.5 563.5,-194.5 569.5,-194.5 575.5,-200.5 575.5,-206.5 575.5,-206.5 575.5,-235.5 575.5,-235.5 575.5,-241.5 569.5,-247.5 563.5,-247.5\"/>\n<text text-anchor=\"start\" x=\"496.5\" y=\"-232.3\" font-family=\"Helvetica,sans-Serif\" font-size=\"14.00\" fill=\"#000000\">gini = 0.0</text>\n<text text-anchor=\"start\" x=\"486.5\" y=\"-217.3\" font-family=\"Helvetica,sans-Serif\" font-size=\"14.00\" fill=\"#000000\">samples = 3</text>\n<text text-anchor=\"start\" x=\"484.5\" y=\"-202.3\" font-family=\"Helvetica,sans-Serif\" font-size=\"14.00\" fill=\"#000000\">value = [3, 0]</text>\n</g>\n<!-- 18&#45;&gt;19 -->\n<g id=\"edge19\" class=\"edge\">\n<title>18&#45;&gt;19</title>\n<path fill=\"none\" stroke=\"#000000\" d=\"M565.3292,-288.8089C559.387,-278.5638 552.7792,-267.1711 546.7023,-256.6936\"/>\n<polygon fill=\"#000000\" stroke=\"#000000\" points=\"549.5735,-254.6678 541.5286,-247.7735 543.5183,-258.1799 549.5735,-254.6678\"/>\n</g>\n<!-- 20 -->\n<g id=\"node21\" class=\"node\">\n<title>20</title>\n<path fill=\"#ffffff\" stroke=\"#000000\" d=\"M680.5,-253C680.5,-253 605.5,-253 605.5,-253 599.5,-253 593.5,-247 593.5,-241 593.5,-241 593.5,-201 593.5,-201 593.5,-195 599.5,-189 605.5,-189 605.5,-189 680.5,-189 680.5,-189 686.5,-189 692.5,-195 692.5,-201 692.5,-201 692.5,-241 692.5,-241 692.5,-247 686.5,-253 680.5,-253\"/>\n<text text-anchor=\"start\" x=\"608.5\" y=\"-238.8\" font-family=\"Helvetica,sans-Serif\" font-size=\"14.00\" fill=\"#000000\">X</text>\n<text text-anchor=\"start\" x=\"618.5\" y=\"-238.8\" font-family=\"Helvetica,sans-Serif\" baseline-shift=\"sub\" font-size=\"14.00\" fill=\"#000000\">1</text>\n<text text-anchor=\"start\" x=\"625.5\" y=\"-238.8\" font-family=\"Helvetica,sans-Serif\" font-size=\"14.00\" fill=\"#000000\"> ≤ 1.185</text>\n<text text-anchor=\"start\" x=\"613.5\" y=\"-224.8\" font-family=\"Helvetica,sans-Serif\" font-size=\"14.00\" fill=\"#000000\">gini = 0.5</text>\n<text text-anchor=\"start\" x=\"603.5\" y=\"-210.8\" font-family=\"Helvetica,sans-Serif\" font-size=\"14.00\" fill=\"#000000\">samples = 2</text>\n<text text-anchor=\"start\" x=\"601.5\" y=\"-196.8\" font-family=\"Helvetica,sans-Serif\" font-size=\"14.00\" fill=\"#000000\">value = [1, 1]</text>\n</g>\n<!-- 18&#45;&gt;20 -->\n<g id=\"edge20\" class=\"edge\">\n<title>18&#45;&gt;20</title>\n<path fill=\"none\" stroke=\"#000000\" d=\"M602.9927,-288.8089C608.0457,-280.2445 613.5718,-270.8782 618.8601,-261.915\"/>\n<polygon fill=\"#000000\" stroke=\"#000000\" points=\"621.9758,-263.522 624.0429,-253.1308 615.9469,-259.9649 621.9758,-263.522\"/>\n</g>\n<!-- 21 -->\n<g id=\"node22\" class=\"node\">\n<title>21</title>\n<path fill=\"#399de5\" stroke=\"#000000\" d=\"M608.5,-147.5C608.5,-147.5 533.5,-147.5 533.5,-147.5 527.5,-147.5 521.5,-141.5 521.5,-135.5 521.5,-135.5 521.5,-106.5 521.5,-106.5 521.5,-100.5 527.5,-94.5 533.5,-94.5 533.5,-94.5 608.5,-94.5 608.5,-94.5 614.5,-94.5 620.5,-100.5 620.5,-106.5 620.5,-106.5 620.5,-135.5 620.5,-135.5 620.5,-141.5 614.5,-147.5 608.5,-147.5\"/>\n<text text-anchor=\"start\" x=\"541.5\" y=\"-132.3\" font-family=\"Helvetica,sans-Serif\" font-size=\"14.00\" fill=\"#000000\">gini = 0.0</text>\n<text text-anchor=\"start\" x=\"531.5\" y=\"-117.3\" font-family=\"Helvetica,sans-Serif\" font-size=\"14.00\" fill=\"#000000\">samples = 1</text>\n<text text-anchor=\"start\" x=\"529.5\" y=\"-102.3\" font-family=\"Helvetica,sans-Serif\" font-size=\"14.00\" fill=\"#000000\">value = [0, 1]</text>\n</g>\n<!-- 20&#45;&gt;21 -->\n<g id=\"edge21\" class=\"edge\">\n<title>20&#45;&gt;21</title>\n<path fill=\"none\" stroke=\"#000000\" d=\"M619.8224,-188.8089C612.2969,-178.3568 603.9114,-166.7103 596.243,-156.0597\"/>\n<polygon fill=\"#000000\" stroke=\"#000000\" points=\"598.9604,-153.8438 590.2769,-147.7735 593.2796,-157.934 598.9604,-153.8438\"/>\n</g>\n<!-- 22 -->\n<g id=\"node23\" class=\"node\">\n<title>22</title>\n<path fill=\"#e58139\" stroke=\"#000000\" d=\"M725.5,-147.5C725.5,-147.5 650.5,-147.5 650.5,-147.5 644.5,-147.5 638.5,-141.5 638.5,-135.5 638.5,-135.5 638.5,-106.5 638.5,-106.5 638.5,-100.5 644.5,-94.5 650.5,-94.5 650.5,-94.5 725.5,-94.5 725.5,-94.5 731.5,-94.5 737.5,-100.5 737.5,-106.5 737.5,-106.5 737.5,-135.5 737.5,-135.5 737.5,-141.5 731.5,-147.5 725.5,-147.5\"/>\n<text text-anchor=\"start\" x=\"658.5\" y=\"-132.3\" font-family=\"Helvetica,sans-Serif\" font-size=\"14.00\" fill=\"#000000\">gini = 0.0</text>\n<text text-anchor=\"start\" x=\"648.5\" y=\"-117.3\" font-family=\"Helvetica,sans-Serif\" font-size=\"14.00\" fill=\"#000000\">samples = 1</text>\n<text text-anchor=\"start\" x=\"646.5\" y=\"-102.3\" font-family=\"Helvetica,sans-Serif\" font-size=\"14.00\" fill=\"#000000\">value = [1, 0]</text>\n</g>\n<!-- 20&#45;&gt;22 -->\n<g id=\"edge22\" class=\"edge\">\n<title>20&#45;&gt;22</title>\n<path fill=\"none\" stroke=\"#000000\" d=\"M657.486,-188.8089C662.0497,-178.6672 667.1195,-167.4011 671.7949,-157.0114\"/>\n<polygon fill=\"#000000\" stroke=\"#000000\" points=\"675.0399,-158.329 675.9519,-147.7735 668.6565,-155.4564 675.0399,-158.329\"/>\n</g>\n<!-- 25 -->\n<g id=\"node26\" class=\"node\">\n<title>25</title>\n<path fill=\"#e99355\" stroke=\"#000000\" d=\"M672.5,-853C672.5,-853 597.5,-853 597.5,-853 591.5,-853 585.5,-847 585.5,-841 585.5,-841 585.5,-801 585.5,-801 585.5,-795 591.5,-789 597.5,-789 597.5,-789 672.5,-789 672.5,-789 678.5,-789 684.5,-795 684.5,-801 684.5,-801 684.5,-841 684.5,-841 684.5,-847 678.5,-853 672.5,-853\"/>\n<text text-anchor=\"start\" x=\"600.5\" y=\"-838.8\" font-family=\"Helvetica,sans-Serif\" font-size=\"14.00\" fill=\"#000000\">X</text>\n<text text-anchor=\"start\" x=\"610.5\" y=\"-838.8\" font-family=\"Helvetica,sans-Serif\" baseline-shift=\"sub\" font-size=\"14.00\" fill=\"#000000\">4</text>\n<text text-anchor=\"start\" x=\"617.5\" y=\"-838.8\" font-family=\"Helvetica,sans-Serif\" font-size=\"14.00\" fill=\"#000000\"> ≤ 0.593</text>\n<text text-anchor=\"start\" x=\"597\" y=\"-824.8\" font-family=\"Helvetica,sans-Serif\" font-size=\"14.00\" fill=\"#000000\">gini = 0.219</text>\n<text text-anchor=\"start\" x=\"595.5\" y=\"-810.8\" font-family=\"Helvetica,sans-Serif\" font-size=\"14.00\" fill=\"#000000\">samples = 8</text>\n<text text-anchor=\"start\" x=\"593.5\" y=\"-796.8\" font-family=\"Helvetica,sans-Serif\" font-size=\"14.00\" fill=\"#000000\">value = [7, 1]</text>\n</g>\n<!-- 24&#45;&gt;25 -->\n<g id=\"edge25\" class=\"edge\">\n<title>24&#45;&gt;25</title>\n<path fill=\"none\" stroke=\"#000000\" d=\"M635,-888.8089C635,-880.6906 635,-871.8517 635,-863.3186\"/>\n<polygon fill=\"#000000\" stroke=\"#000000\" points=\"638.5001,-863.1307 635,-853.1308 631.5001,-863.1308 638.5001,-863.1307\"/>\n</g>\n<!-- 28 -->\n<g id=\"node29\" class=\"node\">\n<title>28</title>\n<path fill=\"#57ace9\" stroke=\"#000000\" d=\"M833,-853C833,-853 733,-853 733,-853 727,-853 721,-847 721,-841 721,-841 721,-801 721,-801 721,-795 727,-789 733,-789 733,-789 833,-789 833,-789 839,-789 845,-795 845,-801 845,-801 845,-841 845,-841 845,-847 839,-853 833,-853\"/>\n<text text-anchor=\"start\" x=\"748.5\" y=\"-838.8\" font-family=\"Helvetica,sans-Serif\" font-size=\"14.00\" fill=\"#000000\">X</text>\n<text text-anchor=\"start\" x=\"758.5\" y=\"-838.8\" font-family=\"Helvetica,sans-Serif\" baseline-shift=\"sub\" font-size=\"14.00\" fill=\"#000000\">4</text>\n<text text-anchor=\"start\" x=\"765.5\" y=\"-838.8\" font-family=\"Helvetica,sans-Serif\" font-size=\"14.00\" fill=\"#000000\"> ≤ 0.132</text>\n<text text-anchor=\"start\" x=\"745\" y=\"-824.8\" font-family=\"Helvetica,sans-Serif\" font-size=\"14.00\" fill=\"#000000\">gini = 0.228</text>\n<text text-anchor=\"start\" x=\"735\" y=\"-810.8\" font-family=\"Helvetica,sans-Serif\" font-size=\"14.00\" fill=\"#000000\">samples = 122</text>\n<text text-anchor=\"start\" x=\"729\" y=\"-796.8\" font-family=\"Helvetica,sans-Serif\" font-size=\"14.00\" fill=\"#000000\">value = [16, 106]</text>\n</g>\n<!-- 24&#45;&gt;28 -->\n<g id=\"edge28\" class=\"edge\">\n<title>24&#45;&gt;28</title>\n<path fill=\"none\" stroke=\"#000000\" d=\"M682.6428,-888.8089C696.7705,-879.2632 712.3725,-868.7213 726.9797,-858.8516\"/>\n<polygon fill=\"#000000\" stroke=\"#000000\" points=\"729.1201,-861.6294 735.4465,-853.1308 725.2011,-855.8293 729.1201,-861.6294\"/>\n</g>\n<!-- 26 -->\n<g id=\"node27\" class=\"node\">\n<title>26</title>\n<path fill=\"#e58139\" stroke=\"#000000\" d=\"M566.5,-747.5C566.5,-747.5 491.5,-747.5 491.5,-747.5 485.5,-747.5 479.5,-741.5 479.5,-735.5 479.5,-735.5 479.5,-706.5 479.5,-706.5 479.5,-700.5 485.5,-694.5 491.5,-694.5 491.5,-694.5 566.5,-694.5 566.5,-694.5 572.5,-694.5 578.5,-700.5 578.5,-706.5 578.5,-706.5 578.5,-735.5 578.5,-735.5 578.5,-741.5 572.5,-747.5 566.5,-747.5\"/>\n<text text-anchor=\"start\" x=\"499.5\" y=\"-732.3\" font-family=\"Helvetica,sans-Serif\" font-size=\"14.00\" fill=\"#000000\">gini = 0.0</text>\n<text text-anchor=\"start\" x=\"489.5\" y=\"-717.3\" font-family=\"Helvetica,sans-Serif\" font-size=\"14.00\" fill=\"#000000\">samples = 7</text>\n<text text-anchor=\"start\" x=\"487.5\" y=\"-702.3\" font-family=\"Helvetica,sans-Serif\" font-size=\"14.00\" fill=\"#000000\">value = [7, 0]</text>\n</g>\n<!-- 25&#45;&gt;26 -->\n<g id=\"edge26\" class=\"edge\">\n<title>25&#45;&gt;26</title>\n<path fill=\"none\" stroke=\"#000000\" d=\"M600.8775,-788.8089C589.3594,-777.9428 576.4731,-765.7859 564.8271,-754.7991\"/>\n<polygon fill=\"#000000\" stroke=\"#000000\" points=\"567.0557,-752.0899 557.3799,-747.7735 562.2521,-757.1816 567.0557,-752.0899\"/>\n</g>\n<!-- 27 -->\n<g id=\"node28\" class=\"node\">\n<title>27</title>\n<path fill=\"#399de5\" stroke=\"#000000\" d=\"M683.5,-747.5C683.5,-747.5 608.5,-747.5 608.5,-747.5 602.5,-747.5 596.5,-741.5 596.5,-735.5 596.5,-735.5 596.5,-706.5 596.5,-706.5 596.5,-700.5 602.5,-694.5 608.5,-694.5 608.5,-694.5 683.5,-694.5 683.5,-694.5 689.5,-694.5 695.5,-700.5 695.5,-706.5 695.5,-706.5 695.5,-735.5 695.5,-735.5 695.5,-741.5 689.5,-747.5 683.5,-747.5\"/>\n<text text-anchor=\"start\" x=\"616.5\" y=\"-732.3\" font-family=\"Helvetica,sans-Serif\" font-size=\"14.00\" fill=\"#000000\">gini = 0.0</text>\n<text text-anchor=\"start\" x=\"606.5\" y=\"-717.3\" font-family=\"Helvetica,sans-Serif\" font-size=\"14.00\" fill=\"#000000\">samples = 1</text>\n<text text-anchor=\"start\" x=\"604.5\" y=\"-702.3\" font-family=\"Helvetica,sans-Serif\" font-size=\"14.00\" fill=\"#000000\">value = [0, 1]</text>\n</g>\n<!-- 25&#45;&gt;27 -->\n<g id=\"edge27\" class=\"edge\">\n<title>25&#45;&gt;27</title>\n<path fill=\"none\" stroke=\"#000000\" d=\"M638.541,-788.8089C639.6225,-778.9777 640.8201,-768.0898 641.9335,-757.9679\"/>\n<polygon fill=\"#000000\" stroke=\"#000000\" points=\"645.4404,-758.0963 643.0549,-747.7735 638.4824,-757.3308 645.4404,-758.0963\"/>\n</g>\n<!-- 29 -->\n<g id=\"node30\" class=\"node\">\n<title>29</title>\n<path fill=\"#97ccf1\" stroke=\"#000000\" d=\"M829,-753C829,-753 737,-753 737,-753 731,-753 725,-747 725,-741 725,-741 725,-701 725,-701 725,-695 731,-689 737,-689 737,-689 829,-689 829,-689 835,-689 841,-695 841,-701 841,-701 841,-741 841,-741 841,-747 835,-753 829,-753\"/>\n<text text-anchor=\"start\" x=\"746\" y=\"-738.8\" font-family=\"Helvetica,sans-Serif\" font-size=\"14.00\" fill=\"#000000\">X</text>\n<text text-anchor=\"start\" x=\"756\" y=\"-738.8\" font-family=\"Helvetica,sans-Serif\" baseline-shift=\"sub\" font-size=\"14.00\" fill=\"#000000\">0</text>\n<text text-anchor=\"start\" x=\"763\" y=\"-738.8\" font-family=\"Helvetica,sans-Serif\" font-size=\"14.00\" fill=\"#000000\"> ≤ &#45;0.417</text>\n<text text-anchor=\"start\" x=\"745\" y=\"-724.8\" font-family=\"Helvetica,sans-Serif\" font-size=\"14.00\" fill=\"#000000\">gini = 0.437</text>\n<text text-anchor=\"start\" x=\"739\" y=\"-710.8\" font-family=\"Helvetica,sans-Serif\" font-size=\"14.00\" fill=\"#000000\">samples = 31</text>\n<text text-anchor=\"start\" x=\"733\" y=\"-696.8\" font-family=\"Helvetica,sans-Serif\" font-size=\"14.00\" fill=\"#000000\">value = [10, 21]</text>\n</g>\n<!-- 28&#45;&gt;29 -->\n<g id=\"edge29\" class=\"edge\">\n<title>28&#45;&gt;29</title>\n<path fill=\"none\" stroke=\"#000000\" d=\"M783,-788.8089C783,-780.6906 783,-771.8517 783,-763.3186\"/>\n<polygon fill=\"#000000\" stroke=\"#000000\" points=\"786.5001,-763.1307 783,-753.1308 779.5001,-763.1308 786.5001,-763.1307\"/>\n</g>\n<!-- 42 -->\n<g id=\"node43\" class=\"node\">\n<title>42</title>\n<path fill=\"#47a4e7\" stroke=\"#000000\" d=\"M1012.5,-753C1012.5,-753 929.5,-753 929.5,-753 923.5,-753 917.5,-747 917.5,-741 917.5,-741 917.5,-701 917.5,-701 917.5,-695 923.5,-689 929.5,-689 929.5,-689 1012.5,-689 1012.5,-689 1018.5,-689 1024.5,-695 1024.5,-701 1024.5,-701 1024.5,-741 1024.5,-741 1024.5,-747 1018.5,-753 1012.5,-753\"/>\n<text text-anchor=\"start\" x=\"934\" y=\"-738.8\" font-family=\"Helvetica,sans-Serif\" font-size=\"14.00\" fill=\"#000000\">X</text>\n<text text-anchor=\"start\" x=\"944\" y=\"-738.8\" font-family=\"Helvetica,sans-Serif\" baseline-shift=\"sub\" font-size=\"14.00\" fill=\"#000000\">3</text>\n<text text-anchor=\"start\" x=\"951\" y=\"-738.8\" font-family=\"Helvetica,sans-Serif\" font-size=\"14.00\" fill=\"#000000\"> ≤ &#45;0.721</text>\n<text text-anchor=\"start\" x=\"933\" y=\"-724.8\" font-family=\"Helvetica,sans-Serif\" font-size=\"14.00\" fill=\"#000000\">gini = 0.123</text>\n<text text-anchor=\"start\" x=\"927\" y=\"-710.8\" font-family=\"Helvetica,sans-Serif\" font-size=\"14.00\" fill=\"#000000\">samples = 91</text>\n<text text-anchor=\"start\" x=\"925.5\" y=\"-696.8\" font-family=\"Helvetica,sans-Serif\" font-size=\"14.00\" fill=\"#000000\">value = [6, 85]</text>\n</g>\n<!-- 28&#45;&gt;42 -->\n<g id=\"edge42\" class=\"edge\">\n<title>28&#45;&gt;42</title>\n<path fill=\"none\" stroke=\"#000000\" d=\"M843.2601,-788.9467C864.1227,-777.8496 887.5419,-765.3926 908.5748,-754.2049\"/>\n<polygon fill=\"#000000\" stroke=\"#000000\" points=\"910.2434,-757.2818 917.4284,-749.4955 906.956,-751.1016 910.2434,-757.2818\"/>\n</g>\n<!-- 30 -->\n<g id=\"node31\" class=\"node\">\n<title>30</title>\n<path fill=\"#eeab7b\" stroke=\"#000000\" d=\"M703.5,-653C703.5,-653 628.5,-653 628.5,-653 622.5,-653 616.5,-647 616.5,-641 616.5,-641 616.5,-601 616.5,-601 616.5,-595 622.5,-589 628.5,-589 628.5,-589 703.5,-589 703.5,-589 709.5,-589 715.5,-595 715.5,-601 715.5,-601 715.5,-641 715.5,-641 715.5,-647 709.5,-653 703.5,-653\"/>\n<text text-anchor=\"start\" x=\"631.5\" y=\"-638.8\" font-family=\"Helvetica,sans-Serif\" font-size=\"14.00\" fill=\"#000000\">X</text>\n<text text-anchor=\"start\" x=\"641.5\" y=\"-638.8\" font-family=\"Helvetica,sans-Serif\" baseline-shift=\"sub\" font-size=\"14.00\" fill=\"#000000\">1</text>\n<text text-anchor=\"start\" x=\"648.5\" y=\"-638.8\" font-family=\"Helvetica,sans-Serif\" font-size=\"14.00\" fill=\"#000000\"> ≤ 0.322</text>\n<text text-anchor=\"start\" x=\"628\" y=\"-624.8\" font-family=\"Helvetica,sans-Serif\" font-size=\"14.00\" fill=\"#000000\">gini = 0.375</text>\n<text text-anchor=\"start\" x=\"626.5\" y=\"-610.8\" font-family=\"Helvetica,sans-Serif\" font-size=\"14.00\" fill=\"#000000\">samples = 8</text>\n<text text-anchor=\"start\" x=\"624.5\" y=\"-596.8\" font-family=\"Helvetica,sans-Serif\" font-size=\"14.00\" fill=\"#000000\">value = [6, 2]</text>\n</g>\n<!-- 29&#45;&gt;30 -->\n<g id=\"edge30\" class=\"edge\">\n<title>29&#45;&gt;30</title>\n<path fill=\"none\" stroke=\"#000000\" d=\"M745.3364,-688.8089C734.4811,-679.5308 722.5246,-669.3116 711.2595,-659.6833\"/>\n<polygon fill=\"#000000\" stroke=\"#000000\" points=\"713.4688,-656.9674 703.593,-653.1308 708.9207,-662.2886 713.4688,-656.9674\"/>\n</g>\n<!-- 33 -->\n<g id=\"node34\" class=\"node\">\n<title>33</title>\n<path fill=\"#63b2ea\" stroke=\"#000000\" d=\"M828.5,-653C828.5,-653 745.5,-653 745.5,-653 739.5,-653 733.5,-647 733.5,-641 733.5,-641 733.5,-601 733.5,-601 733.5,-595 739.5,-589 745.5,-589 745.5,-589 828.5,-589 828.5,-589 834.5,-589 840.5,-595 840.5,-601 840.5,-601 840.5,-641 840.5,-641 840.5,-647 834.5,-653 828.5,-653\"/>\n<text text-anchor=\"start\" x=\"750\" y=\"-638.8\" font-family=\"Helvetica,sans-Serif\" font-size=\"14.00\" fill=\"#000000\">X</text>\n<text text-anchor=\"start\" x=\"760\" y=\"-638.8\" font-family=\"Helvetica,sans-Serif\" baseline-shift=\"sub\" font-size=\"14.00\" fill=\"#000000\">1</text>\n<text text-anchor=\"start\" x=\"767\" y=\"-638.8\" font-family=\"Helvetica,sans-Serif\" font-size=\"14.00\" fill=\"#000000\"> ≤ &#45;0.275</text>\n<text text-anchor=\"start\" x=\"749\" y=\"-624.8\" font-family=\"Helvetica,sans-Serif\" font-size=\"14.00\" fill=\"#000000\">gini = 0.287</text>\n<text text-anchor=\"start\" x=\"743\" y=\"-610.8\" font-family=\"Helvetica,sans-Serif\" font-size=\"14.00\" fill=\"#000000\">samples = 23</text>\n<text text-anchor=\"start\" x=\"741.5\" y=\"-596.8\" font-family=\"Helvetica,sans-Serif\" font-size=\"14.00\" fill=\"#000000\">value = [4, 19]</text>\n</g>\n<!-- 29&#45;&gt;33 -->\n<g id=\"edge33\" class=\"edge\">\n<title>29&#45;&gt;33</title>\n<path fill=\"none\" stroke=\"#000000\" d=\"M784.2876,-688.8089C784.6124,-680.6906 784.9659,-671.8517 785.3073,-663.3186\"/>\n<polygon fill=\"#000000\" stroke=\"#000000\" points=\"788.8122,-663.2627 785.7148,-653.1308 781.8178,-662.9828 788.8122,-663.2627\"/>\n</g>\n<!-- 31 -->\n<g id=\"node32\" class=\"node\">\n<title>31</title>\n<path fill=\"#e58139\" stroke=\"#000000\" d=\"M588.5,-547.5C588.5,-547.5 513.5,-547.5 513.5,-547.5 507.5,-547.5 501.5,-541.5 501.5,-535.5 501.5,-535.5 501.5,-506.5 501.5,-506.5 501.5,-500.5 507.5,-494.5 513.5,-494.5 513.5,-494.5 588.5,-494.5 588.5,-494.5 594.5,-494.5 600.5,-500.5 600.5,-506.5 600.5,-506.5 600.5,-535.5 600.5,-535.5 600.5,-541.5 594.5,-547.5 588.5,-547.5\"/>\n<text text-anchor=\"start\" x=\"521.5\" y=\"-532.3\" font-family=\"Helvetica,sans-Serif\" font-size=\"14.00\" fill=\"#000000\">gini = 0.0</text>\n<text text-anchor=\"start\" x=\"511.5\" y=\"-517.3\" font-family=\"Helvetica,sans-Serif\" font-size=\"14.00\" fill=\"#000000\">samples = 6</text>\n<text text-anchor=\"start\" x=\"509.5\" y=\"-502.3\" font-family=\"Helvetica,sans-Serif\" font-size=\"14.00\" fill=\"#000000\">value = [6, 0]</text>\n</g>\n<!-- 30&#45;&gt;31 -->\n<g id=\"edge31\" class=\"edge\">\n<title>30&#45;&gt;31</title>\n<path fill=\"none\" stroke=\"#000000\" d=\"M628.9803,-588.8089C616.3652,-577.8393 602.2374,-565.5543 589.5084,-554.4855\"/>\n<polygon fill=\"#000000\" stroke=\"#000000\" points=\"591.6323,-551.6942 581.7895,-547.7735 587.039,-556.9765 591.6323,-551.6942\"/>\n</g>\n<!-- 32 -->\n<g id=\"node33\" class=\"node\">\n<title>32</title>\n<path fill=\"#399de5\" stroke=\"#000000\" d=\"M705.5,-547.5C705.5,-547.5 630.5,-547.5 630.5,-547.5 624.5,-547.5 618.5,-541.5 618.5,-535.5 618.5,-535.5 618.5,-506.5 618.5,-506.5 618.5,-500.5 624.5,-494.5 630.5,-494.5 630.5,-494.5 705.5,-494.5 705.5,-494.5 711.5,-494.5 717.5,-500.5 717.5,-506.5 717.5,-506.5 717.5,-535.5 717.5,-535.5 717.5,-541.5 711.5,-547.5 705.5,-547.5\"/>\n<text text-anchor=\"start\" x=\"638.5\" y=\"-532.3\" font-family=\"Helvetica,sans-Serif\" font-size=\"14.00\" fill=\"#000000\">gini = 0.0</text>\n<text text-anchor=\"start\" x=\"628.5\" y=\"-517.3\" font-family=\"Helvetica,sans-Serif\" font-size=\"14.00\" fill=\"#000000\">samples = 2</text>\n<text text-anchor=\"start\" x=\"626.5\" y=\"-502.3\" font-family=\"Helvetica,sans-Serif\" font-size=\"14.00\" fill=\"#000000\">value = [0, 2]</text>\n</g>\n<!-- 30&#45;&gt;32 -->\n<g id=\"edge32\" class=\"edge\">\n<title>30&#45;&gt;32</title>\n<path fill=\"none\" stroke=\"#000000\" d=\"M666.6438,-588.8089C666.8404,-578.9777 667.0582,-568.0898 667.2606,-557.9679\"/>\n<polygon fill=\"#000000\" stroke=\"#000000\" points=\"670.7638,-557.8415 667.4645,-547.7735 663.7652,-557.7015 670.7638,-557.8415\"/>\n</g>\n<!-- 34 -->\n<g id=\"node35\" class=\"node\">\n<title>34</title>\n<path fill=\"#f6d5bd\" stroke=\"#000000\" d=\"M822.5,-553C822.5,-553 747.5,-553 747.5,-553 741.5,-553 735.5,-547 735.5,-541 735.5,-541 735.5,-501 735.5,-501 735.5,-495 741.5,-489 747.5,-489 747.5,-489 822.5,-489 822.5,-489 828.5,-489 834.5,-495 834.5,-501 834.5,-501 834.5,-541 834.5,-541 834.5,-547 828.5,-553 822.5,-553\"/>\n<text text-anchor=\"start\" x=\"750.5\" y=\"-538.8\" font-family=\"Helvetica,sans-Serif\" font-size=\"14.00\" fill=\"#000000\">X</text>\n<text text-anchor=\"start\" x=\"760.5\" y=\"-538.8\" font-family=\"Helvetica,sans-Serif\" baseline-shift=\"sub\" font-size=\"14.00\" fill=\"#000000\">4</text>\n<text text-anchor=\"start\" x=\"767.5\" y=\"-538.8\" font-family=\"Helvetica,sans-Serif\" font-size=\"14.00\" fill=\"#000000\"> ≤ 0.003</text>\n<text text-anchor=\"start\" x=\"751.5\" y=\"-524.8\" font-family=\"Helvetica,sans-Serif\" font-size=\"14.00\" fill=\"#000000\">gini = 0.48</text>\n<text text-anchor=\"start\" x=\"745.5\" y=\"-510.8\" font-family=\"Helvetica,sans-Serif\" font-size=\"14.00\" fill=\"#000000\">samples = 5</text>\n<text text-anchor=\"start\" x=\"743.5\" y=\"-496.8\" font-family=\"Helvetica,sans-Serif\" font-size=\"14.00\" fill=\"#000000\">value = [3, 2]</text>\n</g>\n<!-- 33&#45;&gt;34 -->\n<g id=\"edge34\" class=\"edge\">\n<title>33&#45;&gt;34</title>\n<path fill=\"none\" stroke=\"#000000\" d=\"M786.3562,-588.8089C786.1938,-580.6906 786.017,-571.8517 785.8464,-563.3186\"/>\n<polygon fill=\"#000000\" stroke=\"#000000\" points=\"789.342,-563.0587 785.6426,-553.1308 782.3434,-563.1988 789.342,-563.0587\"/>\n</g>\n<!-- 37 -->\n<g id=\"node38\" class=\"node\">\n<title>37</title>\n<path fill=\"#45a3e7\" stroke=\"#000000\" d=\"M947.5,-553C947.5,-553 864.5,-553 864.5,-553 858.5,-553 852.5,-547 852.5,-541 852.5,-541 852.5,-501 852.5,-501 852.5,-495 858.5,-489 864.5,-489 864.5,-489 947.5,-489 947.5,-489 953.5,-489 959.5,-495 959.5,-501 959.5,-501 959.5,-541 959.5,-541 959.5,-547 953.5,-553 947.5,-553\"/>\n<text text-anchor=\"start\" x=\"869\" y=\"-538.8\" font-family=\"Helvetica,sans-Serif\" font-size=\"14.00\" fill=\"#000000\">X</text>\n<text text-anchor=\"start\" x=\"879\" y=\"-538.8\" font-family=\"Helvetica,sans-Serif\" baseline-shift=\"sub\" font-size=\"14.00\" fill=\"#000000\">5</text>\n<text text-anchor=\"start\" x=\"886\" y=\"-538.8\" font-family=\"Helvetica,sans-Serif\" font-size=\"14.00\" fill=\"#000000\"> ≤ &#45;0.151</text>\n<text text-anchor=\"start\" x=\"868\" y=\"-524.8\" font-family=\"Helvetica,sans-Serif\" font-size=\"14.00\" fill=\"#000000\">gini = 0.105</text>\n<text text-anchor=\"start\" x=\"862\" y=\"-510.8\" font-family=\"Helvetica,sans-Serif\" font-size=\"14.00\" fill=\"#000000\">samples = 18</text>\n<text text-anchor=\"start\" x=\"860.5\" y=\"-496.8\" font-family=\"Helvetica,sans-Serif\" font-size=\"14.00\" fill=\"#000000\">value = [1, 17]</text>\n</g>\n<!-- 33&#45;&gt;37 -->\n<g id=\"edge37\" class=\"edge\">\n<title>33&#45;&gt;37</title>\n<path fill=\"none\" stroke=\"#000000\" d=\"M825.3074,-588.8089C836.3483,-579.5308 848.5092,-569.3116 859.9669,-559.6833\"/>\n<polygon fill=\"#000000\" stroke=\"#000000\" points=\"862.3603,-562.2438 867.7644,-553.1308 857.8569,-556.8847 862.3603,-562.2438\"/>\n</g>\n<!-- 35 -->\n<g id=\"node36\" class=\"node\">\n<title>35</title>\n<path fill=\"#e58139\" stroke=\"#000000\" d=\"M705.5,-447.5C705.5,-447.5 630.5,-447.5 630.5,-447.5 624.5,-447.5 618.5,-441.5 618.5,-435.5 618.5,-435.5 618.5,-406.5 618.5,-406.5 618.5,-400.5 624.5,-394.5 630.5,-394.5 630.5,-394.5 705.5,-394.5 705.5,-394.5 711.5,-394.5 717.5,-400.5 717.5,-406.5 717.5,-406.5 717.5,-435.5 717.5,-435.5 717.5,-441.5 711.5,-447.5 705.5,-447.5\"/>\n<text text-anchor=\"start\" x=\"638.5\" y=\"-432.3\" font-family=\"Helvetica,sans-Serif\" font-size=\"14.00\" fill=\"#000000\">gini = 0.0</text>\n<text text-anchor=\"start\" x=\"628.5\" y=\"-417.3\" font-family=\"Helvetica,sans-Serif\" font-size=\"14.00\" fill=\"#000000\">samples = 3</text>\n<text text-anchor=\"start\" x=\"626.5\" y=\"-402.3\" font-family=\"Helvetica,sans-Serif\" font-size=\"14.00\" fill=\"#000000\">value = [3, 0]</text>\n</g>\n<!-- 34&#45;&gt;35 -->\n<g id=\"edge35\" class=\"edge\">\n<title>34&#45;&gt;35</title>\n<path fill=\"none\" stroke=\"#000000\" d=\"M747.3364,-488.8089C734.502,-477.8393 720.1285,-465.5543 707.1781,-454.4855\"/>\n<polygon fill=\"#000000\" stroke=\"#000000\" points=\"709.2008,-451.6101 699.325,-447.7735 704.6527,-456.9314 709.2008,-451.6101\"/>\n</g>\n<!-- 36 -->\n<g id=\"node37\" class=\"node\">\n<title>36</title>\n<path fill=\"#399de5\" stroke=\"#000000\" d=\"M822.5,-447.5C822.5,-447.5 747.5,-447.5 747.5,-447.5 741.5,-447.5 735.5,-441.5 735.5,-435.5 735.5,-435.5 735.5,-406.5 735.5,-406.5 735.5,-400.5 741.5,-394.5 747.5,-394.5 747.5,-394.5 822.5,-394.5 822.5,-394.5 828.5,-394.5 834.5,-400.5 834.5,-406.5 834.5,-406.5 834.5,-435.5 834.5,-435.5 834.5,-441.5 828.5,-447.5 822.5,-447.5\"/>\n<text text-anchor=\"start\" x=\"755.5\" y=\"-432.3\" font-family=\"Helvetica,sans-Serif\" font-size=\"14.00\" fill=\"#000000\">gini = 0.0</text>\n<text text-anchor=\"start\" x=\"745.5\" y=\"-417.3\" font-family=\"Helvetica,sans-Serif\" font-size=\"14.00\" fill=\"#000000\">samples = 2</text>\n<text text-anchor=\"start\" x=\"743.5\" y=\"-402.3\" font-family=\"Helvetica,sans-Serif\" font-size=\"14.00\" fill=\"#000000\">value = [0, 2]</text>\n</g>\n<!-- 34&#45;&gt;36 -->\n<g id=\"edge36\" class=\"edge\">\n<title>34&#45;&gt;36</title>\n<path fill=\"none\" stroke=\"#000000\" d=\"M785,-488.8089C785,-478.9777 785,-468.0898 785,-457.9679\"/>\n<polygon fill=\"#000000\" stroke=\"#000000\" points=\"788.5001,-457.7735 785,-447.7735 781.5001,-457.7736 788.5001,-457.7735\"/>\n</g>\n<!-- 38 -->\n<g id=\"node39\" class=\"node\">\n<title>38</title>\n<path fill=\"#7bbeee\" stroke=\"#000000\" d=\"M939.5,-453C939.5,-453 864.5,-453 864.5,-453 858.5,-453 852.5,-447 852.5,-441 852.5,-441 852.5,-401 852.5,-401 852.5,-395 858.5,-389 864.5,-389 864.5,-389 939.5,-389 939.5,-389 945.5,-389 951.5,-395 951.5,-401 951.5,-401 951.5,-441 951.5,-441 951.5,-447 945.5,-453 939.5,-453\"/>\n<text text-anchor=\"start\" x=\"865\" y=\"-438.8\" font-family=\"Helvetica,sans-Serif\" font-size=\"14.00\" fill=\"#000000\">X</text>\n<text text-anchor=\"start\" x=\"875\" y=\"-438.8\" font-family=\"Helvetica,sans-Serif\" baseline-shift=\"sub\" font-size=\"14.00\" fill=\"#000000\">5</text>\n<text text-anchor=\"start\" x=\"882\" y=\"-438.8\" font-family=\"Helvetica,sans-Serif\" font-size=\"14.00\" fill=\"#000000\"> ≤ &#45;0.254</text>\n<text text-anchor=\"start\" x=\"864\" y=\"-424.8\" font-family=\"Helvetica,sans-Serif\" font-size=\"14.00\" fill=\"#000000\">gini = 0.375</text>\n<text text-anchor=\"start\" x=\"862.5\" y=\"-410.8\" font-family=\"Helvetica,sans-Serif\" font-size=\"14.00\" fill=\"#000000\">samples = 4</text>\n<text text-anchor=\"start\" x=\"860.5\" y=\"-396.8\" font-family=\"Helvetica,sans-Serif\" font-size=\"14.00\" fill=\"#000000\">value = [1, 3]</text>\n</g>\n<!-- 37&#45;&gt;38 -->\n<g id=\"edge38\" class=\"edge\">\n<title>37&#45;&gt;38</title>\n<path fill=\"none\" stroke=\"#000000\" d=\"M904.7124,-488.8089C904.3876,-480.6906 904.0341,-471.8517 903.6927,-463.3186\"/>\n<polygon fill=\"#000000\" stroke=\"#000000\" points=\"907.1822,-462.9828 903.2852,-453.1308 900.1878,-463.2627 907.1822,-462.9828\"/>\n</g>\n<!-- 41 -->\n<g id=\"node42\" class=\"node\">\n<title>41</title>\n<path fill=\"#399de5\" stroke=\"#000000\" d=\"M1064.5,-447.5C1064.5,-447.5 981.5,-447.5 981.5,-447.5 975.5,-447.5 969.5,-441.5 969.5,-435.5 969.5,-435.5 969.5,-406.5 969.5,-406.5 969.5,-400.5 975.5,-394.5 981.5,-394.5 981.5,-394.5 1064.5,-394.5 1064.5,-394.5 1070.5,-394.5 1076.5,-400.5 1076.5,-406.5 1076.5,-406.5 1076.5,-435.5 1076.5,-435.5 1076.5,-441.5 1070.5,-447.5 1064.5,-447.5\"/>\n<text text-anchor=\"start\" x=\"993.5\" y=\"-432.3\" font-family=\"Helvetica,sans-Serif\" font-size=\"14.00\" fill=\"#000000\">gini = 0.0</text>\n<text text-anchor=\"start\" x=\"979\" y=\"-417.3\" font-family=\"Helvetica,sans-Serif\" font-size=\"14.00\" fill=\"#000000\">samples = 14</text>\n<text text-anchor=\"start\" x=\"977.5\" y=\"-402.3\" font-family=\"Helvetica,sans-Serif\" font-size=\"14.00\" fill=\"#000000\">value = [0, 14]</text>\n</g>\n<!-- 37&#45;&gt;41 -->\n<g id=\"edge41\" class=\"edge\">\n<title>37&#45;&gt;41</title>\n<path fill=\"none\" stroke=\"#000000\" d=\"M943.6636,-488.8089C956.498,-477.8393 970.8715,-465.5543 983.8219,-454.4855\"/>\n<polygon fill=\"#000000\" stroke=\"#000000\" points=\"986.3473,-456.9314 991.675,-447.7735 981.7992,-451.6101 986.3473,-456.9314\"/>\n</g>\n<!-- 39 -->\n<g id=\"node40\" class=\"node\">\n<title>39</title>\n<path fill=\"#399de5\" stroke=\"#000000\" d=\"M824.5,-347.5C824.5,-347.5 749.5,-347.5 749.5,-347.5 743.5,-347.5 737.5,-341.5 737.5,-335.5 737.5,-335.5 737.5,-306.5 737.5,-306.5 737.5,-300.5 743.5,-294.5 749.5,-294.5 749.5,-294.5 824.5,-294.5 824.5,-294.5 830.5,-294.5 836.5,-300.5 836.5,-306.5 836.5,-306.5 836.5,-335.5 836.5,-335.5 836.5,-341.5 830.5,-347.5 824.5,-347.5\"/>\n<text text-anchor=\"start\" x=\"757.5\" y=\"-332.3\" font-family=\"Helvetica,sans-Serif\" font-size=\"14.00\" fill=\"#000000\">gini = 0.0</text>\n<text text-anchor=\"start\" x=\"747.5\" y=\"-317.3\" font-family=\"Helvetica,sans-Serif\" font-size=\"14.00\" fill=\"#000000\">samples = 3</text>\n<text text-anchor=\"start\" x=\"745.5\" y=\"-302.3\" font-family=\"Helvetica,sans-Serif\" font-size=\"14.00\" fill=\"#000000\">value = [0, 3]</text>\n</g>\n<!-- 38&#45;&gt;39 -->\n<g id=\"edge39\" class=\"edge\">\n<title>38&#45;&gt;39</title>\n<path fill=\"none\" stroke=\"#000000\" d=\"M864.9803,-388.8089C852.3652,-377.8393 838.2374,-365.5543 825.5084,-354.4855\"/>\n<polygon fill=\"#000000\" stroke=\"#000000\" points=\"827.6323,-351.6942 817.7895,-347.7735 823.039,-356.9765 827.6323,-351.6942\"/>\n</g>\n<!-- 40 -->\n<g id=\"node41\" class=\"node\">\n<title>40</title>\n<path fill=\"#e58139\" stroke=\"#000000\" d=\"M941.5,-347.5C941.5,-347.5 866.5,-347.5 866.5,-347.5 860.5,-347.5 854.5,-341.5 854.5,-335.5 854.5,-335.5 854.5,-306.5 854.5,-306.5 854.5,-300.5 860.5,-294.5 866.5,-294.5 866.5,-294.5 941.5,-294.5 941.5,-294.5 947.5,-294.5 953.5,-300.5 953.5,-306.5 953.5,-306.5 953.5,-335.5 953.5,-335.5 953.5,-341.5 947.5,-347.5 941.5,-347.5\"/>\n<text text-anchor=\"start\" x=\"874.5\" y=\"-332.3\" font-family=\"Helvetica,sans-Serif\" font-size=\"14.00\" fill=\"#000000\">gini = 0.0</text>\n<text text-anchor=\"start\" x=\"864.5\" y=\"-317.3\" font-family=\"Helvetica,sans-Serif\" font-size=\"14.00\" fill=\"#000000\">samples = 1</text>\n<text text-anchor=\"start\" x=\"862.5\" y=\"-302.3\" font-family=\"Helvetica,sans-Serif\" font-size=\"14.00\" fill=\"#000000\">value = [1, 0]</text>\n</g>\n<!-- 38&#45;&gt;40 -->\n<g id=\"edge40\" class=\"edge\">\n<title>38&#45;&gt;40</title>\n<path fill=\"none\" stroke=\"#000000\" d=\"M902.6438,-388.8089C902.8404,-378.9777 903.0582,-368.0898 903.2606,-357.9679\"/>\n<polygon fill=\"#000000\" stroke=\"#000000\" points=\"906.7638,-357.8415 903.4645,-347.7735 899.7652,-357.7015 906.7638,-357.8415\"/>\n</g>\n<!-- 43 -->\n<g id=\"node44\" class=\"node\">\n<title>43</title>\n<path fill=\"#e58139\" stroke=\"#000000\" d=\"M1008.5,-647.5C1008.5,-647.5 933.5,-647.5 933.5,-647.5 927.5,-647.5 921.5,-641.5 921.5,-635.5 921.5,-635.5 921.5,-606.5 921.5,-606.5 921.5,-600.5 927.5,-594.5 933.5,-594.5 933.5,-594.5 1008.5,-594.5 1008.5,-594.5 1014.5,-594.5 1020.5,-600.5 1020.5,-606.5 1020.5,-606.5 1020.5,-635.5 1020.5,-635.5 1020.5,-641.5 1014.5,-647.5 1008.5,-647.5\"/>\n<text text-anchor=\"start\" x=\"941.5\" y=\"-632.3\" font-family=\"Helvetica,sans-Serif\" font-size=\"14.00\" fill=\"#000000\">gini = 0.0</text>\n<text text-anchor=\"start\" x=\"931.5\" y=\"-617.3\" font-family=\"Helvetica,sans-Serif\" font-size=\"14.00\" fill=\"#000000\">samples = 1</text>\n<text text-anchor=\"start\" x=\"929.5\" y=\"-602.3\" font-family=\"Helvetica,sans-Serif\" font-size=\"14.00\" fill=\"#000000\">value = [1, 0]</text>\n</g>\n<!-- 42&#45;&gt;43 -->\n<g id=\"edge43\" class=\"edge\">\n<title>42&#45;&gt;43</title>\n<path fill=\"none\" stroke=\"#000000\" d=\"M971,-688.8089C971,-678.9777 971,-668.0898 971,-657.9679\"/>\n<polygon fill=\"#000000\" stroke=\"#000000\" points=\"974.5001,-657.7735 971,-647.7735 967.5001,-657.7736 974.5001,-657.7735\"/>\n</g>\n<!-- 44 -->\n<g id=\"node45\" class=\"node\">\n<title>44</title>\n<path fill=\"#45a3e7\" stroke=\"#000000\" d=\"M1189.5,-653C1189.5,-653 1106.5,-653 1106.5,-653 1100.5,-653 1094.5,-647 1094.5,-641 1094.5,-641 1094.5,-601 1094.5,-601 1094.5,-595 1100.5,-589 1106.5,-589 1106.5,-589 1189.5,-589 1189.5,-589 1195.5,-589 1201.5,-595 1201.5,-601 1201.5,-601 1201.5,-641 1201.5,-641 1201.5,-647 1195.5,-653 1189.5,-653\"/>\n<text text-anchor=\"start\" x=\"1113.5\" y=\"-638.8\" font-family=\"Helvetica,sans-Serif\" font-size=\"14.00\" fill=\"#000000\">X</text>\n<text text-anchor=\"start\" x=\"1123.5\" y=\"-638.8\" font-family=\"Helvetica,sans-Serif\" baseline-shift=\"sub\" font-size=\"14.00\" fill=\"#000000\">3</text>\n<text text-anchor=\"start\" x=\"1130.5\" y=\"-638.8\" font-family=\"Helvetica,sans-Serif\" font-size=\"14.00\" fill=\"#000000\"> ≤ 2.216</text>\n<text text-anchor=\"start\" x=\"1110\" y=\"-624.8\" font-family=\"Helvetica,sans-Serif\" font-size=\"14.00\" fill=\"#000000\">gini = 0.105</text>\n<text text-anchor=\"start\" x=\"1104\" y=\"-610.8\" font-family=\"Helvetica,sans-Serif\" font-size=\"14.00\" fill=\"#000000\">samples = 90</text>\n<text text-anchor=\"start\" x=\"1102.5\" y=\"-596.8\" font-family=\"Helvetica,sans-Serif\" font-size=\"14.00\" fill=\"#000000\">value = [5, 85]</text>\n</g>\n<!-- 42&#45;&gt;44 -->\n<g id=\"edge44\" class=\"edge\">\n<title>42&#45;&gt;44</title>\n<path fill=\"none\" stroke=\"#000000\" d=\"M1024.5862,-690.7253C1043.7333,-679.9077 1065.4772,-667.6231 1085.3224,-656.4111\"/>\n<polygon fill=\"#000000\" stroke=\"#000000\" points=\"1087.3058,-659.3105 1094.2908,-651.3442 1083.8625,-653.2159 1087.3058,-659.3105\"/>\n</g>\n<!-- 45 -->\n<g id=\"node46\" class=\"node\">\n<title>45</title>\n<path fill=\"#42a2e6\" stroke=\"#000000\" d=\"M1189.5,-553C1189.5,-553 1106.5,-553 1106.5,-553 1100.5,-553 1094.5,-547 1094.5,-541 1094.5,-541 1094.5,-501 1094.5,-501 1094.5,-495 1100.5,-489 1106.5,-489 1106.5,-489 1189.5,-489 1189.5,-489 1195.5,-489 1201.5,-495 1201.5,-501 1201.5,-501 1201.5,-541 1201.5,-541 1201.5,-547 1195.5,-553 1189.5,-553\"/>\n<text text-anchor=\"start\" x=\"1113.5\" y=\"-538.8\" font-family=\"Helvetica,sans-Serif\" font-size=\"14.00\" fill=\"#000000\">X</text>\n<text text-anchor=\"start\" x=\"1123.5\" y=\"-538.8\" font-family=\"Helvetica,sans-Serif\" baseline-shift=\"sub\" font-size=\"14.00\" fill=\"#000000\">6</text>\n<text text-anchor=\"start\" x=\"1130.5\" y=\"-538.8\" font-family=\"Helvetica,sans-Serif\" font-size=\"14.00\" fill=\"#000000\"> ≤ 0.932</text>\n<text text-anchor=\"start\" x=\"1110\" y=\"-524.8\" font-family=\"Helvetica,sans-Serif\" font-size=\"14.00\" fill=\"#000000\">gini = 0.086</text>\n<text text-anchor=\"start\" x=\"1104\" y=\"-510.8\" font-family=\"Helvetica,sans-Serif\" font-size=\"14.00\" fill=\"#000000\">samples = 89</text>\n<text text-anchor=\"start\" x=\"1102.5\" y=\"-496.8\" font-family=\"Helvetica,sans-Serif\" font-size=\"14.00\" fill=\"#000000\">value = [4, 85]</text>\n</g>\n<!-- 44&#45;&gt;45 -->\n<g id=\"edge45\" class=\"edge\">\n<title>44&#45;&gt;45</title>\n<path fill=\"none\" stroke=\"#000000\" d=\"M1148,-588.8089C1148,-580.6906 1148,-571.8517 1148,-563.3186\"/>\n<polygon fill=\"#000000\" stroke=\"#000000\" points=\"1151.5001,-563.1307 1148,-553.1308 1144.5001,-563.1308 1151.5001,-563.1307\"/>\n</g>\n<!-- 60 -->\n<g id=\"node61\" class=\"node\">\n<title>60</title>\n<path fill=\"#e58139\" stroke=\"#000000\" d=\"M1306.5,-547.5C1306.5,-547.5 1231.5,-547.5 1231.5,-547.5 1225.5,-547.5 1219.5,-541.5 1219.5,-535.5 1219.5,-535.5 1219.5,-506.5 1219.5,-506.5 1219.5,-500.5 1225.5,-494.5 1231.5,-494.5 1231.5,-494.5 1306.5,-494.5 1306.5,-494.5 1312.5,-494.5 1318.5,-500.5 1318.5,-506.5 1318.5,-506.5 1318.5,-535.5 1318.5,-535.5 1318.5,-541.5 1312.5,-547.5 1306.5,-547.5\"/>\n<text text-anchor=\"start\" x=\"1239.5\" y=\"-532.3\" font-family=\"Helvetica,sans-Serif\" font-size=\"14.00\" fill=\"#000000\">gini = 0.0</text>\n<text text-anchor=\"start\" x=\"1229.5\" y=\"-517.3\" font-family=\"Helvetica,sans-Serif\" font-size=\"14.00\" fill=\"#000000\">samples = 1</text>\n<text text-anchor=\"start\" x=\"1227.5\" y=\"-502.3\" font-family=\"Helvetica,sans-Serif\" font-size=\"14.00\" fill=\"#000000\">value = [1, 0]</text>\n</g>\n<!-- 44&#45;&gt;60 -->\n<g id=\"edge60\" class=\"edge\">\n<title>44&#45;&gt;60</title>\n<path fill=\"none\" stroke=\"#000000\" d=\"M1186.9512,-588.8089C1200.3496,-577.7359 1215.37,-565.3223 1228.8612,-554.1726\"/>\n<polygon fill=\"#000000\" stroke=\"#000000\" points=\"1231.1254,-556.8419 1236.604,-547.7735 1226.6661,-551.4461 1231.1254,-556.8419\"/>\n</g>\n<!-- 46 -->\n<g id=\"node47\" class=\"node\">\n<title>46</title>\n<path fill=\"#3ea0e6\" stroke=\"#000000\" d=\"M1189.5,-453C1189.5,-453 1106.5,-453 1106.5,-453 1100.5,-453 1094.5,-447 1094.5,-441 1094.5,-441 1094.5,-401 1094.5,-401 1094.5,-395 1100.5,-389 1106.5,-389 1106.5,-389 1189.5,-389 1189.5,-389 1195.5,-389 1201.5,-395 1201.5,-401 1201.5,-401 1201.5,-441 1201.5,-441 1201.5,-447 1195.5,-453 1189.5,-453\"/>\n<text text-anchor=\"start\" x=\"1111\" y=\"-438.8\" font-family=\"Helvetica,sans-Serif\" font-size=\"14.00\" fill=\"#000000\">X</text>\n<text text-anchor=\"start\" x=\"1121\" y=\"-438.8\" font-family=\"Helvetica,sans-Serif\" baseline-shift=\"sub\" font-size=\"14.00\" fill=\"#000000\">3</text>\n<text text-anchor=\"start\" x=\"1128\" y=\"-438.8\" font-family=\"Helvetica,sans-Serif\" font-size=\"14.00\" fill=\"#000000\"> ≤ &#45;0.001</text>\n<text text-anchor=\"start\" x=\"1110\" y=\"-424.8\" font-family=\"Helvetica,sans-Serif\" font-size=\"14.00\" fill=\"#000000\">gini = 0.049</text>\n<text text-anchor=\"start\" x=\"1104\" y=\"-410.8\" font-family=\"Helvetica,sans-Serif\" font-size=\"14.00\" fill=\"#000000\">samples = 79</text>\n<text text-anchor=\"start\" x=\"1102.5\" y=\"-396.8\" font-family=\"Helvetica,sans-Serif\" font-size=\"14.00\" fill=\"#000000\">value = [2, 77]</text>\n</g>\n<!-- 45&#45;&gt;46 -->\n<g id=\"edge46\" class=\"edge\">\n<title>45&#45;&gt;46</title>\n<path fill=\"none\" stroke=\"#000000\" d=\"M1148,-488.8089C1148,-480.6906 1148,-471.8517 1148,-463.3186\"/>\n<polygon fill=\"#000000\" stroke=\"#000000\" points=\"1151.5001,-463.1307 1148,-453.1308 1144.5001,-463.1308 1151.5001,-463.1307\"/>\n</g>\n<!-- 57 -->\n<g id=\"node58\" class=\"node\">\n<title>57</title>\n<path fill=\"#6ab6ec\" stroke=\"#000000\" d=\"M1312,-453C1312,-453 1232,-453 1232,-453 1226,-453 1220,-447 1220,-441 1220,-441 1220,-401 1220,-401 1220,-395 1226,-389 1232,-389 1232,-389 1312,-389 1312,-389 1318,-389 1324,-395 1324,-401 1324,-401 1324,-441 1324,-441 1324,-447 1318,-453 1312,-453\"/>\n<text text-anchor=\"start\" x=\"1237.5\" y=\"-438.8\" font-family=\"Helvetica,sans-Serif\" font-size=\"14.00\" fill=\"#000000\">X</text>\n<text text-anchor=\"start\" x=\"1247.5\" y=\"-438.8\" font-family=\"Helvetica,sans-Serif\" baseline-shift=\"sub\" font-size=\"14.00\" fill=\"#000000\">4</text>\n<text text-anchor=\"start\" x=\"1254.5\" y=\"-438.8\" font-family=\"Helvetica,sans-Serif\" font-size=\"14.00\" fill=\"#000000\"> ≤ 0.285</text>\n<text text-anchor=\"start\" x=\"1238.5\" y=\"-424.8\" font-family=\"Helvetica,sans-Serif\" font-size=\"14.00\" fill=\"#000000\">gini = 0.32</text>\n<text text-anchor=\"start\" x=\"1228\" y=\"-410.8\" font-family=\"Helvetica,sans-Serif\" font-size=\"14.00\" fill=\"#000000\">samples = 10</text>\n<text text-anchor=\"start\" x=\"1230.5\" y=\"-396.8\" font-family=\"Helvetica,sans-Serif\" font-size=\"14.00\" fill=\"#000000\">value = [2, 8]</text>\n</g>\n<!-- 45&#45;&gt;57 -->\n<g id=\"edge57\" class=\"edge\">\n<title>45&#45;&gt;57</title>\n<path fill=\"none\" stroke=\"#000000\" d=\"M1187.9169,-488.8089C1199.4218,-479.5308 1212.0936,-469.3116 1224.0327,-459.6833\"/>\n<polygon fill=\"#000000\" stroke=\"#000000\" points=\"1226.5709,-462.1328 1232.1579,-453.1308 1222.1766,-456.6839 1226.5709,-462.1328\"/>\n</g>\n<!-- 47 -->\n<g id=\"node48\" class=\"node\">\n<title>47</title>\n<path fill=\"#3c9ee5\" stroke=\"#000000\" d=\"M1071.5,-353C1071.5,-353 988.5,-353 988.5,-353 982.5,-353 976.5,-347 976.5,-341 976.5,-341 976.5,-301 976.5,-301 976.5,-295 982.5,-289 988.5,-289 988.5,-289 1071.5,-289 1071.5,-289 1077.5,-289 1083.5,-295 1083.5,-301 1083.5,-301 1083.5,-341 1083.5,-341 1083.5,-347 1077.5,-353 1071.5,-353\"/>\n<text text-anchor=\"start\" x=\"993\" y=\"-338.8\" font-family=\"Helvetica,sans-Serif\" font-size=\"14.00\" fill=\"#000000\">X</text>\n<text text-anchor=\"start\" x=\"1003\" y=\"-338.8\" font-family=\"Helvetica,sans-Serif\" baseline-shift=\"sub\" font-size=\"14.00\" fill=\"#000000\">5</text>\n<text text-anchor=\"start\" x=\"1010\" y=\"-338.8\" font-family=\"Helvetica,sans-Serif\" font-size=\"14.00\" fill=\"#000000\"> ≤ &#45;0.451</text>\n<text text-anchor=\"start\" x=\"992\" y=\"-324.8\" font-family=\"Helvetica,sans-Serif\" font-size=\"14.00\" fill=\"#000000\">gini = 0.027</text>\n<text text-anchor=\"start\" x=\"986\" y=\"-310.8\" font-family=\"Helvetica,sans-Serif\" font-size=\"14.00\" fill=\"#000000\">samples = 72</text>\n<text text-anchor=\"start\" x=\"984.5\" y=\"-296.8\" font-family=\"Helvetica,sans-Serif\" font-size=\"14.00\" fill=\"#000000\">value = [1, 71]</text>\n</g>\n<!-- 46&#45;&gt;47 -->\n<g id=\"edge47\" class=\"edge\">\n<title>46&#45;&gt;47</title>\n<path fill=\"none\" stroke=\"#000000\" d=\"M1110.0145,-388.8089C1099.0664,-379.5308 1087.0077,-369.3116 1075.6463,-359.6833\"/>\n<polygon fill=\"#000000\" stroke=\"#000000\" points=\"1077.8061,-356.9259 1067.9143,-353.1308 1073.2804,-362.2662 1077.8061,-356.9259\"/>\n</g>\n<!-- 54 -->\n<g id=\"node55\" class=\"node\">\n<title>54</title>\n<path fill=\"#5aade9\" stroke=\"#000000\" d=\"M1188.5,-353C1188.5,-353 1113.5,-353 1113.5,-353 1107.5,-353 1101.5,-347 1101.5,-341 1101.5,-341 1101.5,-301 1101.5,-301 1101.5,-295 1107.5,-289 1113.5,-289 1113.5,-289 1188.5,-289 1188.5,-289 1194.5,-289 1200.5,-295 1200.5,-301 1200.5,-301 1200.5,-341 1200.5,-341 1200.5,-347 1194.5,-353 1188.5,-353\"/>\n<text text-anchor=\"start\" x=\"1120.5\" y=\"-338.8\" font-family=\"Helvetica,sans-Serif\" font-size=\"14.00\" fill=\"#000000\">X</text>\n<text text-anchor=\"start\" x=\"1130.5\" y=\"-338.8\" font-family=\"Helvetica,sans-Serif\" baseline-shift=\"sub\" font-size=\"14.00\" fill=\"#000000\">3</text>\n<text text-anchor=\"start\" x=\"1137.5\" y=\"-338.8\" font-family=\"Helvetica,sans-Serif\" font-size=\"14.00\" fill=\"#000000\"> ≤ 0.04</text>\n<text text-anchor=\"start\" x=\"1113\" y=\"-324.8\" font-family=\"Helvetica,sans-Serif\" font-size=\"14.00\" fill=\"#000000\">gini = 0.245</text>\n<text text-anchor=\"start\" x=\"1111.5\" y=\"-310.8\" font-family=\"Helvetica,sans-Serif\" font-size=\"14.00\" fill=\"#000000\">samples = 7</text>\n<text text-anchor=\"start\" x=\"1109.5\" y=\"-296.8\" font-family=\"Helvetica,sans-Serif\" font-size=\"14.00\" fill=\"#000000\">value = [1, 6]</text>\n</g>\n<!-- 46&#45;&gt;54 -->\n<g id=\"edge54\" class=\"edge\">\n<title>46&#45;&gt;54</title>\n<path fill=\"none\" stroke=\"#000000\" d=\"M1148.9657,-388.8089C1149.2093,-380.6906 1149.4744,-371.8517 1149.7304,-363.3186\"/>\n<polygon fill=\"#000000\" stroke=\"#000000\" points=\"1153.2345,-363.2312 1150.0361,-353.1308 1146.2377,-363.0213 1153.2345,-363.2312\"/>\n</g>\n<!-- 48 -->\n<g id=\"node49\" class=\"node\">\n<title>48</title>\n<path fill=\"#55abe9\" stroke=\"#000000\" d=\"M946.5,-253C946.5,-253 871.5,-253 871.5,-253 865.5,-253 859.5,-247 859.5,-241 859.5,-241 859.5,-201 859.5,-201 859.5,-195 865.5,-189 871.5,-189 871.5,-189 946.5,-189 946.5,-189 952.5,-189 958.5,-195 958.5,-201 958.5,-201 958.5,-241 958.5,-241 958.5,-247 952.5,-253 946.5,-253\"/>\n<text text-anchor=\"start\" x=\"872\" y=\"-238.8\" font-family=\"Helvetica,sans-Serif\" font-size=\"14.00\" fill=\"#000000\">X</text>\n<text text-anchor=\"start\" x=\"882\" y=\"-238.8\" font-family=\"Helvetica,sans-Serif\" baseline-shift=\"sub\" font-size=\"14.00\" fill=\"#000000\">5</text>\n<text text-anchor=\"start\" x=\"889\" y=\"-238.8\" font-family=\"Helvetica,sans-Serif\" font-size=\"14.00\" fill=\"#000000\"> ≤ &#45;0.456</text>\n<text text-anchor=\"start\" x=\"871\" y=\"-224.8\" font-family=\"Helvetica,sans-Serif\" font-size=\"14.00\" fill=\"#000000\">gini = 0.219</text>\n<text text-anchor=\"start\" x=\"869.5\" y=\"-210.8\" font-family=\"Helvetica,sans-Serif\" font-size=\"14.00\" fill=\"#000000\">samples = 8</text>\n<text text-anchor=\"start\" x=\"867.5\" y=\"-196.8\" font-family=\"Helvetica,sans-Serif\" font-size=\"14.00\" fill=\"#000000\">value = [1, 7]</text>\n</g>\n<!-- 47&#45;&gt;48 -->\n<g id=\"edge48\" class=\"edge\">\n<title>47&#45;&gt;48</title>\n<path fill=\"none\" stroke=\"#000000\" d=\"M991.0488,-288.8089C979.8223,-279.5308 967.4571,-269.3116 955.8068,-259.6833\"/>\n<polygon fill=\"#000000\" stroke=\"#000000\" points=\"957.8162,-256.8034 947.8782,-253.1308 953.3568,-262.1992 957.8162,-256.8034\"/>\n</g>\n<!-- 53 -->\n<g id=\"node54\" class=\"node\">\n<title>53</title>\n<path fill=\"#399de5\" stroke=\"#000000\" d=\"M1071.5,-247.5C1071.5,-247.5 988.5,-247.5 988.5,-247.5 982.5,-247.5 976.5,-241.5 976.5,-235.5 976.5,-235.5 976.5,-206.5 976.5,-206.5 976.5,-200.5 982.5,-194.5 988.5,-194.5 988.5,-194.5 1071.5,-194.5 1071.5,-194.5 1077.5,-194.5 1083.5,-200.5 1083.5,-206.5 1083.5,-206.5 1083.5,-235.5 1083.5,-235.5 1083.5,-241.5 1077.5,-247.5 1071.5,-247.5\"/>\n<text text-anchor=\"start\" x=\"1000.5\" y=\"-232.3\" font-family=\"Helvetica,sans-Serif\" font-size=\"14.00\" fill=\"#000000\">gini = 0.0</text>\n<text text-anchor=\"start\" x=\"986\" y=\"-217.3\" font-family=\"Helvetica,sans-Serif\" font-size=\"14.00\" fill=\"#000000\">samples = 64</text>\n<text text-anchor=\"start\" x=\"984.5\" y=\"-202.3\" font-family=\"Helvetica,sans-Serif\" font-size=\"14.00\" fill=\"#000000\">value = [0, 64]</text>\n</g>\n<!-- 47&#45;&gt;53 -->\n<g id=\"edge53\" class=\"edge\">\n<title>47&#45;&gt;53</title>\n<path fill=\"none\" stroke=\"#000000\" d=\"M1030,-288.8089C1030,-278.9777 1030,-268.0898 1030,-257.9679\"/>\n<polygon fill=\"#000000\" stroke=\"#000000\" points=\"1033.5001,-257.7735 1030,-247.7735 1026.5001,-257.7736 1033.5001,-257.7735\"/>\n</g>\n<!-- 49 -->\n<g id=\"node50\" class=\"node\">\n<title>49</title>\n<path fill=\"#399de5\" stroke=\"#000000\" d=\"M887.5,-147.5C887.5,-147.5 812.5,-147.5 812.5,-147.5 806.5,-147.5 800.5,-141.5 800.5,-135.5 800.5,-135.5 800.5,-106.5 800.5,-106.5 800.5,-100.5 806.5,-94.5 812.5,-94.5 812.5,-94.5 887.5,-94.5 887.5,-94.5 893.5,-94.5 899.5,-100.5 899.5,-106.5 899.5,-106.5 899.5,-135.5 899.5,-135.5 899.5,-141.5 893.5,-147.5 887.5,-147.5\"/>\n<text text-anchor=\"start\" x=\"820.5\" y=\"-132.3\" font-family=\"Helvetica,sans-Serif\" font-size=\"14.00\" fill=\"#000000\">gini = 0.0</text>\n<text text-anchor=\"start\" x=\"810.5\" y=\"-117.3\" font-family=\"Helvetica,sans-Serif\" font-size=\"14.00\" fill=\"#000000\">samples = 6</text>\n<text text-anchor=\"start\" x=\"808.5\" y=\"-102.3\" font-family=\"Helvetica,sans-Serif\" font-size=\"14.00\" fill=\"#000000\">value = [0, 6]</text>\n</g>\n<!-- 48&#45;&gt;49 -->\n<g id=\"edge49\" class=\"edge\">\n<title>48&#45;&gt;49</title>\n<path fill=\"none\" stroke=\"#000000\" d=\"M890.0073,-188.8089C883.9626,-178.5638 877.2409,-167.1711 871.0592,-156.6936\"/>\n<polygon fill=\"#000000\" stroke=\"#000000\" points=\"873.8924,-154.6077 865.7964,-147.7735 867.8635,-158.1648 873.8924,-154.6077\"/>\n</g>\n<!-- 50 -->\n<g id=\"node51\" class=\"node\">\n<title>50</title>\n<path fill=\"#ffffff\" stroke=\"#000000\" d=\"M1004.5,-153C1004.5,-153 929.5,-153 929.5,-153 923.5,-153 917.5,-147 917.5,-141 917.5,-141 917.5,-101 917.5,-101 917.5,-95 923.5,-89 929.5,-89 929.5,-89 1004.5,-89 1004.5,-89 1010.5,-89 1016.5,-95 1016.5,-101 1016.5,-101 1016.5,-141 1016.5,-141 1016.5,-147 1010.5,-153 1004.5,-153\"/>\n<text text-anchor=\"start\" x=\"934\" y=\"-138.8\" font-family=\"Helvetica,sans-Serif\" font-size=\"14.00\" fill=\"#000000\">X</text>\n<text text-anchor=\"start\" x=\"944\" y=\"-138.8\" font-family=\"Helvetica,sans-Serif\" baseline-shift=\"sub\" font-size=\"14.00\" fill=\"#000000\">3</text>\n<text text-anchor=\"start\" x=\"951\" y=\"-138.8\" font-family=\"Helvetica,sans-Serif\" font-size=\"14.00\" fill=\"#000000\"> ≤ &#45;0.64</text>\n<text text-anchor=\"start\" x=\"937.5\" y=\"-124.8\" font-family=\"Helvetica,sans-Serif\" font-size=\"14.00\" fill=\"#000000\">gini = 0.5</text>\n<text text-anchor=\"start\" x=\"927.5\" y=\"-110.8\" font-family=\"Helvetica,sans-Serif\" font-size=\"14.00\" fill=\"#000000\">samples = 2</text>\n<text text-anchor=\"start\" x=\"925.5\" y=\"-96.8\" font-family=\"Helvetica,sans-Serif\" font-size=\"14.00\" fill=\"#000000\">value = [1, 1]</text>\n</g>\n<!-- 48&#45;&gt;50 -->\n<g id=\"edge50\" class=\"edge\">\n<title>48&#45;&gt;50</title>\n<path fill=\"none\" stroke=\"#000000\" d=\"M927.6708,-188.8089C932.6382,-180.2445 938.0706,-170.8782 943.2693,-161.915\"/>\n<polygon fill=\"#000000\" stroke=\"#000000\" points=\"946.3745,-163.5371 948.3642,-153.1308 940.3193,-160.0251 946.3745,-163.5371\"/>\n</g>\n<!-- 51 -->\n<g id=\"node52\" class=\"node\">\n<title>51</title>\n<path fill=\"#399de5\" stroke=\"#000000\" d=\"M946.5,-53C946.5,-53 871.5,-53 871.5,-53 865.5,-53 859.5,-47 859.5,-41 859.5,-41 859.5,-12 859.5,-12 859.5,-6 865.5,0 871.5,0 871.5,0 946.5,0 946.5,0 952.5,0 958.5,-6 958.5,-12 958.5,-12 958.5,-41 958.5,-41 958.5,-47 952.5,-53 946.5,-53\"/>\n<text text-anchor=\"start\" x=\"879.5\" y=\"-37.8\" font-family=\"Helvetica,sans-Serif\" font-size=\"14.00\" fill=\"#000000\">gini = 0.0</text>\n<text text-anchor=\"start\" x=\"869.5\" y=\"-22.8\" font-family=\"Helvetica,sans-Serif\" font-size=\"14.00\" fill=\"#000000\">samples = 1</text>\n<text text-anchor=\"start\" x=\"867.5\" y=\"-7.8\" font-family=\"Helvetica,sans-Serif\" font-size=\"14.00\" fill=\"#000000\">value = [0, 1]</text>\n</g>\n<!-- 50&#45;&gt;51 -->\n<g id=\"edge51\" class=\"edge\">\n<title>50&#45;&gt;51</title>\n<path fill=\"none\" stroke=\"#000000\" d=\"M947.2019,-88.7428C941.8856,-80.0809 936.109,-70.669 930.6957,-61.849\"/>\n<polygon fill=\"#000000\" stroke=\"#000000\" points=\"933.6478,-59.9678 925.4339,-53.2759 927.6818,-63.6295 933.6478,-59.9678\"/>\n</g>\n<!-- 52 -->\n<g id=\"node53\" class=\"node\">\n<title>52</title>\n<path fill=\"#e58139\" stroke=\"#000000\" d=\"M1063.5,-53C1063.5,-53 988.5,-53 988.5,-53 982.5,-53 976.5,-47 976.5,-41 976.5,-41 976.5,-12 976.5,-12 976.5,-6 982.5,0 988.5,0 988.5,0 1063.5,0 1063.5,0 1069.5,0 1075.5,-6 1075.5,-12 1075.5,-12 1075.5,-41 1075.5,-41 1075.5,-47 1069.5,-53 1063.5,-53\"/>\n<text text-anchor=\"start\" x=\"996.5\" y=\"-37.8\" font-family=\"Helvetica,sans-Serif\" font-size=\"14.00\" fill=\"#000000\">gini = 0.0</text>\n<text text-anchor=\"start\" x=\"986.5\" y=\"-22.8\" font-family=\"Helvetica,sans-Serif\" font-size=\"14.00\" fill=\"#000000\">samples = 1</text>\n<text text-anchor=\"start\" x=\"984.5\" y=\"-7.8\" font-family=\"Helvetica,sans-Serif\" font-size=\"14.00\" fill=\"#000000\">value = [1, 0]</text>\n</g>\n<!-- 50&#45;&gt;52 -->\n<g id=\"edge52\" class=\"edge\">\n<title>50&#45;&gt;52</title>\n<path fill=\"none\" stroke=\"#000000\" d=\"M987.1394,-88.7428C992.5474,-80.0809 998.4236,-70.669 1003.9303,-61.849\"/>\n<polygon fill=\"#000000\" stroke=\"#000000\" points=\"1006.9557,-63.612 1009.2828,-53.2759 1001.0179,-59.9048 1006.9557,-63.612\"/>\n</g>\n<!-- 55 -->\n<g id=\"node56\" class=\"node\">\n<title>55</title>\n<path fill=\"#e58139\" stroke=\"#000000\" d=\"M1188.5,-247.5C1188.5,-247.5 1113.5,-247.5 1113.5,-247.5 1107.5,-247.5 1101.5,-241.5 1101.5,-235.5 1101.5,-235.5 1101.5,-206.5 1101.5,-206.5 1101.5,-200.5 1107.5,-194.5 1113.5,-194.5 1113.5,-194.5 1188.5,-194.5 1188.5,-194.5 1194.5,-194.5 1200.5,-200.5 1200.5,-206.5 1200.5,-206.5 1200.5,-235.5 1200.5,-235.5 1200.5,-241.5 1194.5,-247.5 1188.5,-247.5\"/>\n<text text-anchor=\"start\" x=\"1121.5\" y=\"-232.3\" font-family=\"Helvetica,sans-Serif\" font-size=\"14.00\" fill=\"#000000\">gini = 0.0</text>\n<text text-anchor=\"start\" x=\"1111.5\" y=\"-217.3\" font-family=\"Helvetica,sans-Serif\" font-size=\"14.00\" fill=\"#000000\">samples = 1</text>\n<text text-anchor=\"start\" x=\"1109.5\" y=\"-202.3\" font-family=\"Helvetica,sans-Serif\" font-size=\"14.00\" fill=\"#000000\">value = [1, 0]</text>\n</g>\n<!-- 54&#45;&gt;55 -->\n<g id=\"edge55\" class=\"edge\">\n<title>54&#45;&gt;55</title>\n<path fill=\"none\" stroke=\"#000000\" d=\"M1151,-288.8089C1151,-278.9777 1151,-268.0898 1151,-257.9679\"/>\n<polygon fill=\"#000000\" stroke=\"#000000\" points=\"1154.5001,-257.7735 1151,-247.7735 1147.5001,-257.7736 1154.5001,-257.7735\"/>\n</g>\n<!-- 56 -->\n<g id=\"node57\" class=\"node\">\n<title>56</title>\n<path fill=\"#399de5\" stroke=\"#000000\" d=\"M1305.5,-247.5C1305.5,-247.5 1230.5,-247.5 1230.5,-247.5 1224.5,-247.5 1218.5,-241.5 1218.5,-235.5 1218.5,-235.5 1218.5,-206.5 1218.5,-206.5 1218.5,-200.5 1224.5,-194.5 1230.5,-194.5 1230.5,-194.5 1305.5,-194.5 1305.5,-194.5 1311.5,-194.5 1317.5,-200.5 1317.5,-206.5 1317.5,-206.5 1317.5,-235.5 1317.5,-235.5 1317.5,-241.5 1311.5,-247.5 1305.5,-247.5\"/>\n<text text-anchor=\"start\" x=\"1238.5\" y=\"-232.3\" font-family=\"Helvetica,sans-Serif\" font-size=\"14.00\" fill=\"#000000\">gini = 0.0</text>\n<text text-anchor=\"start\" x=\"1228.5\" y=\"-217.3\" font-family=\"Helvetica,sans-Serif\" font-size=\"14.00\" fill=\"#000000\">samples = 6</text>\n<text text-anchor=\"start\" x=\"1226.5\" y=\"-202.3\" font-family=\"Helvetica,sans-Serif\" font-size=\"14.00\" fill=\"#000000\">value = [0, 6]</text>\n</g>\n<!-- 54&#45;&gt;56 -->\n<g id=\"edge56\" class=\"edge\">\n<title>54&#45;&gt;56</title>\n<path fill=\"none\" stroke=\"#000000\" d=\"M1188.6636,-288.8089C1201.498,-277.8393 1215.8715,-265.5543 1228.8219,-254.4855\"/>\n<polygon fill=\"#000000\" stroke=\"#000000\" points=\"1231.3473,-256.9314 1236.675,-247.7735 1226.7992,-251.6101 1231.3473,-256.9314\"/>\n</g>\n<!-- 58 -->\n<g id=\"node59\" class=\"node\">\n<title>58</title>\n<path fill=\"#e58139\" stroke=\"#000000\" d=\"M1308.5,-347.5C1308.5,-347.5 1233.5,-347.5 1233.5,-347.5 1227.5,-347.5 1221.5,-341.5 1221.5,-335.5 1221.5,-335.5 1221.5,-306.5 1221.5,-306.5 1221.5,-300.5 1227.5,-294.5 1233.5,-294.5 1233.5,-294.5 1308.5,-294.5 1308.5,-294.5 1314.5,-294.5 1320.5,-300.5 1320.5,-306.5 1320.5,-306.5 1320.5,-335.5 1320.5,-335.5 1320.5,-341.5 1314.5,-347.5 1308.5,-347.5\"/>\n<text text-anchor=\"start\" x=\"1241.5\" y=\"-332.3\" font-family=\"Helvetica,sans-Serif\" font-size=\"14.00\" fill=\"#000000\">gini = 0.0</text>\n<text text-anchor=\"start\" x=\"1231.5\" y=\"-317.3\" font-family=\"Helvetica,sans-Serif\" font-size=\"14.00\" fill=\"#000000\">samples = 2</text>\n<text text-anchor=\"start\" x=\"1229.5\" y=\"-302.3\" font-family=\"Helvetica,sans-Serif\" font-size=\"14.00\" fill=\"#000000\">value = [2, 0]</text>\n</g>\n<!-- 57&#45;&gt;58 -->\n<g id=\"edge58\" class=\"edge\">\n<title>57&#45;&gt;58</title>\n<path fill=\"none\" stroke=\"#000000\" d=\"M1271.6781,-388.8089C1271.5798,-378.9777 1271.4709,-368.0898 1271.3697,-357.9679\"/>\n<polygon fill=\"#000000\" stroke=\"#000000\" points=\"1274.8677,-357.738 1271.2677,-347.7735 1267.868,-357.8081 1274.8677,-357.738\"/>\n</g>\n<!-- 59 -->\n<g id=\"node60\" class=\"node\">\n<title>59</title>\n<path fill=\"#399de5\" stroke=\"#000000\" d=\"M1425.5,-347.5C1425.5,-347.5 1350.5,-347.5 1350.5,-347.5 1344.5,-347.5 1338.5,-341.5 1338.5,-335.5 1338.5,-335.5 1338.5,-306.5 1338.5,-306.5 1338.5,-300.5 1344.5,-294.5 1350.5,-294.5 1350.5,-294.5 1425.5,-294.5 1425.5,-294.5 1431.5,-294.5 1437.5,-300.5 1437.5,-306.5 1437.5,-306.5 1437.5,-335.5 1437.5,-335.5 1437.5,-341.5 1431.5,-347.5 1425.5,-347.5\"/>\n<text text-anchor=\"start\" x=\"1358.5\" y=\"-332.3\" font-family=\"Helvetica,sans-Serif\" font-size=\"14.00\" fill=\"#000000\">gini = 0.0</text>\n<text text-anchor=\"start\" x=\"1348.5\" y=\"-317.3\" font-family=\"Helvetica,sans-Serif\" font-size=\"14.00\" fill=\"#000000\">samples = 8</text>\n<text text-anchor=\"start\" x=\"1346.5\" y=\"-302.3\" font-family=\"Helvetica,sans-Serif\" font-size=\"14.00\" fill=\"#000000\">value = [0, 8]</text>\n</g>\n<!-- 57&#45;&gt;59 -->\n<g id=\"edge59\" class=\"edge\">\n<title>57&#45;&gt;59</title>\n<path fill=\"none\" stroke=\"#000000\" d=\"M1309.3416,-388.8089C1322.0664,-377.8393 1336.3171,-365.5543 1349.1568,-354.4855\"/>\n<polygon fill=\"#000000\" stroke=\"#000000\" points=\"1351.6539,-356.9539 1356.9427,-347.7735 1347.0833,-351.652 1351.6539,-356.9539\"/>\n</g>\n</g>\n</svg>\n"
          },
          "metadata": {
            "tags": []
          },
          "execution_count": 34
        }
      ]
    },
    {
      "cell_type": "markdown",
      "metadata": {
        "id": "lYxP37QN4CVv"
      },
      "source": [
        "## Наивный байесовский классификатор (Naive Bayes)"
      ]
    },
    {
      "cell_type": "code",
      "metadata": {
        "colab": {
          "base_uri": "https://localhost:8080/"
        },
        "id": "JEr3WPxq4LtZ",
        "outputId": "c6ad5e0b-d79b-4408-a135-a51276ecd511"
      },
      "source": [
        "from sklearn.naive_bayes import GaussianNB\n",
        "\n",
        "clf = GaussianNB()\n",
        "clf.fit(X_train, y_train)"
      ],
      "execution_count": null,
      "outputs": [
        {
          "output_type": "execute_result",
          "data": {
            "text/plain": [
              "GaussianNB(priors=None, var_smoothing=1e-09)"
            ]
          },
          "metadata": {
            "tags": []
          },
          "execution_count": 35
        }
      ]
    },
    {
      "cell_type": "code",
      "metadata": {
        "colab": {
          "base_uri": "https://localhost:8080/"
        },
        "id": "j9MeqLpi5tsp",
        "outputId": "1d40a6f7-a2ee-4b37-a5a5-68fb2e40ba26"
      },
      "source": [
        "y_pred = clf.predict(X_test)\n",
        "print(confusion_matrix(y_test, y_pred))\n",
        "print(classification_report(y_test, y_pred))"
      ],
      "execution_count": null,
      "outputs": [
        {
          "output_type": "stream",
          "text": [
            "[[55  5]\n",
            " [ 3 25]]\n",
            "              precision    recall  f1-score   support\n",
            "\n",
            "           0       0.95      0.92      0.93        60\n",
            "           1       0.83      0.89      0.86        28\n",
            "\n",
            "    accuracy                           0.91        88\n",
            "   macro avg       0.89      0.90      0.90        88\n",
            "weighted avg       0.91      0.91      0.91        88\n",
            "\n"
          ],
          "name": "stdout"
        }
      ]
    },
    {
      "cell_type": "markdown",
      "metadata": {
        "id": "-etC9eF25zcz"
      },
      "source": [
        "## Метод опорных векторов (Support Vector Machines)"
      ]
    },
    {
      "cell_type": "code",
      "metadata": {
        "colab": {
          "base_uri": "https://localhost:8080/"
        },
        "id": "PGc6xnIo510u",
        "outputId": "15df4bd7-b3e0-4022-9874-2edf2294f099"
      },
      "source": [
        "from sklearn import svm\n",
        "clf = svm.SVC()\n",
        "clf.fit(X_train, y_train)"
      ],
      "execution_count": null,
      "outputs": [
        {
          "output_type": "execute_result",
          "data": {
            "text/plain": [
              "SVC(C=1.0, break_ties=False, cache_size=200, class_weight=None, coef0=0.0,\n",
              "    decision_function_shape='ovr', degree=3, gamma='scale', kernel='rbf',\n",
              "    max_iter=-1, probability=False, random_state=None, shrinking=True,\n",
              "    tol=0.001, verbose=False)"
            ]
          },
          "metadata": {
            "tags": []
          },
          "execution_count": 37
        }
      ]
    },
    {
      "cell_type": "code",
      "metadata": {
        "colab": {
          "base_uri": "https://localhost:8080/"
        },
        "id": "iY4d5o8H54QZ",
        "outputId": "6525c6d6-a202-4cae-a267-f5f7b8c55551"
      },
      "source": [
        "y_pred = clf.predict(X_test)\n",
        "print(confusion_matrix(y_test, y_pred))\n",
        "print(classification_report(y_test, y_pred))"
      ],
      "execution_count": null,
      "outputs": [
        {
          "output_type": "stream",
          "text": [
            "[[54  6]\n",
            " [ 5 23]]\n",
            "              precision    recall  f1-score   support\n",
            "\n",
            "           0       0.92      0.90      0.91        60\n",
            "           1       0.79      0.82      0.81        28\n",
            "\n",
            "    accuracy                           0.88        88\n",
            "   macro avg       0.85      0.86      0.86        88\n",
            "weighted avg       0.88      0.88      0.88        88\n",
            "\n"
          ],
          "name": "stdout"
        }
      ]
    },
    {
      "cell_type": "markdown",
      "metadata": {
        "id": "M0uu1VBn6Asj"
      },
      "source": [
        "## Логистическая регрессия (Logistic Regression)"
      ]
    },
    {
      "cell_type": "code",
      "metadata": {
        "colab": {
          "base_uri": "https://localhost:8080/"
        },
        "id": "_Bc2Qh4w6FDu",
        "outputId": "ecbf5285-3c02-405c-e6e1-f9d4da24264e"
      },
      "source": [
        "from sklearn.linear_model import LogisticRegression\n",
        "\n",
        "clf = LogisticRegression()\n",
        "clf.fit(X_train, y_train)"
      ],
      "execution_count": null,
      "outputs": [
        {
          "output_type": "execute_result",
          "data": {
            "text/plain": [
              "LogisticRegression(C=1.0, class_weight=None, dual=False, fit_intercept=True,\n",
              "                   intercept_scaling=1, l1_ratio=None, max_iter=100,\n",
              "                   multi_class='auto', n_jobs=None, penalty='l2',\n",
              "                   random_state=None, solver='lbfgs', tol=0.0001, verbose=0,\n",
              "                   warm_start=False)"
            ]
          },
          "metadata": {
            "tags": []
          },
          "execution_count": 39
        }
      ]
    },
    {
      "cell_type": "code",
      "metadata": {
        "colab": {
          "base_uri": "https://localhost:8080/"
        },
        "id": "w3xBVD7m6QTJ",
        "outputId": "a796e7ed-2f81-4caf-ae84-92cc0dbaa56a"
      },
      "source": [
        "y_pred = clf.predict(X_test)\n",
        "print(confusion_matrix(y_test, y_pred))\n",
        "print(classification_report(y_test, y_pred))"
      ],
      "execution_count": null,
      "outputs": [
        {
          "output_type": "stream",
          "text": [
            "[[55  5]\n",
            " [ 3 25]]\n",
            "              precision    recall  f1-score   support\n",
            "\n",
            "           0       0.95      0.92      0.93        60\n",
            "           1       0.83      0.89      0.86        28\n",
            "\n",
            "    accuracy                           0.91        88\n",
            "   macro avg       0.89      0.90      0.90        88\n",
            "weighted avg       0.91      0.91      0.91        88\n",
            "\n"
          ],
          "name": "stdout"
        }
      ]
    },
    {
      "cell_type": "markdown",
      "metadata": {
        "id": "7GJQTUEbMFl9"
      },
      "source": [
        "## Выводы по классификаторам"
      ]
    },
    {
      "cell_type": "markdown",
      "metadata": {
        "id": "Cw-DwvLvMPIK"
      },
      "source": [
        "Меньше ошибок сделали наивный байесовский классификатор и логическая регрессия. При высокой точности у них большая полнота.\n",
        "\n",
        "У метода k - ближайших соседей наибольшая точность 1 класса, но очень низкая полнота, в сравнении с остальными классификаторами.\n",
        "\n",
        "У метода опорных векторов при невысокой точности низкая полнота и, следовательно наименьшее значение оченки F1 из представленных алгоритмов.\n",
        "\n",
        "И остается оценить классификатор дерева решений. У него сбалансированы и достаточно высоки показатели точности и полноты, однако он все равно уступет байесовскому классификатору и логической регрессии."
      ]
    },
    {
      "cell_type": "markdown",
      "metadata": {
        "id": "nQlYxmN160Yt"
      },
      "source": [
        "# Кросс-валидация"
      ]
    },
    {
      "cell_type": "code",
      "metadata": {
        "colab": {
          "base_uri": "https://localhost:8080/"
        },
        "id": "_2_1oKfwHrfz",
        "outputId": "8d8e97d1-b252-4184-c795-65f286fe80c7"
      },
      "source": [
        "from sklearn.model_selection import StratifiedKFold\n",
        "\n",
        "skf = StratifiedKFold(n_splits=5)\n",
        "for train_index, test_index in skf.split(X, y):\n",
        "  print(\"TRAIN:\", train_index, \"TEST:\", test_index, \"\\n\")\n",
        "  X_train, X_test = X[train_index], X[test_index]\n",
        "  y_train, y_test = y[train_index], y[test_index]"
      ],
      "execution_count": null,
      "outputs": [
        {
          "output_type": "stream",
          "text": [
            "TRAIN: [ 48  49  52  53  56  57  60  61  62  63  65  67  73  74  77  81  82  84\n",
            "  85  86  92  94  96 100 101 102 106 107 108 109 111 119 120 121 122 123\n",
            " 124 125 126 127 128 129 130 131 132 133 134 135 136 137 138 139 140 141\n",
            " 142 143 144 145 146 147 148 149 150 151 152 153 154 155 156 157 158 159\n",
            " 160 161 162 163 164 165 166 167 168 169 170 171 172 173 174 175 176 177\n",
            " 178 179 180 181 182 183 184 185 186 187 188 189 190 191 192 193 194 195\n",
            " 196 197 198 199 200 201 202 203 204 205 206 207 208 209 210 211 212 213\n",
            " 214 215 216 217 218 219 220 221 222 223 224 225 226 227 228 229 230 231\n",
            " 232 233 234 235 236 237 238 239 240 241 242 243 244 245 246 247 248 249\n",
            " 250 251 252 253 254 255 256 257 258 259 260 261 262 263 264 265 266 267\n",
            " 268 269 270 271 272 273 274 275 276 277 278 279 280 281 282 283 284 285\n",
            " 286 287 288 289 290 291 292 293 294 295 296 297 298 299 300 301 302 303\n",
            " 304 305 306 307 308 309 310 311 312 313 314 315 316 317 318 319 320 321\n",
            " 322 323 324 325 326 327 328 329 330 331 332 333 334 335 336 337 338 339\n",
            " 340 341 342 343 344 345 346 347 348 349 350 351 352 353 354 355 356 357\n",
            " 358 359 360 361 362 363 364 365 366 367 368 369 370 371 372 373 374 375\n",
            " 376 377 378 379 380 381 382 383 384 385 386 387 388 389 390 391 392 393\n",
            " 394 395 396 397 398 399 400 401 402 403 404 405 406 407 408 409 410 411\n",
            " 412 413 414 415 416 417 418 419 420 421 422 423 424 425 426 427 428 429\n",
            " 430 431 432 433 434 435 436 437 438 439] TEST: [  0   1   2   3   4   5   6   7   8   9  10  11  12  13  14  15  16  17\n",
            "  18  19  20  21  22  23  24  25  26  27  28  29  30  31  32  33  34  35\n",
            "  36  37  38  39  40  41  42  43  44  45  46  47  50  51  54  55  58  59\n",
            "  64  66  68  69  70  71  72  75  76  78  79  80  83  87  88  89  90  91\n",
            "  93  95  97  98  99 103 104 105 110 112 113 114 115 116 117 118] \n",
            "\n",
            "TRAIN: [  0   1   2   3   4   5   6   7   8   9  10  11  12  13  14  15  16  17\n",
            "  18  19  20  21  22  23  24  25  26  27  28  29  30  31  32  33  34  35\n",
            "  36  37  38  39  40  41  42  43  44  45  46  47  50  51  54  55  58  59\n",
            "  64  66  68  69  70  71  72  75  76  78  79  80  83  87  88  89  90  91\n",
            "  93  95  97  98  99 103 104 105 109 110 111 112 113 114 115 116 117 118\n",
            " 123 127 145 155 156 158 159 160 163 164 165 166 170 171 173 175 188 189\n",
            " 193 197 198 199 200 201 202 203 204 205 206 207 208 209 210 211 212 213\n",
            " 214 215 216 217 218 219 220 221 222 223 224 225 226 227 228 229 230 231\n",
            " 232 233 234 235 236 237 238 239 240 241 242 243 244 245 246 247 248 249\n",
            " 250 251 252 253 254 255 256 257 258 259 260 261 262 263 264 265 266 267\n",
            " 268 269 270 271 272 273 274 275 276 277 278 279 280 281 282 283 284 285\n",
            " 286 287 288 289 290 291 292 293 294 295 296 297 298 299 300 301 302 303\n",
            " 304 305 306 307 308 309 310 311 312 313 314 315 316 317 318 319 320 321\n",
            " 322 323 324 325 326 327 328 329 330 331 332 333 334 335 336 337 338 339\n",
            " 340 341 342 343 344 345 346 347 348 349 350 351 352 353 354 355 356 357\n",
            " 358 359 360 361 362 363 364 365 366 367 368 369 370 371 372 373 374 375\n",
            " 376 377 378 379 380 381 382 383 384 385 386 387 388 389 390 391 392 393\n",
            " 394 395 396 397 398 399 400 401 402 403 404 405 406 407 408 409 410 411\n",
            " 412 413 414 415 416 417 418 419 420 421 422 423 424 425 426 427 428 429\n",
            " 430 431 432 433 434 435 436 437 438 439] TEST: [ 48  49  52  53  56  57  60  61  62  63  65  67  73  74  77  81  82  84\n",
            "  85  86  92  94  96 100 101 102 106 107 108 119 120 121 122 124 125 126\n",
            " 128 129 130 131 132 133 134 135 136 137 138 139 140 141 142 143 144 146\n",
            " 147 148 149 150 151 152 153 154 157 161 162 167 168 169 172 174 176 177\n",
            " 178 179 180 181 182 183 184 185 186 187 190 191 192 194 195 196] \n",
            "\n",
            "TRAIN: [  0   1   2   3   4   5   6   7   8   9  10  11  12  13  14  15  16  17\n",
            "  18  19  20  21  22  23  24  25  26  27  28  29  30  31  32  33  34  35\n",
            "  36  37  38  39  40  41  42  43  44  45  46  47  48  49  50  51  52  53\n",
            "  54  55  56  57  58  59  60  61  62  63  64  65  66  67  68  69  70  71\n",
            "  72  73  74  75  76  77  78  79  80  81  82  83  84  85  86  87  88  89\n",
            "  90  91  92  93  94  95  96  97  98  99 100 101 102 103 104 105 106 107\n",
            " 108 110 112 113 114 115 116 117 118 119 120 121 122 124 125 126 128 129\n",
            " 130 131 132 133 134 135 136 137 138 139 140 141 142 143 144 146 147 148\n",
            " 149 150 151 152 153 154 157 161 162 167 168 169 172 174 176 177 178 179\n",
            " 180 181 182 183 184 185 186 187 190 191 192 194 195 196 214 216 218 223\n",
            " 226 230 245 251 264 266 268 275 276 277 278 279 280 281 282 283 284 285\n",
            " 286 287 288 289 290 291 292 293 294 295 296 297 298 299 300 301 302 303\n",
            " 304 305 306 307 308 309 310 311 312 313 314 315 316 317 318 319 320 321\n",
            " 322 323 324 325 326 327 328 329 330 331 332 333 334 335 336 337 338 339\n",
            " 340 341 342 343 344 345 346 347 348 349 350 351 352 353 354 355 356 357\n",
            " 358 359 360 361 362 363 364 365 366 367 368 369 370 371 372 373 374 375\n",
            " 376 377 378 379 380 381 382 383 384 385 386 387 388 389 390 391 392 393\n",
            " 394 395 396 397 398 399 400 401 402 403 404 405 406 407 408 409 410 411\n",
            " 412 413 414 415 416 417 418 419 420 421 422 423 424 425 426 427 428 429\n",
            " 430 431 432 433 434 435 436 437 438 439] TEST: [109 111 123 127 145 155 156 158 159 160 163 164 165 166 170 171 173 175\n",
            " 188 189 193 197 198 199 200 201 202 203 204 205 206 207 208 209 210 211\n",
            " 212 213 215 217 219 220 221 222 224 225 227 228 229 231 232 233 234 235\n",
            " 236 237 238 239 240 241 242 243 244 246 247 248 249 250 252 253 254 255\n",
            " 256 257 258 259 260 261 262 263 265 267 269 270 271 272 273 274] \n",
            "\n",
            "TRAIN: [  0   1   2   3   4   5   6   7   8   9  10  11  12  13  14  15  16  17\n",
            "  18  19  20  21  22  23  24  25  26  27  28  29  30  31  32  33  34  35\n",
            "  36  37  38  39  40  41  42  43  44  45  46  47  48  49  50  51  52  53\n",
            "  54  55  56  57  58  59  60  61  62  63  64  65  66  67  68  69  70  71\n",
            "  72  73  74  75  76  77  78  79  80  81  82  83  84  85  86  87  88  89\n",
            "  90  91  92  93  94  95  96  97  98  99 100 101 102 103 104 105 106 107\n",
            " 108 109 110 111 112 113 114 115 116 117 118 119 120 121 122 123 124 125\n",
            " 126 127 128 129 130 131 132 133 134 135 136 137 138 139 140 141 142 143\n",
            " 144 145 146 147 148 149 150 151 152 153 154 155 156 157 158 159 160 161\n",
            " 162 163 164 165 166 167 168 169 170 171 172 173 174 175 176 177 178 179\n",
            " 180 181 182 183 184 185 186 187 188 189 190 191 192 193 194 195 196 197\n",
            " 198 199 200 201 202 203 204 205 206 207 208 209 210 211 212 213 215 217\n",
            " 219 220 221 222 224 225 227 228 229 231 232 233 234 235 236 237 238 239\n",
            " 240 241 242 243 244 246 247 248 249 250 252 253 254 255 256 257 258 259\n",
            " 260 261 262 263 265 267 269 270 271 272 273 274 331 333 334 335 340 341\n",
            " 343 346 347 349 351 353 357 365 366 367 368 369 370 371 372 373 374 375\n",
            " 376 377 378 379 380 381 382 383 384 385 386 387 388 389 390 391 392 393\n",
            " 394 395 396 397 398 399 400 401 402 403 404 405 406 407 408 409 410 411\n",
            " 412 413 414 415 416 417 418 419 420 421 422 423 424 425 426 427 428 429\n",
            " 430 431 432 433 434 435 436 437 438 439] TEST: [214 216 218 223 226 230 245 251 264 266 268 275 276 277 278 279 280 281\n",
            " 282 283 284 285 286 287 288 289 290 291 292 293 294 295 296 297 298 299\n",
            " 300 301 302 303 304 305 306 307 308 309 310 311 312 313 314 315 316 317\n",
            " 318 319 320 321 322 323 324 325 326 327 328 329 330 332 336 337 338 339\n",
            " 342 344 345 348 350 352 354 355 356 358 359 360 361 362 363 364] \n",
            "\n",
            "TRAIN: [  0   1   2   3   4   5   6   7   8   9  10  11  12  13  14  15  16  17\n",
            "  18  19  20  21  22  23  24  25  26  27  28  29  30  31  32  33  34  35\n",
            "  36  37  38  39  40  41  42  43  44  45  46  47  48  49  50  51  52  53\n",
            "  54  55  56  57  58  59  60  61  62  63  64  65  66  67  68  69  70  71\n",
            "  72  73  74  75  76  77  78  79  80  81  82  83  84  85  86  87  88  89\n",
            "  90  91  92  93  94  95  96  97  98  99 100 101 102 103 104 105 106 107\n",
            " 108 109 110 111 112 113 114 115 116 117 118 119 120 121 122 123 124 125\n",
            " 126 127 128 129 130 131 132 133 134 135 136 137 138 139 140 141 142 143\n",
            " 144 145 146 147 148 149 150 151 152 153 154 155 156 157 158 159 160 161\n",
            " 162 163 164 165 166 167 168 169 170 171 172 173 174 175 176 177 178 179\n",
            " 180 181 182 183 184 185 186 187 188 189 190 191 192 193 194 195 196 197\n",
            " 198 199 200 201 202 203 204 205 206 207 208 209 210 211 212 213 214 215\n",
            " 216 217 218 219 220 221 222 223 224 225 226 227 228 229 230 231 232 233\n",
            " 234 235 236 237 238 239 240 241 242 243 244 245 246 247 248 249 250 251\n",
            " 252 253 254 255 256 257 258 259 260 261 262 263 264 265 266 267 268 269\n",
            " 270 271 272 273 274 275 276 277 278 279 280 281 282 283 284 285 286 287\n",
            " 288 289 290 291 292 293 294 295 296 297 298 299 300 301 302 303 304 305\n",
            " 306 307 308 309 310 311 312 313 314 315 316 317 318 319 320 321 322 323\n",
            " 324 325 326 327 328 329 330 332 336 337 338 339 342 344 345 348 350 352\n",
            " 354 355 356 358 359 360 361 362 363 364] TEST: [331 333 334 335 340 341 343 346 347 349 351 353 357 365 366 367 368 369\n",
            " 370 371 372 373 374 375 376 377 378 379 380 381 382 383 384 385 386 387\n",
            " 388 389 390 391 392 393 394 395 396 397 398 399 400 401 402 403 404 405\n",
            " 406 407 408 409 410 411 412 413 414 415 416 417 418 419 420 421 422 423\n",
            " 424 425 426 427 428 429 430 431 432 433 434 435 436 437 438 439] \n",
            "\n"
          ],
          "name": "stdout"
        }
      ]
    },
    {
      "cell_type": "code",
      "metadata": {
        "colab": {
          "base_uri": "https://localhost:8080/"
        },
        "id": "l5D2g3LeJ_H0",
        "outputId": "25a42dff-feb0-4290-e46c-feaff0f4ecda"
      },
      "source": [
        "for train_index, test_index in skf.split(X, y):\n",
        "  X_train, X_test = X[train_index], X[test_index]\n",
        "  y_train, y_test = y[train_index], y[test_index]\n",
        "  clf = KNeighborsClassifier(n_neighbors=5)\n",
        "  clf.fit(X_train, y_train)\n",
        "  y_pred = clf.predict(X_test)\n",
        "  print(classification_report(y_test, y_pred))\n",
        "  print(clf.score(X_test, y_test))"
      ],
      "execution_count": null,
      "outputs": [
        {
          "output_type": "stream",
          "text": [
            "              precision    recall  f1-score   support\n",
            "\n",
            "           0       0.89      0.92      0.90        59\n",
            "           1       0.81      0.76      0.79        29\n",
            "\n",
            "    accuracy                           0.86        88\n",
            "   macro avg       0.85      0.84      0.84        88\n",
            "weighted avg       0.86      0.86      0.86        88\n",
            "\n",
            "0.8636363636363636\n",
            "              precision    recall  f1-score   support\n",
            "\n",
            "           0       0.91      0.88      0.90        59\n",
            "           1       0.77      0.83      0.80        29\n",
            "\n",
            "    accuracy                           0.86        88\n",
            "   macro avg       0.84      0.85      0.85        88\n",
            "weighted avg       0.87      0.86      0.86        88\n",
            "\n",
            "0.8636363636363636\n",
            "              precision    recall  f1-score   support\n",
            "\n",
            "           0       0.98      0.87      0.92        60\n",
            "           1       0.77      0.96      0.86        28\n",
            "\n",
            "    accuracy                           0.90        88\n",
            "   macro avg       0.88      0.92      0.89        88\n",
            "weighted avg       0.91      0.90      0.90        88\n",
            "\n",
            "0.8977272727272727\n",
            "              precision    recall  f1-score   support\n",
            "\n",
            "           0       0.92      1.00      0.96        60\n",
            "           1       1.00      0.82      0.90        28\n",
            "\n",
            "    accuracy                           0.94        88\n",
            "   macro avg       0.96      0.91      0.93        88\n",
            "weighted avg       0.95      0.94      0.94        88\n",
            "\n",
            "0.9431818181818182\n",
            "              precision    recall  f1-score   support\n",
            "\n",
            "           0       0.93      0.90      0.92        60\n",
            "           1       0.80      0.86      0.83        28\n",
            "\n",
            "    accuracy                           0.89        88\n",
            "   macro avg       0.87      0.88      0.87        88\n",
            "weighted avg       0.89      0.89      0.89        88\n",
            "\n",
            "0.8863636363636364\n"
          ],
          "name": "stdout"
        }
      ]
    },
    {
      "cell_type": "markdown",
      "metadata": {
        "id": "CcD1vETHKSFU"
      },
      "source": [
        "# Подбор гиперпараметров"
      ]
    },
    {
      "cell_type": "code",
      "metadata": {
        "colab": {
          "base_uri": "https://localhost:8080/"
        },
        "id": "bVHam8maKTBc",
        "outputId": "c93c50da-7e6d-4fe7-b181-43c2e3df9323"
      },
      "source": [
        "from sklearn.model_selection import GridSearchCV\n",
        "\n",
        "from sklearn.neighbors import KNeighborsClassifier\n",
        "\n",
        "parameters = {'n_neighbors':[1, 2, 3, 4, 5, 6]}\n",
        "\n",
        "knn = KNeighborsClassifier()\n",
        "\n",
        "clf = GridSearchCV(knn, parameters)\n",
        "\n",
        "clf.fit(X_train, y_train)\n",
        "\n",
        "clf.cv_results_"
      ],
      "execution_count": null,
      "outputs": [
        {
          "output_type": "execute_result",
          "data": {
            "text/plain": [
              "{'mean_fit_time': array([0.00068769, 0.00068183, 0.0005662 , 0.00058546, 0.00060472,\n",
              "        0.00055771]),\n",
              " 'mean_score_time': array([0.0036953 , 0.00363092, 0.00294156, 0.00302353, 0.00317802,\n",
              "        0.00298042]),\n",
              " 'mean_test_score': array([0.88925553, 0.88933602, 0.88921529, 0.88639839, 0.89488934,\n",
              "        0.88921529]),\n",
              " 'param_n_neighbors': masked_array(data=[1, 2, 3, 4, 5, 6],\n",
              "              mask=[False, False, False, False, False, False],\n",
              "        fill_value='?',\n",
              "             dtype=object),\n",
              " 'params': [{'n_neighbors': 1},\n",
              "  {'n_neighbors': 2},\n",
              "  {'n_neighbors': 3},\n",
              "  {'n_neighbors': 4},\n",
              "  {'n_neighbors': 5},\n",
              "  {'n_neighbors': 6}],\n",
              " 'rank_test_score': array([3, 2, 4, 6, 1, 4], dtype=int32),\n",
              " 'split0_test_score': array([0.85915493, 0.83098592, 0.84507042, 0.83098592, 0.84507042,\n",
              "        0.83098592]),\n",
              " 'split1_test_score': array([0.90140845, 0.90140845, 0.92957746, 0.92957746, 0.94366197,\n",
              "        0.94366197]),\n",
              " 'split2_test_score': array([0.85714286, 0.88571429, 0.84285714, 0.87142857, 0.85714286,\n",
              "        0.87142857]),\n",
              " 'split3_test_score': array([0.9       , 0.9       , 0.88571429, 0.87142857, 0.88571429,\n",
              "        0.87142857]),\n",
              " 'split4_test_score': array([0.92857143, 0.92857143, 0.94285714, 0.92857143, 0.94285714,\n",
              "        0.92857143]),\n",
              " 'std_fit_time': array([1.86365604e-04, 1.19917710e-04, 1.73003198e-05, 1.79373184e-05,\n",
              "        2.83197117e-05, 2.03090090e-06]),\n",
              " 'std_score_time': array([1.34666762e-03, 6.58876848e-04, 2.73391997e-05, 1.59460406e-04,\n",
              "        2.39023043e-04, 1.89030904e-05]),\n",
              " 'std_test_score': array([0.02737205, 0.03230088, 0.04151303, 0.03784635, 0.04164273,\n",
              "        0.04132007])}"
            ]
          },
          "metadata": {
            "tags": []
          },
          "execution_count": 59
        }
      ]
    },
    {
      "cell_type": "code",
      "metadata": {
        "colab": {
          "base_uri": "https://localhost:8080/"
        },
        "id": "JeLgR0ZNSdY3",
        "outputId": "21f9e45f-2781-4c6d-8017-12cac8cd6be7"
      },
      "source": [
        "clf.best_params_"
      ],
      "execution_count": null,
      "outputs": [
        {
          "output_type": "execute_result",
          "data": {
            "text/plain": [
              "{'n_neighbors': 5}"
            ]
          },
          "metadata": {
            "tags": []
          },
          "execution_count": 54
        }
      ]
    },
    {
      "cell_type": "markdown",
      "metadata": {
        "id": "SwNKgbC2T-uM"
      },
      "source": [
        "Наиболее выгодням числом соседей является 5 соседей."
      ]
    }
  ]
}