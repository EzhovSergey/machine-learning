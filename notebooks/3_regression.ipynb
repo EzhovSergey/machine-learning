{
  "nbformat": 4,
  "nbformat_minor": 0,
  "metadata": {
    "colab": {
      "name": "3_regression.ipynb",
      "provenance": [],
      "toc_visible": true
    },
    "kernelspec": {
      "name": "python3",
      "display_name": "Python 3"
    },
    "language_info": {
      "name": "python"
    }
  },
  "cells": [
    {
      "cell_type": "markdown",
      "metadata": {
        "id": "7BtEPWeKJXLY"
      },
      "source": [
        "# Загрузка и подготовка данных"
      ]
    },
    {
      "cell_type": "code",
      "metadata": {
        "id": "xjw9QwlE08J1"
      },
      "source": [
        "import numpy as np\n",
        "import pandas as pd\n",
        "from sklearn import metrics\n",
        "from sklearn.model_selection import GridSearchCV"
      ],
      "execution_count": 2,
      "outputs": []
    },
    {
      "cell_type": "markdown",
      "metadata": {
        "id": "L7JvRdyXsurk"
      },
      "source": [
        "Загрузим и обработаем данные"
      ]
    },
    {
      "cell_type": "code",
      "metadata": {
        "colab": {
          "base_uri": "https://localhost:8080/",
          "height": 241
        },
        "id": "nkXhC7tg7KwV",
        "outputId": "a121ceaf-4633-482e-ada4-b2d7ab4de870"
      },
      "source": [
        "energy_df = pd.DataFrame\n",
        "energy_df = pd.read_csv('../data/energy_efficiency_preprocessed.csv' )\n",
        "energy_df.head()"
      ],
      "execution_count": 3,
      "outputs": [
        {
          "output_type": "execute_result",
          "data": {
            "text/html": [
              "<div>\n",
              "<style scoped>\n",
              "    .dataframe tbody tr th:only-of-type {\n",
              "        vertical-align: middle;\n",
              "    }\n",
              "\n",
              "    .dataframe tbody tr th {\n",
              "        vertical-align: top;\n",
              "    }\n",
              "\n",
              "    .dataframe thead th {\n",
              "        text-align: right;\n",
              "    }\n",
              "</style>\n",
              "<table border=\"1\" class=\"dataframe\">\n",
              "  <thead>\n",
              "    <tr style=\"text-align: right;\">\n",
              "      <th></th>\n",
              "      <th>Unnamed: 0</th>\n",
              "      <th>Compactness</th>\n",
              "      <th>S_Surface</th>\n",
              "      <th>S_Wall</th>\n",
              "      <th>S_Roof</th>\n",
              "      <th>Overall_Height</th>\n",
              "      <th>S_Glazing</th>\n",
              "      <th>Heating Load</th>\n",
              "      <th>Cooling Load</th>\n",
              "      <th>Orientation_2</th>\n",
              "      <th>Orientation_3</th>\n",
              "      <th>Orientation_4</th>\n",
              "      <th>Orientation_5</th>\n",
              "      <th>Glass_0</th>\n",
              "      <th>Glass_1</th>\n",
              "      <th>Glass_2</th>\n",
              "      <th>Glass_3</th>\n",
              "      <th>Glass_4</th>\n",
              "      <th>Glass_5</th>\n",
              "    </tr>\n",
              "  </thead>\n",
              "  <tbody>\n",
              "    <tr>\n",
              "      <th>0</th>\n",
              "      <td>0</td>\n",
              "      <td>0.98</td>\n",
              "      <td>514.5</td>\n",
              "      <td>294.0</td>\n",
              "      <td>110.25</td>\n",
              "      <td>1</td>\n",
              "      <td>0.0</td>\n",
              "      <td>15.55</td>\n",
              "      <td>21.33</td>\n",
              "      <td>1</td>\n",
              "      <td>0</td>\n",
              "      <td>0</td>\n",
              "      <td>0</td>\n",
              "      <td>1</td>\n",
              "      <td>0</td>\n",
              "      <td>0</td>\n",
              "      <td>0</td>\n",
              "      <td>0</td>\n",
              "      <td>0</td>\n",
              "    </tr>\n",
              "    <tr>\n",
              "      <th>1</th>\n",
              "      <td>1</td>\n",
              "      <td>0.98</td>\n",
              "      <td>514.5</td>\n",
              "      <td>294.0</td>\n",
              "      <td>110.25</td>\n",
              "      <td>1</td>\n",
              "      <td>0.0</td>\n",
              "      <td>15.55</td>\n",
              "      <td>21.33</td>\n",
              "      <td>0</td>\n",
              "      <td>1</td>\n",
              "      <td>0</td>\n",
              "      <td>0</td>\n",
              "      <td>1</td>\n",
              "      <td>0</td>\n",
              "      <td>0</td>\n",
              "      <td>0</td>\n",
              "      <td>0</td>\n",
              "      <td>0</td>\n",
              "    </tr>\n",
              "    <tr>\n",
              "      <th>2</th>\n",
              "      <td>2</td>\n",
              "      <td>0.98</td>\n",
              "      <td>514.5</td>\n",
              "      <td>294.0</td>\n",
              "      <td>110.25</td>\n",
              "      <td>1</td>\n",
              "      <td>0.0</td>\n",
              "      <td>15.55</td>\n",
              "      <td>21.33</td>\n",
              "      <td>0</td>\n",
              "      <td>0</td>\n",
              "      <td>1</td>\n",
              "      <td>0</td>\n",
              "      <td>1</td>\n",
              "      <td>0</td>\n",
              "      <td>0</td>\n",
              "      <td>0</td>\n",
              "      <td>0</td>\n",
              "      <td>0</td>\n",
              "    </tr>\n",
              "    <tr>\n",
              "      <th>3</th>\n",
              "      <td>3</td>\n",
              "      <td>0.98</td>\n",
              "      <td>514.5</td>\n",
              "      <td>294.0</td>\n",
              "      <td>110.25</td>\n",
              "      <td>1</td>\n",
              "      <td>0.0</td>\n",
              "      <td>15.55</td>\n",
              "      <td>21.33</td>\n",
              "      <td>0</td>\n",
              "      <td>0</td>\n",
              "      <td>0</td>\n",
              "      <td>1</td>\n",
              "      <td>1</td>\n",
              "      <td>0</td>\n",
              "      <td>0</td>\n",
              "      <td>0</td>\n",
              "      <td>0</td>\n",
              "      <td>0</td>\n",
              "    </tr>\n",
              "    <tr>\n",
              "      <th>4</th>\n",
              "      <td>4</td>\n",
              "      <td>0.90</td>\n",
              "      <td>563.5</td>\n",
              "      <td>318.5</td>\n",
              "      <td>122.50</td>\n",
              "      <td>1</td>\n",
              "      <td>0.0</td>\n",
              "      <td>20.84</td>\n",
              "      <td>28.28</td>\n",
              "      <td>1</td>\n",
              "      <td>0</td>\n",
              "      <td>0</td>\n",
              "      <td>0</td>\n",
              "      <td>1</td>\n",
              "      <td>0</td>\n",
              "      <td>0</td>\n",
              "      <td>0</td>\n",
              "      <td>0</td>\n",
              "      <td>0</td>\n",
              "    </tr>\n",
              "  </tbody>\n",
              "</table>\n",
              "</div>"
            ],
            "text/plain": [
              "   Unnamed: 0  Compactness  S_Surface  ...  Glass_3  Glass_4  Glass_5\n",
              "0           0         0.98      514.5  ...        0        0        0\n",
              "1           1         0.98      514.5  ...        0        0        0\n",
              "2           2         0.98      514.5  ...        0        0        0\n",
              "3           3         0.98      514.5  ...        0        0        0\n",
              "4           4         0.90      563.5  ...        0        0        0\n",
              "\n",
              "[5 rows x 19 columns]"
            ]
          },
          "metadata": {
            "tags": []
          },
          "execution_count": 3
        }
      ]
    },
    {
      "cell_type": "code",
      "metadata": {
        "id": "ItWOjL_u75Kc"
      },
      "source": [
        "del energy_df['Unnamed: 0']"
      ],
      "execution_count": 4,
      "outputs": []
    },
    {
      "cell_type": "code",
      "metadata": {
        "colab": {
          "base_uri": "https://localhost:8080/",
          "height": 456
        },
        "id": "JUs5QfDX79-Q",
        "outputId": "7be91f1d-39d9-4fbd-f123-a77a3a88509b"
      },
      "source": [
        "energy_df"
      ],
      "execution_count": 5,
      "outputs": [
        {
          "output_type": "execute_result",
          "data": {
            "text/html": [
              "<div>\n",
              "<style scoped>\n",
              "    .dataframe tbody tr th:only-of-type {\n",
              "        vertical-align: middle;\n",
              "    }\n",
              "\n",
              "    .dataframe tbody tr th {\n",
              "        vertical-align: top;\n",
              "    }\n",
              "\n",
              "    .dataframe thead th {\n",
              "        text-align: right;\n",
              "    }\n",
              "</style>\n",
              "<table border=\"1\" class=\"dataframe\">\n",
              "  <thead>\n",
              "    <tr style=\"text-align: right;\">\n",
              "      <th></th>\n",
              "      <th>Compactness</th>\n",
              "      <th>S_Surface</th>\n",
              "      <th>S_Wall</th>\n",
              "      <th>S_Roof</th>\n",
              "      <th>Overall_Height</th>\n",
              "      <th>S_Glazing</th>\n",
              "      <th>Heating Load</th>\n",
              "      <th>Cooling Load</th>\n",
              "      <th>Orientation_2</th>\n",
              "      <th>Orientation_3</th>\n",
              "      <th>Orientation_4</th>\n",
              "      <th>Orientation_5</th>\n",
              "      <th>Glass_0</th>\n",
              "      <th>Glass_1</th>\n",
              "      <th>Glass_2</th>\n",
              "      <th>Glass_3</th>\n",
              "      <th>Glass_4</th>\n",
              "      <th>Glass_5</th>\n",
              "    </tr>\n",
              "  </thead>\n",
              "  <tbody>\n",
              "    <tr>\n",
              "      <th>0</th>\n",
              "      <td>0.98</td>\n",
              "      <td>514.5</td>\n",
              "      <td>294.0</td>\n",
              "      <td>110.25</td>\n",
              "      <td>1</td>\n",
              "      <td>0.0</td>\n",
              "      <td>15.55</td>\n",
              "      <td>21.33</td>\n",
              "      <td>1</td>\n",
              "      <td>0</td>\n",
              "      <td>0</td>\n",
              "      <td>0</td>\n",
              "      <td>1</td>\n",
              "      <td>0</td>\n",
              "      <td>0</td>\n",
              "      <td>0</td>\n",
              "      <td>0</td>\n",
              "      <td>0</td>\n",
              "    </tr>\n",
              "    <tr>\n",
              "      <th>1</th>\n",
              "      <td>0.98</td>\n",
              "      <td>514.5</td>\n",
              "      <td>294.0</td>\n",
              "      <td>110.25</td>\n",
              "      <td>1</td>\n",
              "      <td>0.0</td>\n",
              "      <td>15.55</td>\n",
              "      <td>21.33</td>\n",
              "      <td>0</td>\n",
              "      <td>1</td>\n",
              "      <td>0</td>\n",
              "      <td>0</td>\n",
              "      <td>1</td>\n",
              "      <td>0</td>\n",
              "      <td>0</td>\n",
              "      <td>0</td>\n",
              "      <td>0</td>\n",
              "      <td>0</td>\n",
              "    </tr>\n",
              "    <tr>\n",
              "      <th>2</th>\n",
              "      <td>0.98</td>\n",
              "      <td>514.5</td>\n",
              "      <td>294.0</td>\n",
              "      <td>110.25</td>\n",
              "      <td>1</td>\n",
              "      <td>0.0</td>\n",
              "      <td>15.55</td>\n",
              "      <td>21.33</td>\n",
              "      <td>0</td>\n",
              "      <td>0</td>\n",
              "      <td>1</td>\n",
              "      <td>0</td>\n",
              "      <td>1</td>\n",
              "      <td>0</td>\n",
              "      <td>0</td>\n",
              "      <td>0</td>\n",
              "      <td>0</td>\n",
              "      <td>0</td>\n",
              "    </tr>\n",
              "    <tr>\n",
              "      <th>3</th>\n",
              "      <td>0.98</td>\n",
              "      <td>514.5</td>\n",
              "      <td>294.0</td>\n",
              "      <td>110.25</td>\n",
              "      <td>1</td>\n",
              "      <td>0.0</td>\n",
              "      <td>15.55</td>\n",
              "      <td>21.33</td>\n",
              "      <td>0</td>\n",
              "      <td>0</td>\n",
              "      <td>0</td>\n",
              "      <td>1</td>\n",
              "      <td>1</td>\n",
              "      <td>0</td>\n",
              "      <td>0</td>\n",
              "      <td>0</td>\n",
              "      <td>0</td>\n",
              "      <td>0</td>\n",
              "    </tr>\n",
              "    <tr>\n",
              "      <th>4</th>\n",
              "      <td>0.90</td>\n",
              "      <td>563.5</td>\n",
              "      <td>318.5</td>\n",
              "      <td>122.50</td>\n",
              "      <td>1</td>\n",
              "      <td>0.0</td>\n",
              "      <td>20.84</td>\n",
              "      <td>28.28</td>\n",
              "      <td>1</td>\n",
              "      <td>0</td>\n",
              "      <td>0</td>\n",
              "      <td>0</td>\n",
              "      <td>1</td>\n",
              "      <td>0</td>\n",
              "      <td>0</td>\n",
              "      <td>0</td>\n",
              "      <td>0</td>\n",
              "      <td>0</td>\n",
              "    </tr>\n",
              "    <tr>\n",
              "      <th>...</th>\n",
              "      <td>...</td>\n",
              "      <td>...</td>\n",
              "      <td>...</td>\n",
              "      <td>...</td>\n",
              "      <td>...</td>\n",
              "      <td>...</td>\n",
              "      <td>...</td>\n",
              "      <td>...</td>\n",
              "      <td>...</td>\n",
              "      <td>...</td>\n",
              "      <td>...</td>\n",
              "      <td>...</td>\n",
              "      <td>...</td>\n",
              "      <td>...</td>\n",
              "      <td>...</td>\n",
              "      <td>...</td>\n",
              "      <td>...</td>\n",
              "      <td>...</td>\n",
              "    </tr>\n",
              "    <tr>\n",
              "      <th>763</th>\n",
              "      <td>0.64</td>\n",
              "      <td>784.0</td>\n",
              "      <td>343.0</td>\n",
              "      <td>220.50</td>\n",
              "      <td>0</td>\n",
              "      <td>0.4</td>\n",
              "      <td>17.88</td>\n",
              "      <td>21.40</td>\n",
              "      <td>0</td>\n",
              "      <td>0</td>\n",
              "      <td>0</td>\n",
              "      <td>1</td>\n",
              "      <td>0</td>\n",
              "      <td>0</td>\n",
              "      <td>0</td>\n",
              "      <td>0</td>\n",
              "      <td>0</td>\n",
              "      <td>1</td>\n",
              "    </tr>\n",
              "    <tr>\n",
              "      <th>764</th>\n",
              "      <td>0.62</td>\n",
              "      <td>808.5</td>\n",
              "      <td>367.5</td>\n",
              "      <td>220.50</td>\n",
              "      <td>0</td>\n",
              "      <td>0.4</td>\n",
              "      <td>16.54</td>\n",
              "      <td>16.88</td>\n",
              "      <td>1</td>\n",
              "      <td>0</td>\n",
              "      <td>0</td>\n",
              "      <td>0</td>\n",
              "      <td>0</td>\n",
              "      <td>0</td>\n",
              "      <td>0</td>\n",
              "      <td>0</td>\n",
              "      <td>0</td>\n",
              "      <td>1</td>\n",
              "    </tr>\n",
              "    <tr>\n",
              "      <th>765</th>\n",
              "      <td>0.62</td>\n",
              "      <td>808.5</td>\n",
              "      <td>367.5</td>\n",
              "      <td>220.50</td>\n",
              "      <td>0</td>\n",
              "      <td>0.4</td>\n",
              "      <td>16.44</td>\n",
              "      <td>17.11</td>\n",
              "      <td>0</td>\n",
              "      <td>1</td>\n",
              "      <td>0</td>\n",
              "      <td>0</td>\n",
              "      <td>0</td>\n",
              "      <td>0</td>\n",
              "      <td>0</td>\n",
              "      <td>0</td>\n",
              "      <td>0</td>\n",
              "      <td>1</td>\n",
              "    </tr>\n",
              "    <tr>\n",
              "      <th>766</th>\n",
              "      <td>0.62</td>\n",
              "      <td>808.5</td>\n",
              "      <td>367.5</td>\n",
              "      <td>220.50</td>\n",
              "      <td>0</td>\n",
              "      <td>0.4</td>\n",
              "      <td>16.48</td>\n",
              "      <td>16.61</td>\n",
              "      <td>0</td>\n",
              "      <td>0</td>\n",
              "      <td>1</td>\n",
              "      <td>0</td>\n",
              "      <td>0</td>\n",
              "      <td>0</td>\n",
              "      <td>0</td>\n",
              "      <td>0</td>\n",
              "      <td>0</td>\n",
              "      <td>1</td>\n",
              "    </tr>\n",
              "    <tr>\n",
              "      <th>767</th>\n",
              "      <td>0.62</td>\n",
              "      <td>808.5</td>\n",
              "      <td>367.5</td>\n",
              "      <td>220.50</td>\n",
              "      <td>0</td>\n",
              "      <td>0.4</td>\n",
              "      <td>16.64</td>\n",
              "      <td>16.03</td>\n",
              "      <td>0</td>\n",
              "      <td>0</td>\n",
              "      <td>0</td>\n",
              "      <td>1</td>\n",
              "      <td>0</td>\n",
              "      <td>0</td>\n",
              "      <td>0</td>\n",
              "      <td>0</td>\n",
              "      <td>0</td>\n",
              "      <td>1</td>\n",
              "    </tr>\n",
              "  </tbody>\n",
              "</table>\n",
              "<p>768 rows × 18 columns</p>\n",
              "</div>"
            ],
            "text/plain": [
              "     Compactness  S_Surface  S_Wall  S_Roof  ...  Glass_2  Glass_3  Glass_4  Glass_5\n",
              "0           0.98      514.5   294.0  110.25  ...        0        0        0        0\n",
              "1           0.98      514.5   294.0  110.25  ...        0        0        0        0\n",
              "2           0.98      514.5   294.0  110.25  ...        0        0        0        0\n",
              "3           0.98      514.5   294.0  110.25  ...        0        0        0        0\n",
              "4           0.90      563.5   318.5  122.50  ...        0        0        0        0\n",
              "..           ...        ...     ...     ...  ...      ...      ...      ...      ...\n",
              "763         0.64      784.0   343.0  220.50  ...        0        0        0        1\n",
              "764         0.62      808.5   367.5  220.50  ...        0        0        0        1\n",
              "765         0.62      808.5   367.5  220.50  ...        0        0        0        1\n",
              "766         0.62      808.5   367.5  220.50  ...        0        0        0        1\n",
              "767         0.62      808.5   367.5  220.50  ...        0        0        0        1\n",
              "\n",
              "[768 rows x 18 columns]"
            ]
          },
          "metadata": {
            "tags": []
          },
          "execution_count": 5
        }
      ]
    },
    {
      "cell_type": "code",
      "metadata": {
        "colab": {
          "base_uri": "https://localhost:8080/"
        },
        "id": "7sTfz2ISJir0",
        "outputId": "e7cdc207-d4cf-4d25-a2f4-9a9a9bbc9305"
      },
      "source": [
        " energy_df.info()"
      ],
      "execution_count": 6,
      "outputs": [
        {
          "output_type": "stream",
          "text": [
            "<class 'pandas.core.frame.DataFrame'>\n",
            "RangeIndex: 768 entries, 0 to 767\n",
            "Data columns (total 18 columns):\n",
            " #   Column          Non-Null Count  Dtype  \n",
            "---  ------          --------------  -----  \n",
            " 0   Compactness     768 non-null    float64\n",
            " 1   S_Surface       768 non-null    float64\n",
            " 2   S_Wall          768 non-null    float64\n",
            " 3   S_Roof          768 non-null    float64\n",
            " 4   Overall_Height  768 non-null    int64  \n",
            " 5   S_Glazing       768 non-null    float64\n",
            " 6   Heating Load    768 non-null    float64\n",
            " 7   Cooling Load    768 non-null    float64\n",
            " 8   Orientation_2   768 non-null    int64  \n",
            " 9   Orientation_3   768 non-null    int64  \n",
            " 10  Orientation_4   768 non-null    int64  \n",
            " 11  Orientation_5   768 non-null    int64  \n",
            " 12  Glass_0         768 non-null    int64  \n",
            " 13  Glass_1         768 non-null    int64  \n",
            " 14  Glass_2         768 non-null    int64  \n",
            " 15  Glass_3         768 non-null    int64  \n",
            " 16  Glass_4         768 non-null    int64  \n",
            " 17  Glass_5         768 non-null    int64  \n",
            "dtypes: float64(7), int64(11)\n",
            "memory usage: 108.1 KB\n"
          ],
          "name": "stdout"
        }
      ]
    },
    {
      "cell_type": "markdown",
      "metadata": {
        "id": "xTDWAwTbs1bZ"
      },
      "source": [
        "Разобьем датасет на обучающую и тестовую выборки. Предсказывать будем столбец Heating Load."
      ]
    },
    {
      "cell_type": "code",
      "metadata": {
        "colab": {
          "base_uri": "https://localhost:8080/"
        },
        "id": "ws7aX9zcLkqJ",
        "outputId": "26901f05-1d1d-4206-eb21-f5d0fa7a6ff5"
      },
      "source": [
        "X = energy_df.iloc[:, : 6].join(energy_df.iloc[:, 8:]).values\n",
        "y = energy_df.iloc[:, 6].values\n",
        "print(X)"
      ],
      "execution_count": 7,
      "outputs": [
        {
          "output_type": "stream",
          "text": [
            "[[9.800e-01 5.145e+02 2.940e+02 ... 0.000e+00 0.000e+00 0.000e+00]\n",
            " [9.800e-01 5.145e+02 2.940e+02 ... 0.000e+00 0.000e+00 0.000e+00]\n",
            " [9.800e-01 5.145e+02 2.940e+02 ... 0.000e+00 0.000e+00 0.000e+00]\n",
            " ...\n",
            " [6.200e-01 8.085e+02 3.675e+02 ... 0.000e+00 0.000e+00 1.000e+00]\n",
            " [6.200e-01 8.085e+02 3.675e+02 ... 0.000e+00 0.000e+00 1.000e+00]\n",
            " [6.200e-01 8.085e+02 3.675e+02 ... 0.000e+00 0.000e+00 1.000e+00]]\n"
          ],
          "name": "stdout"
        }
      ]
    },
    {
      "cell_type": "code",
      "metadata": {
        "colab": {
          "base_uri": "https://localhost:8080/"
        },
        "id": "3zHjVlKMPK_r",
        "outputId": "179f4efd-bd93-41ce-8235-ede4fbbea0e4"
      },
      "source": [
        "print(y)"
      ],
      "execution_count": 8,
      "outputs": [
        {
          "output_type": "stream",
          "text": [
            "[15.55 15.55 15.55 15.55 20.84 21.46 20.71 19.68 19.5  19.95 19.34 18.31\n",
            " 17.05 17.41 16.95 15.98 28.52 29.9  29.63 28.75 24.77 23.93 24.77 23.93\n",
            "  6.07  6.05  6.01  6.04  6.37  6.4   6.37  6.4   6.85  6.79  6.77  6.81\n",
            "  7.18  7.1   7.1   7.1  10.85 10.54 10.77 10.56  8.6   8.49  8.45  8.5\n",
            " 24.58 24.63 24.63 24.59 29.03 29.87 29.14 28.09 26.28 26.91 26.37 25.27\n",
            " 23.53 24.03 23.54 22.58 35.56 37.12 36.9  35.94 32.96 32.12 32.94 32.21\n",
            " 10.36 10.43 10.36 10.39 10.71 10.8  10.7  10.75 11.11 11.13 11.09 11.16\n",
            " 11.68 11.69 11.7  11.69 15.41 15.2  15.42 15.21 12.96 12.97 12.93 13.02\n",
            " 24.29 24.31 24.13 24.25 28.88 29.68 28.83 27.9  26.48 27.02 26.33 25.36\n",
            " 23.75 24.23 23.67 22.79 35.65 37.26 36.97 36.03 33.16 32.4  33.12 32.41\n",
            " 10.42 10.46 10.32 10.45 10.64 10.72 10.55 10.68 11.45 11.46 11.32 11.49\n",
            " 11.45 11.42 11.33 11.43 15.41 15.18 15.34 15.19 12.88 13.   12.97 13.04\n",
            " 24.28 24.4  24.11 24.35 28.07 29.01 29.62 29.05 25.41 26.47 26.89 26.46\n",
            " 22.93 23.84 24.17 23.87 35.78 35.48 36.97 36.7  32.52 33.28 32.33 33.24\n",
            " 10.39 10.34 10.35 10.38 10.77 10.68 10.68 10.7  11.22 11.16 11.1  11.14\n",
            " 11.59 11.6  11.53 11.61 15.16 15.36 15.12 15.36 12.68 12.63 12.71 12.73\n",
            " 24.38 24.23 24.04 24.32 29.06 28.05 28.86 29.79 26.44 25.37 26.33 27.03\n",
            " 23.8  22.8  23.59 24.24 36.86 35.89 35.45 37.1  33.08 32.38 33.09 32.31\n",
            " 10.08 10.15 10.07 10.14 10.66 10.68 10.53 10.72 11.18 11.22 11.07 11.2\n",
            " 11.44 11.42 11.33 11.43 15.4  15.19 15.32 15.16 12.85 13.04 13.   13.\n",
            " 24.35 24.33 24.03 24.26 29.83 29.08 28.03 29.02 27.03 26.45 25.36 26.45\n",
            " 24.37 23.89 22.89 23.86 37.03 36.71 36.77 35.48 32.31 33.21 32.46 33.27\n",
            " 10.47 10.37 10.34 10.39 10.78 10.7  10.67 13.69 11.21 11.14 11.11 11.16\n",
            " 11.38 11.34 11.22 11.34 15.16 15.37 15.12 15.36 12.59 12.74 12.8  12.62\n",
            " 28.15 28.15 28.37 28.41 32.68 33.48 32.84 32.   29.54 30.05 29.6  28.66\n",
            " 26.84 27.27 26.97 26.19 38.67 40.03 39.86 39.04 36.96 36.13 36.91 36.43\n",
            " 12.43 12.5  12.41 12.45 12.57 12.65 12.57 12.63 12.78 12.93 12.73 12.72\n",
            " 13.17 13.18 13.17 13.18 17.5  17.35 17.52 17.37 15.09 15.12 15.08 15.16\n",
            " 28.67 28.57 28.18 28.6  32.46 33.27 32.33 31.66 29.34 29.87 29.27 28.4\n",
            " 25.74 25.98 25.38 24.94 38.57 40.19 39.97 38.98 36.95 36.28 36.86 36.45\n",
            " 12.35 12.45 12.16 12.3  12.33 12.29 12.2  12.49 12.85 12.87 12.73 12.95\n",
            " 13.05 12.93 12.77 13.   17.14 16.84 17.02 17.11 14.34 14.66 14.6  14.6\n",
            " 28.67 28.56 28.17 28.63 31.63 32.4  32.68 32.29 28.4  29.4  29.43 29.07\n",
            " 24.7  25.48 25.37 25.17 39.04 38.35 39.81 39.83 35.99 36.59 35.64 36.52\n",
            " 11.8  12.03 11.98 11.69 12.41 12.28 12.1  12.19 12.34 12.46 12.31 12.12\n",
            " 12.97 13.01 12.74 12.84 16.83 16.93 16.66 16.86 13.91 14.34 13.95 13.99\n",
            " 28.7  28.55 28.15 28.62 32.67 31.69 32.07 33.28 29.47 28.42 29.08 29.88\n",
            " 25.66 24.96 25.43 26.   40.   38.84 38.33 40.12 36.95 36.45 36.81 36.26\n",
            " 12.32 12.3  12.18 12.43 12.36 12.49 12.17 12.28 12.91 12.95 12.67 12.86\n",
            " 12.95 13.   12.86 12.92 16.99 16.69 16.56 16.62 14.33 14.61 14.61 14.65\n",
            " 28.69 28.58 28.15 28.61 33.13 32.31 31.53 32.46 29.71 29.09 28.31 29.39\n",
            " 25.7  25.17 24.6  25.49 39.89 39.83 39.01 38.65 35.69 36.64 36.06 36.7\n",
            " 12.12 11.67 11.64 12.02 12.27 12.19 12.25 12.27 12.47 12.12 12.18 12.47\n",
            " 12.93 12.82 12.78 13.02 16.73 16.86 16.76 16.92 13.68 13.99 14.16 13.86\n",
            " 32.26 32.26 32.49 32.53 36.47 37.24 36.66 35.96 31.89 32.39 32.09 31.29\n",
            " 29.22 29.91 29.53 28.65 41.4  42.62 42.5  41.67 40.78 39.97 40.71 40.43\n",
            " 14.52 14.61 14.5  14.55 14.51 14.6  14.5  14.58 14.51 14.7  14.42 14.42\n",
            " 15.23 15.23 15.23 15.23 19.52 19.36 19.48 19.42 15.09 17.17 17.14 17.14\n",
            " 32.82 32.71 32.24 32.72 35.84 36.57 36.06 35.69 32.48 32.74 32.13 31.64\n",
            " 28.95 29.49 28.64 28.01 41.64 43.1  42.74 41.92 40.78 40.15 40.57 40.42\n",
            " 14.54 14.45 14.18 14.5  14.7  14.66 14.4  14.71 14.75 14.71 14.33 14.62\n",
            " 15.34 15.29 15.09 15.3  19.2  18.88 18.9  19.12 16.76 17.23 17.26 17.15\n",
            " 32.82 32.69 32.23 32.75 34.24 34.95 35.05 34.29 31.28 32.12 32.05 31.84\n",
            " 28.67 29.67 29.47 28.91 41.26 41.3  42.49 42.08 39.32 39.84 38.89 39.68\n",
            " 13.97 14.22 14.1  13.78 14.07 14.03 13.94 13.86 14.32 14.56 14.33 14.08\n",
            " 15.16 15.18 14.72 14.9  18.48 18.71 18.48 18.46 16.47 16.35 16.55 16.74\n",
            " 32.85 32.67 32.21 32.74 36.45 35.73 35.4  36.57 32.38 31.66 32.15 32.75\n",
            " 28.93 28.05 28.64 29.52 42.77 41.73 41.32 42.96 40.68 40.4  40.6  40.11\n",
            " 14.37 14.48 14.32 14.44 14.6  14.7  14.47 14.66 14.54 14.62 14.53 14.71\n",
            " 15.34 15.29 15.09 15.3  19.06 19.13 19.   18.84 16.44 16.9  16.94 16.77\n",
            " 32.84 32.72 32.21 32.73 35.67 35.01 34.72 35.24 32.31 31.81 31.12 32.06\n",
            " 30.   29.5  29.06 29.92 42.11 41.96 41.09 40.79 38.82 39.72 39.31 39.86\n",
            " 14.41 14.19 14.17 14.39 12.43 12.63 12.76 12.42 14.12 14.28 14.37 14.21\n",
            " 14.96 14.92 14.92 15.16 17.69 18.19 18.16 17.88 16.54 16.44 16.48 16.64]\n"
          ],
          "name": "stdout"
        }
      ]
    },
    {
      "cell_type": "code",
      "metadata": {
        "colab": {
          "base_uri": "https://localhost:8080/"
        },
        "id": "Be1-aLdLPfmh",
        "outputId": "fc490d8c-0331-4f64-e2c4-18fb2b26bfa0"
      },
      "source": [
        "from sklearn.model_selection import train_test_split\n",
        "\n",
        "X_train, X_test, y_train, y_test = train_test_split(X, y, test_size=0.30)\n",
        "\n",
        "X_train"
      ],
      "execution_count": 9,
      "outputs": [
        {
          "output_type": "execute_result",
          "data": {
            "text/plain": [
              "array([[6.200e-01, 8.085e+02, 3.675e+02, ..., 0.000e+00, 0.000e+00,\n",
              "        1.000e+00],\n",
              "       [6.600e-01, 7.595e+02, 3.185e+02, ..., 0.000e+00, 0.000e+00,\n",
              "        0.000e+00],\n",
              "       [7.400e-01, 6.860e+02, 2.450e+02, ..., 0.000e+00, 0.000e+00,\n",
              "        0.000e+00],\n",
              "       ...,\n",
              "       [7.100e-01, 7.105e+02, 2.695e+02, ..., 0.000e+00, 1.000e+00,\n",
              "        0.000e+00],\n",
              "       [9.800e-01, 5.145e+02, 2.940e+02, ..., 1.000e+00, 0.000e+00,\n",
              "        0.000e+00],\n",
              "       [6.600e-01, 7.595e+02, 3.185e+02, ..., 0.000e+00, 0.000e+00,\n",
              "        0.000e+00]])"
            ]
          },
          "metadata": {
            "tags": []
          },
          "execution_count": 9
        }
      ]
    },
    {
      "cell_type": "markdown",
      "metadata": {
        "id": "qdLnMYUftfN9"
      },
      "source": [
        "Масштабируем данные."
      ]
    },
    {
      "cell_type": "code",
      "metadata": {
        "colab": {
          "base_uri": "https://localhost:8080/"
        },
        "id": "leedd1WPQ3Q0",
        "outputId": "badc68a6-505d-40bf-d70a-bf56299a601d"
      },
      "source": [
        "from sklearn.preprocessing import StandardScaler\n",
        "scaler = StandardScaler()\n",
        "scaler.fit(X_train)\n",
        "\n",
        "X_train = scaler.transform(X_train)\n",
        "X_test = scaler.transform(X_test)\n",
        "X_train"
      ],
      "execution_count": 10,
      "outputs": [
        {
          "output_type": "execute_result",
          "data": {
            "text/plain": [
              "array([[-1.35049563,  1.53607943,  1.20066368, ..., -0.51045409,\n",
              "        -0.49300665,  2.14330352],\n",
              "       [-0.97930374,  0.98871735,  0.0399861 , ..., -0.51045409,\n",
              "        -0.49300665, -0.46656947],\n",
              "       [-0.23691996,  0.16767423, -1.70103028, ..., -0.51045409,\n",
              "        -0.49300665, -0.46656947],\n",
              "       ...,\n",
              "       [-0.51531388,  0.44135527, -1.12069149, ..., -0.51045409,\n",
              "         2.02837021, -0.46656947],\n",
              "       [ 1.99023137, -1.74809304, -0.54035269, ...,  1.95904003,\n",
              "        -0.49300665, -0.46656947],\n",
              "       [-0.97930374,  0.98871735,  0.0399861 , ..., -0.51045409,\n",
              "        -0.49300665, -0.46656947]])"
            ]
          },
          "metadata": {
            "tags": []
          },
          "execution_count": 10
        }
      ]
    },
    {
      "cell_type": "markdown",
      "metadata": {
        "id": "MT5XPEKIJbL1"
      },
      "source": [
        "# Regression"
      ]
    },
    {
      "cell_type": "markdown",
      "metadata": {
        "id": "0CvcYbs99Vp9"
      },
      "source": [
        "## Линейная регрессия"
      ]
    },
    {
      "cell_type": "markdown",
      "metadata": {
        "id": "0Kmplprs9bx-"
      },
      "source": [
        "Ссылка: https://scikit-learn.org/stable/modules/generated/sklearn.linear_model.LinearRegression.html"
      ]
    },
    {
      "cell_type": "code",
      "metadata": {
        "colab": {
          "base_uri": "https://localhost:8080/"
        },
        "id": "VOsSDVbA9fg2",
        "outputId": "a45a451c-9ccb-4e85-dcd0-bc87e1b460a8"
      },
      "source": [
        "from sklearn.linear_model import LinearRegression\n",
        "lreg = LinearRegression().fit(X_train, y_train)\n",
        "y_pred = lreg.predict(X_test)\n",
        "\n",
        "model_score = lreg.score(X_test,y_test)\n",
        "r_square = metrics.r2_score(y_test, y_pred)\n",
        "mse = metrics.mean_squared_error(y_test, y_pred)\n",
        "mae = metrics.mean_absolute_error(y_test, y_pred)\n",
        "\n",
        "\n",
        "print(\"Model Score            : \", model_score)\n",
        "print(\"R Square               : \", r_square)\n",
        "print(\"Mean Squared Error     : \", mse)\n",
        "print(\"Root Mean Squared Error: \", mse**(1/2))\n",
        "print(\"Mean Absolute Error    : \", mae)"
      ],
      "execution_count": 11,
      "outputs": [
        {
          "output_type": "stream",
          "text": [
            "Model Score            :  0.9231303855680261\n",
            "R Square               :  0.9231303855680261\n",
            "Mean Squared Error     :  8.229924585838194\n",
            "Root Mean Squared Error:  2.8687845136639654\n",
            "Mean Absolute Error    :  2.0779769416513556\n"
          ],
          "name": "stdout"
        }
      ]
    },
    {
      "cell_type": "markdown",
      "metadata": {
        "id": "pZp6Pa_tMCjy"
      },
      "source": [
        "## Регрессия дерева решений\n",
        "\n",
        "\n"
      ]
    },
    {
      "cell_type": "markdown",
      "metadata": {
        "id": "joirAL68OHZk"
      },
      "source": [
        "Ссылка: https://scikit-learn.org/stable/modules/generated/sklearn.tree.DecisionTreeRegressor.html"
      ]
    },
    {
      "cell_type": "markdown",
      "metadata": {
        "id": "H-5Mkcuw5BAu"
      },
      "source": [
        "Подберем гиперпараметр максимальную глубину дерева. "
      ]
    },
    {
      "cell_type": "code",
      "metadata": {
        "colab": {
          "base_uri": "https://localhost:8080/"
        },
        "id": "zGKlMLm529hc",
        "outputId": "faeea97b-5c2d-4ee0-9fda-902dfc51546a"
      },
      "source": [
        "from sklearn.tree import DecisionTreeRegressor\n",
        "\n",
        "clf = GridSearchCV(DecisionTreeRegressor(), {'max_depth': range(2,10,1)})\n",
        "\n",
        "clf.fit(X_train, y_train)\n",
        "\n",
        "clf.best_params_"
      ],
      "execution_count": null,
      "outputs": [
        {
          "output_type": "execute_result",
          "data": {
            "text/plain": [
              "{'max_depth': 7}"
            ]
          },
          "metadata": {
            "tags": []
          },
          "execution_count": 42
        }
      ]
    },
    {
      "cell_type": "code",
      "metadata": {
        "colab": {
          "base_uri": "https://localhost:8080/"
        },
        "id": "AyOw1MtBTi1H",
        "outputId": "eea9ef0a-c9e1-492c-a450-419015e7bb46"
      },
      "source": [
        "dtr = DecisionTreeRegressor(max_depth=7).fit(X_train, y_train)\n",
        "y_pred = dtr.predict(X_test)\n",
        "\n",
        "\n",
        "model_score = dtr.score(X_test,y_test)\n",
        "r_square = metrics.r2_score(y_test, y_pred)\n",
        "mse = metrics.mean_squared_error(y_test, y_pred)\n",
        "mae = metrics.mean_absolute_error(y_test, y_pred)\n",
        "\n",
        "print(\"Model Score            : \", model_score)\n",
        "print(\"R Square               : \", r_square)\n",
        "print(\"Mean Squared Error     : \", mse)\n",
        "print(\"Root Mean Squared Error: \", mse**(1/2))\n",
        "print(\"Mean Absolute Error    : \", mae)"
      ],
      "execution_count": null,
      "outputs": [
        {
          "output_type": "stream",
          "text": [
            "Model Score            :  0.9971331659818846\n",
            "R Square               :  0.9971331659818846\n",
            "Mean Squared Error     :  0.31929375082776457\n",
            "Root Mean Squared Error:  0.5650608381650285\n",
            "Mean Absolute Error    :  0.3964787541462867\n"
          ],
          "name": "stdout"
        }
      ]
    },
    {
      "cell_type": "markdown",
      "metadata": {
        "id": "x-JT4MXwMJhy"
      },
      "source": [
        "## LASSO"
      ]
    },
    {
      "cell_type": "markdown",
      "metadata": {
        "id": "CM5LYCKWPUt8"
      },
      "source": [
        "Ссылка: https://scikit-learn.org/stable/modules/generated/sklearn.linear_model.Lasso.html"
      ]
    },
    {
      "cell_type": "code",
      "metadata": {
        "colab": {
          "base_uri": "https://localhost:8080/"
        },
        "id": "cjmT5asuUIKc",
        "outputId": "bf23a693-8a2e-48f5-ce3f-2a041db17456"
      },
      "source": [
        "from sklearn.linear_model import Lasso\n",
        "ls = Lasso().fit(X_train, y_train)\n",
        "y_pred = ls.predict(X_test)\n",
        "\n",
        "model_score = ls.score(X_test,y_test)\n",
        "r_square = metrics.r2_score(y_test, y_pred)\n",
        "mse = metrics.mean_squared_error(y_test, y_pred)\n",
        "mae = metrics.mean_absolute_error(y_test, y_pred)\n",
        "\n",
        "\n",
        "print(\"Model Score            : \", model_score)\n",
        "print(\"R Square               : \", r_square)\n",
        "print(\"Mean Squared Error     : \", mse)\n",
        "print(\"Root Mean Squared Error: \", mse**(1/2))\n",
        "print(\"Mean Absolute Error    : \", mae)"
      ],
      "execution_count": null,
      "outputs": [
        {
          "output_type": "stream",
          "text": [
            "Model Score            :  0.8820178055965955\n",
            "R Square               :  0.8820178055965955\n",
            "Mean Squared Error     :  13.140271513422979\n",
            "Root Mean Squared Error:  3.6249512429028585\n",
            "Mean Absolute Error    :  2.7257425220758167\n"
          ],
          "name": "stdout"
        }
      ]
    },
    {
      "cell_type": "markdown",
      "metadata": {
        "id": "aCfDv9itMM34"
      },
      "source": [
        "## Гребневая регрессия"
      ]
    },
    {
      "cell_type": "markdown",
      "metadata": {
        "id": "tk6DjwgaPGBx"
      },
      "source": [
        "Ссылка: https://scikit-learn.org/stable/modules/generated/sklearn.linear_model.Ridge.html"
      ]
    },
    {
      "cell_type": "code",
      "metadata": {
        "colab": {
          "base_uri": "https://localhost:8080/"
        },
        "id": "JmSRLhwiWjNT",
        "outputId": "1bae940a-fbff-409b-8636-797b581e8259"
      },
      "source": [
        "from sklearn.linear_model import Ridge\n",
        "Rid = Ridge().fit(X_train, y_train)\n",
        "y_pred = Rid.predict(X_test)\n",
        "\n",
        "model_score = Rid.score(X_test,y_test)\n",
        "r_square = metrics.r2_score(y_test, y_pred)\n",
        "mse = metrics.mean_squared_error(y_test, y_pred)\n",
        "mae = metrics.mean_absolute_error(y_test, y_pred)\n",
        "\n",
        "\n",
        "print(\"Model Score            : \", model_score)\n",
        "print(\"R Square               : \", r_square)\n",
        "print(\"Mean Squared Error     : \", mse)\n",
        "print(\"Root Mean Squared Error: \", mse**(1/2))\n",
        "print(\"Mean Absolute Error    : \", mae)"
      ],
      "execution_count": null,
      "outputs": [
        {
          "output_type": "stream",
          "text": [
            "Model Score            :  0.9241596082958602\n",
            "R Square               :  0.9241596082958603\n",
            "Mean Squared Error     :  8.446726590533649\n",
            "Root Mean Squared Error:  2.9063252726654065\n",
            "Mean Absolute Error    :  2.062367362456845\n"
          ],
          "name": "stdout"
        }
      ]
    },
    {
      "cell_type": "markdown",
      "metadata": {
        "id": "84WhPDdOMRrQ"
      },
      "source": [
        "## Elastic Net регрессия"
      ]
    },
    {
      "cell_type": "markdown",
      "metadata": {
        "id": "U5kXi2tZPj7_"
      },
      "source": [
        "Ссылка: https://scikit-learn.org/stable/modules/generated/sklearn.linear_model.ElasticNet.html"
      ]
    },
    {
      "cell_type": "code",
      "metadata": {
        "colab": {
          "base_uri": "https://localhost:8080/"
        },
        "id": "e2B0bhABW0F_",
        "outputId": "a5894d4d-4121-48fb-c880-034834bcd5bd"
      },
      "source": [
        "from sklearn.linear_model import ElasticNet\n",
        "Rln = ElasticNet().fit(X_train, y_train)\n",
        "y_pred = Rln.predict(X_test)\n",
        "\n",
        "model_score = Rln.score(X_test,y_test)\n",
        "r_square = metrics.r2_score(y_test, y_pred)\n",
        "mse = metrics.mean_squared_error(y_test, y_pred)\n",
        "mae = metrics.mean_absolute_error(y_test, y_pred)\n",
        "\n",
        "\n",
        "print(\"Model Score            : \", model_score)\n",
        "print(\"R Square               : \", r_square)\n",
        "print(\"Mean Squared Error     : \", mse)\n",
        "print(\"Root Mean Squared Error: \", mse**(1/2))\n",
        "print(\"Mean Absolute Error    : \", mae)"
      ],
      "execution_count": null,
      "outputs": [
        {
          "output_type": "stream",
          "text": [
            "Model Score            :  0.8330996999131024\n",
            "R Square               :  0.8330996999131023\n",
            "Mean Squared Error     :  18.58852744605608\n",
            "Root Mean Squared Error:  4.311441458034201\n",
            "Mean Absolute Error    :  3.3473818892635228\n"
          ],
          "name": "stdout"
        }
      ]
    },
    {
      "cell_type": "markdown",
      "metadata": {
        "id": "HxQ5e_08iU-L"
      },
      "source": [
        "# Выводы по регрессии"
      ]
    },
    {
      "cell_type": "markdown",
      "metadata": {
        "id": "DTJY55GlivSW"
      },
      "source": [
        "Анализируя метрики ошибок можно увидеть что наилучшее предсказание дал алгоритм дерево решений.\n",
        "\n",
        "Линейная и гребневая регрессия при высоком значении коэффицента детерминации (R^2 Square) дали не такую высокую среднюю абсолютную ошибку (Mean Absolute Error), однако уступают дереву решений.\n",
        "\n",
        "Алгоритмы LASSO и Elastic Net регрессии дали наихудшие значения коэффицента детерминации из представленных алгоритмов. Они так же имеют высокие значения среднеквадратичной ошибки, чувствительной к выбросам."
      ]
    }
  ]
}